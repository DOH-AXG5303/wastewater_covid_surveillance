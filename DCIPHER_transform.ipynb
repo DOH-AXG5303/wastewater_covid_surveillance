{
 "cells": [
  {
   "cell_type": "markdown",
   "id": "222b62b8-3787-4b42-b84a-042d1c42cab1",
   "metadata": {},
   "source": [
    "# Explore DCIPHER upload requirements "
   ]
  },
  {
   "cell_type": "code",
   "execution_count": 1,
   "id": "d88c6bb2-ecd0-4e95-bb7d-38974e61d359",
   "metadata": {},
   "outputs": [],
   "source": [
    "%run -i \"DCIPHER_transform.py\""
   ]
  },
  {
   "cell_type": "code",
   "execution_count": 2,
   "id": "ca3380e8-0df2-4feb-8fc5-07c28afcacab",
   "metadata": {},
   "outputs": [],
   "source": [
    "%run -i \"viral_lims_export.py\""
   ]
  },
  {
   "cell_type": "code",
   "execution_count": 3,
   "id": "70ff0305-0a9c-4885-9f08-d3db325fc900",
   "metadata": {},
   "outputs": [],
   "source": [
    "from lims_login import redcap_tokens_prod\n",
    "from lims_login import redcap_api_url\n",
    "from viral_lims_export import project_dtype_summary"
   ]
  },
  {
   "cell_type": "markdown",
   "id": "031fdd78-0bd7-40d9-9c68-ff770927acb1",
   "metadata": {},
   "source": [
    "# Validating columns with DCIPHER\n",
    "\n",
    "NPDES permit number (<2-letter abbreviation><#######>) VALIDATION COMPLETE\n",
    "\n",
    "    - field name: epaid\n",
    "    - Data source: REDCap PID170 \n",
    "    - Conclusion: currently in valid form - manual entry for new WW sites have risk of entry errors in the future\n",
    "\n",
    "ZIP code (#####) VALIDATION COMPLETE\n",
    "\n",
    "    - field name: zipcode\n",
    "    - Data source: REDCap PID170 \n",
    "    - Conclusion: currently in valid form - manual entry for new WW sites have risk of entry errors in the future\n",
    "\n",
    "category\n",
    "\n",
    "\n",
    "    - field name: zipcode\n",
    "\n",
    "        [\n",
    "         'reporting_jurisdiction',\n",
    "         'sample_location',\n",
    "         'institution_type',\n",
    "         'wwtp_jurisdiction',\n",
    "         'stormwater_input',\n",
    "         'influent_equilibrated',\n",
    "         'sample_type',\n",
    "         'sample_matrix',\n",
    "         'pretreatment',\n",
    "         'solids_separation',\n",
    "         'concentration_method',\n",
    "         'extraction_method',\n",
    "         'ext_blank',\n",
    "         'rec_eff_target_name',\n",
    "         'rec_eff_spike_matrix',\n",
    "         'pasteurized',\n",
    "         'pcr_target',\n",
    "         'pcr_type',\n",
    "         'hum_frac_target_mic',\n",
    "         'hum_frac_target_chem',\n",
    "         'other_norm_name',\n",
    "         'quant_stan_type',\n",
    "         'num_no_target_control',\n",
    "         'sars_cov2_units',\n",
    "         'sars_cov2_below_lod',\n",
    "         'ntc_amplify',\n",
    "         'inhibition_detect',\n",
    "         'inhibition_adjust',\n",
    "         'hum_frac_mic_unit',\n",
    "         'hum_frac_chem_unit',\n",
    "         'other_norm_unit',\n",
    "         'quality_flag']\n",
    "\n",
    "\n",
    "date ([yyyy]-[mm]-[dd])  VALIDATION COMPLETE\n",
    "\n",
    "    - field name: sample_collect_date\n",
    "    - Data source: LIMS > PID171 \n",
    "    - Conclusion: currently in valid form - no transform needed\n",
    "    \n",
    "    - field name: test_result_date\n",
    "    - Data source: LIMS > PID171 \n",
    "    - Conclusion: currently in valid form - no transform needed\n",
    "\n",
    "float    VALIDATION COMPLETE\n",
    "\n",
    "    - field name:\n",
    "\n",
    "         'sewage_travel_time',\n",
    "         'capacity_mgd',\n",
    "         'industrial_input',\n",
    "         'composite_freq',\n",
    "         'collection_storage_time',\n",
    "         'collection_storage_temp',\n",
    "         'pre_conc_storage_time',\n",
    "         'pre_conc_storage_temp',\n",
    "         'pre_ext_storage_time',\n",
    "         'pre_ext_storage_temp',\n",
    "         'tot_conc_vol',\n",
    "         'rec_eff_spike_conc',\n",
    "         'flow_rate',\n",
    "         'ph',\n",
    "         'conductivity',\n",
    "         'tss',\n",
    "         'collection_water_temp',\n",
    "         'equiv_sewage_amt',\n",
    "         'sars_cov2_avg_conc',\n",
    "         'sars_cov2_std_error',\n",
    "         'sars_cov2_cl_95_lo',\n",
    "         'sars_cov2_cl_95_up',\n",
    "         'lod_sewage',\n",
    "         'rec_eff_percent',\n",
    "         'hum_frac_mic_conc',\n",
    "         'hum_frac_chem_conc',\n",
    "         'other_norm_conc'\n",
    "\n",
    "\n",
    "integer  VALIDATION COMPLETE\n",
    "\n",
    "    - field name: population_served\n",
    "    - Data source: REDCap PID170\n",
    "    - Conclusion: currently in valid form - manual entry for new WW sites have risk of entry errors in the future\n",
    "\n",
    "jurisdiction id (a string 20 characters or less, containing only numbers, English alphabetic characters, underscores, and hyphens; white space is not allowed; not case sensitive) \n",
    "\n",
    "VALIDATION COMPLETE\n",
    "\n",
    "    - field name: sample_id\n",
    "    - Data source: REDCap PID171\n",
    "    - Conclusion: currently in valid form - auto generated in REDCap\n",
    "    \n",
    "    \n",
    "    - field name: lab_id (\"micro_lab_id\" in PID171)\n",
    "    - Data source: REDCap PID171 \n",
    "    - Conclusion: currently in valid form - manual entry for new WW sites have risk of entry errors in the future\n",
    "\n",
    "\n",
    "list (comma-separated strings) VALIDATION COMPLETE\n",
    "\n",
    "    - field name: county_names\n",
    "    - Data source: REDCap PID170\n",
    "    - Conclusion: valid form after transformation (DCIPHER import prep)\n",
    "    \n",
    "    \n",
    "    - field name: other_jurisdiction\n",
    "    - Data source: REDCap PID170\n",
    "    - Conclusion: WARNING: data is not in list format and there is no transformation function in place. This field does not have any data, but this may cause problems in the future. \n",
    "\n",
    "string VALIDATION COMPLETE\n",
    "\n",
    "    - field name:\n",
    "    \n",
    "         'sample_location_specify',\n",
    "         'wwtp_name',\n",
    "         'pretreatment_specify',\n",
    "         'pcr_target_ref',\n",
    "         'lod_ref',\n",
    "         'hum_frac_target_mic_ref',\n",
    "         'hum_frac_target_chem_ref',\n",
    "         'other_norm_ref',\n",
    "         'stan_ref',\n",
    "         'inhibition_method'\n",
    "         \n",
    "time zone (UTC-[hh]:[mm]): VALIDATION COMPLETE\n",
    "\n",
    "    - field name: time_zone\n",
    "    - Data source: REDCap PID171 (user input)\n",
    "    - Conclusion: already in valid form from source \n",
    "\n",
    "time, 24-hr ([hh]:[mm]) VALIDATION COMPLETE                                                                                                                                              \n",
    "\n",
    "    - field name: sample_collect_time (REDCap)\n",
    "    - Data source: LIMS > PID171 \n",
    "    - Conclusion: Transformation from LIMS to REDCap imports correct format into REDCap\n",
    "\n"
   ]
  },
  {
   "cell_type": "code",
   "execution_count": null,
   "id": "1c7f30e3-c3c7-44f5-b67b-f661547e02c1",
   "metadata": {},
   "outputs": [],
   "source": [
    "import pandas as pd\n",
    "\n",
    "df_map = pd.read_excel(\"NWSS Data Dictionary_v2_0_3_20210621.xlsx\", sheet_name=\"Metadata\", header = 0)\n",
    "\n",
    "remove = [\"Reporter\", \n",
    "         \"Collection Site\",\n",
    "          \"WWTP\",\n",
    "          \"Collection Method\",\n",
    "          \"Processing Method\",\n",
    "          \"SARSCoV2 Quantification Method\",\n",
    "          \"Sample\",\n",
    "          \"SARSCoV2 Quantification Results\",\n",
    "          ]\n",
    "\n",
    "df_map = df_map[~df_map[\"Field Name\"].isin(remove)] #rows in excel used for separate categories, remove\n",
    "df_map = df_map.dropna(how = \"all\").reset_index(drop = True) # drop blank rows\n",
    "\n",
    "print(f\" DCIPHER data map/dictionary contains: {df_map.shape[0]} fields\")"
   ]
  },
  {
   "cell_type": "code",
   "execution_count": null,
   "id": "2f1c0b0d-f8e4-416e-bdea-de4032f28fad",
   "metadata": {},
   "outputs": [],
   "source": [
    "df_map_01 = df_map.iloc[:,0:2].copy()\n",
    "df_map_01.groupby(\"Data Type\")[\"Field Name\"].count()"
   ]
  },
  {
   "cell_type": "code",
   "execution_count": null,
   "id": "3b03620c-0066-4cf6-b2fe-1d14d8f7ea18",
   "metadata": {},
   "outputs": [],
   "source": [
    "df_map_01[df_map_01[\"Data Type\"] == \"category\"]"
   ]
  },
  {
   "cell_type": "code",
   "execution_count": null,
   "id": "869d8928-b334-457e-89ec-857ad7c33534",
   "metadata": {},
   "outputs": [],
   "source": [
    "category_fields = [i for i in df_map_01[df_map_01[\"Data Type\"] == \"category\"][\"Field Name\"]]\n",
    "complete[category_fields].dtypes"
   ]
  },
  {
   "cell_type": "markdown",
   "id": "f211b098-e6d3-4184-aaa7-2e88eb2adf90",
   "metadata": {},
   "source": [
    "# Category Review\n",
    "\n",
    "    [\n",
    "     'reporting_jurisdiction': [\"REDCap PID170\"], #good\n",
    "     'sample_location': [\"REDCap PID170\"], #good\n",
    "     'institution_type': [\"REDCap PID170\"], #good, PID170 needed conversion from keys to values\n",
    "     'wwtp_jurisdiction': [\"REDCap PID170\"], #good\n",
    "     'stormwater_input': [\"REDCap PID170\"], #good, PID170 needed conversion from keys to values\n",
    "     'influent_equilibrated': [\"REDCap PID170\"], #good, PID170 needed conversion from keys to values\n",
    "     'sample_type': [\"REDCap PID170\"], #good, PID170 needed conversion from keys to values\n",
    "     'sample_matrix': [\"REDCap PID170\"], #good, PID170 needed conversion from keys to values\n",
    "     'pretreatment': [\"REDCap PID171\"], #good, PID171 needed conversion from keys to values\n",
    "     \n",
    "     \n",
    "     'solids_separation', #OK RIGHT NOW, NEED TO COME BACK TO THIS, REDCAP MISSING DROPDOWN VALUES\n",
    "     'concentration_method', #OK RIGHT NOW, NEED TO COME BACK TO THIS, REDCAP MISSING DROPDOWN VALUES\n",
    "     'extraction_method', #OK RIGHT NOW, NEED TO COME BACK TO THIS, REDCAP MISSING DROPDOWN VALUES\n",
    "     'ext_blank', #OK RIGHT NOW, NEED TO COME BACK TO THIS, REDCAP MISSING DROPDOWN VALUES\n",
    "     \n",
    "     \n",
    "     'rec_eff_target_name': [\"REDCap PID176\"], #good, PID176 needed conversion from keys to values\n",
    "     'rec_eff_spike_matrix': [\"REDCap PID176\"], #good, PID176 needed conversion from keys to values\n",
    "     'pasteurized': [\"REDCap PID176\"], #good, PID176 needed conversion from keys to values\n",
    "     'pcr_target': [\"REDCap PID176\"], #good, prior transformation allows only \"n1\" or \"n2\" as possibilities\n",
    "     'pcr_type': [\"REDCap PID176\"], #good, PID176 needed conversion from keys to values\n",
    "     'hum_frac_target_mic': [\"REDCap PID176\"], #good, PID176 needed conversion from keys to values\n",
    "     \n",
    "     'hum_frac_target_chem': [\"REDCap PID176\"], #OK RIGHT NOW, NEED TO COME BACK TO THIS, REDCAP MISSING DROPDOWN VALUES\n",
    "     \n",
    "     'other_norm_name': [\"REDCap PID176\"], #good, PID176 needed conversion from keys to values\n",
    "     'quant_stan_type': [\"REDCap PID170\"], #good\n",
    "     'num_no_target_control': [\"REDCap PID176\"], #good, PID176 needed conversion from keys to values\n",
    "     'sars_cov2_units' : [\"REDCap PID171\"], #good, needed conversion from keys to values\n",
    "     'sars_cov2_below_lod': [\"REDCap PID171\"], #this field is resolved by wide_to_long transformation\n",
    "     'ntc_amplify': [\"REDCap PID171\"], good \n",
    "     'inhibition_detect': [\"REDCap PID171\"], good \n",
    "     'inhibition_adjust': [\"REDCap PID171\"], good \n",
    "     'hum_frac_mic_unit': [\"REDCap PID171\"], #this field is resolved by wide_to_long transformation\n",
    "     'hum_frac_chem_unit': [\"REDCap PID176\"], #good, PID176 needed conversion from keys to values\n",
    "     'other_norm_unit': [\"REDCap PID171\"], #good, PID171 needed conversion from keys to values\n",
    "     'quality_flag':: [\"REDCap PID171\"], good \n",
    "     ]\n"
   ]
  },
  {
   "cell_type": "code",
   "execution_count": null,
   "id": "0b717955-d1f5-4feb-9904-81c14cb16a37",
   "metadata": {},
   "outputs": [],
   "source": [
    "complete[\"county_names\"]"
   ]
  },
  {
   "cell_type": "code",
   "execution_count": null,
   "id": "0c039931-96df-42cd-9973-d621808ac05a",
   "metadata": {},
   "outputs": [],
   "source": [
    "df_pid170[\"sample_location_specify\"].unique()"
   ]
  },
  {
   "cell_type": "code",
   "execution_count": null,
   "id": "030e984c-6f50-42f6-a36a-6cde76ee45be",
   "metadata": {},
   "outputs": [],
   "source": [
    "df_pid171[\"extraction_method\"].unique()"
   ]
  },
  {
   "cell_type": "code",
   "execution_count": null,
   "id": "ce52307a-4a7c-4a63-a7ee-42f6119d72a3",
   "metadata": {},
   "outputs": [],
   "source": []
  },
  {
   "cell_type": "code",
   "execution_count": null,
   "id": "cf92977c-41db-4361-b93c-74cb1c05fcb1",
   "metadata": {},
   "outputs": [],
   "source": []
  },
  {
   "cell_type": "code",
   "execution_count": null,
   "id": "1ae27b7d-3d31-48fc-b9cb-34907774bddc",
   "metadata": {},
   "outputs": [],
   "source": [
    "df_county_codes = pd.read_csv(\"county_codes.csv\")"
   ]
  },
  {
   "cell_type": "code",
   "execution_count": null,
   "id": "12202894-3486-46c8-8839-b010ac91b7c2",
   "metadata": {},
   "outputs": [],
   "source": [
    "county_codes = dict(zip(df_county_codes[\"county\"], df_county_codes[\"code\"])) "
   ]
  },
  {
   "cell_type": "code",
   "execution_count": null,
   "id": "ee649ff3-9b86-4005-ba36-76562c8100ed",
   "metadata": {},
   "outputs": [],
   "source": [
    "county_codes"
   ]
  },
  {
   "cell_type": "code",
   "execution_count": null,
   "id": "2fbd1cfd-1b58-4a65-86ed-7ef71e020e2a",
   "metadata": {},
   "outputs": [],
   "source": [
    "S = pd.Series(county_keys.keys())\n",
    "V = pd.Series(county_keys.values())"
   ]
  },
  {
   "cell_type": "code",
   "execution_count": null,
   "id": "34b91911-02ea-405d-ae7e-abe2df049c00",
   "metadata": {},
   "outputs": [],
   "source": [
    "df = pd.concat([S,V], axis = 1)"
   ]
  },
  {
   "cell_type": "code",
   "execution_count": null,
   "id": "cd47beea-b3c3-46a6-a7e0-daac766218ec",
   "metadata": {},
   "outputs": [],
   "source": [
    "df[1] = df[1].map(county_codes)"
   ]
  },
  {
   "cell_type": "code",
   "execution_count": null,
   "id": "64ae02d9-decd-4b9a-b407-16a97589e286",
   "metadata": {},
   "outputs": [],
   "source": [
    "keys_dict = dict(zip(df[0], df[1]))"
   ]
  },
  {
   "cell_type": "code",
   "execution_count": null,
   "id": "d90fba05-610a-4ccd-93d8-9dc66b6e6e68",
   "metadata": {},
   "outputs": [],
   "source": [
    "keys_dict"
   ]
  },
  {
   "cell_type": "markdown",
   "id": "a96e1d8c-654f-4c10-ba68-155d73eb802a",
   "metadata": {},
   "source": [
    "# Import DCIPHER sample columns to confirm all fields:\n",
    "\n",
    "Conclusions:\n",
    "\n",
    "The following fields are missing in our REDCap merge:\n",
    "\n",
    "{'analysis_ignore',\n",
    " 'dashboard_ignore',\n",
    " 'major_lab_method',\n",
    " 'major_lab_method_desc',\n",
    " 'qc_ignore'}\n",
    " "
   ]
  },
  {
   "cell_type": "code",
   "execution_count": null,
   "id": "454e52af-e325-4f1e-a534-150685122eaa",
   "metadata": {},
   "outputs": [],
   "source": [
    "import pandas as pd\n",
    "import os\n",
    "\n",
    "filepath = r\"C:\\Users\\AXG5303\\OneDrive - Washington State Executive Branch Agencies\\Projects\\WW_DCIPHER\\NWSS_DCIPHER_Wastewater Data_CSV Template_v2_1_All Fields\"\n",
    "\n",
    "pwd = os.getcwd()\n",
    "\n",
    "os.chdir(os.path.dirname(filepath))\n",
    "sample = pd.read_csv(os.path.basename(filepath)+\".csv\")\n",
    "os.chdir(pwd)\n"
   ]
  },
  {
   "cell_type": "code",
   "execution_count": null,
   "id": "6798be50-d8eb-490b-a6bc-b6561e16f092",
   "metadata": {},
   "outputs": [],
   "source": [
    "df_pid171.columns[df_pid171.columns == \"sample_location\"]"
   ]
  },
  {
   "cell_type": "code",
   "execution_count": null,
   "id": "09eb8d43-a08b-4461-9b2d-7691fc633f9b",
   "metadata": {},
   "outputs": [],
   "source": [
    "df_pid170.columns[df_pid170.columns == \"sample_location\"]"
   ]
  },
  {
   "cell_type": "code",
   "execution_count": null,
   "id": "62d2f381-6f60-4a8f-a3bd-799cdbdf505f",
   "metadata": {},
   "outputs": [],
   "source": [
    "df_pid170[[\"sample_location\"]]"
   ]
  },
  {
   "cell_type": "markdown",
   "id": "daab9b4d-1ed6-4446-b5a9-803612963a2f",
   "metadata": {},
   "source": [
    "# Appendix"
   ]
  },
  {
   "cell_type": "code",
   "execution_count": null,
   "id": "49251fe1-3330-4081-a061-dc5632f59b0e",
   "metadata": {},
   "outputs": [],
   "source": [
    "%run -i \"viral_lims_export.py\""
   ]
  },
  {
   "cell_type": "code",
   "execution_count": null,
   "id": "ca3da031-388e-4310-b935-fbc6e612cef0",
   "metadata": {},
   "outputs": [],
   "source": [
    "import pandas as pd\n",
    "\n",
    "df_map = pd.read_excel(\"NWSS Data Dictionary_v2_0_3_20210621.xlsx\", sheet_name=\"Metadata\", header = 0)\n",
    "\n",
    "remove = [\"Reporter\", \n",
    "         \"Collection Site\",\n",
    "          \"WWTP\",\n",
    "          \"Collection Method\",\n",
    "          \"Processing Method\",\n",
    "          \"SARSCoV2 Quantification Method\",\n",
    "          \"Sample\",\n",
    "          \"SARSCoV2 Quantification Results\",\n",
    "          ]\n",
    "\n",
    "df_map = df_map[~df_map[\"Field Name\"].isin(remove)] #rows in excel used for separate categories, remove\n",
    "df_map = df_map.dropna(how = \"all\").reset_index(drop = True) # drop blank rows\n",
    "\n",
    "print(f\" DCIPHER data map/dictionary contains: {df_map.shape[0]} fields\")"
   ]
  },
  {
   "cell_type": "markdown",
   "id": "dc35cbe4-51be-404c-b575-28b8edc2e4ce",
   "metadata": {},
   "source": [
    "### Compare Field Names in DCIPHER dictionary to REDCap Fields"
   ]
  },
  {
   "cell_type": "code",
   "execution_count": null,
   "id": "8a7ea064-5657-43bd-bf34-004cfb9bcc4b",
   "metadata": {},
   "outputs": [],
   "source": [
    "ww_redcap = project_dtype_summary(redcap_api_url, redcap_tokens_prod)\n",
    "\n",
    "df_pid171 = ww_redcap[\"PID171\"]\n",
    "df_pid170 = ww_redcap[\"PID170\"]\n",
    "df_pid176 = ww_redcap[\"PID176\"]\n",
    "df_pid177 = ww_redcap[\"PID177\"]\n",
    "\n",
    "\n",
    "pid171_clms = [i for i in df_pid171.columns]\n",
    "pid170_clms = [i for i in df_pid170.columns]\n",
    "pid176_clms = [i for i in df_pid176.columns]\n",
    "pid177_clms = [i for i in df_pid177.columns]\n",
    "\n",
    "\n",
    "print(f\"PID171 contains: {len(pid171_clms)} columns\")\n",
    "print(f\"PID170 contains: {len(pid170_clms)} columns\")\n",
    "print(f\"PID176 contains: {len(pid176_clms)} columns\")\n",
    "print(f\"PID177 contains: {len(pid177_clms)} columns\")"
   ]
  },
  {
   "cell_type": "code",
   "execution_count": null,
   "id": "f1cdbd60-1530-4976-8ade-8a89e6945ab2",
   "metadata": {},
   "outputs": [],
   "source": [
    "PID171_in_common = list(set(pid171_clms) & set(df_map[\"Field Name\"]))\n",
    "PID170_in_common = list(set(pid170_clms) & set(df_map[\"Field Name\"]))\n",
    "PID176_in_common = list(set(pid176_clms) & set(df_map[\"Field Name\"]))\n",
    "PID177_in_common = list(set(pid177_clms) & set(df_map[\"Field Name\"]))\n",
    "\n",
    "print(f\"PID171 and DCHIPHER data dictionary have {len(PID171_in_common)} common fields\")\n",
    "print(f\"PID170 and DCHIPHER data dictionary have {len(PID170_in_common)} common fields\")\n",
    "print(f\"PID176 and DCHIPHER data dictionary have {len(PID176_in_common)} common fields\")\n",
    "print(f\"PID177 and DCHIPHER data dictionary have {len(PID177_in_common)} common fields\")\n"
   ]
  },
  {
   "cell_type": "code",
   "execution_count": null,
   "id": "5c96690e-c8e3-4501-82aa-dd836fd657b9",
   "metadata": {},
   "outputs": [],
   "source": [
    "# Checking if there are duplicate fields in REDCap project fields\n",
    "REDCap_in_common = PID171_in_common + PID170_in_common + PID176_in_common + PID177_in_common\n"
   ]
  },
  {
   "cell_type": "code",
   "execution_count": null,
   "id": "84d7ee37-652f-4801-ba04-9ac8c8b5050c",
   "metadata": {},
   "outputs": [],
   "source": [
    "s_in_redcap = pd.Series(REDCap_in_common)\n",
    "print(f\"Duplicated Fields: \\n{s_in_redcap[s_in_redcap.duplicated()]}\")\n",
    "print()\n",
    "\n",
    "s_in_redcap = s_in_redcap.unique()\n",
    "print(f\"length of unique fields: {len(s_in_redcap)}\")"
   ]
  },
  {
   "cell_type": "markdown",
   "id": "113b5b44-ada6-4a18-9515-8f468fcc4db5",
   "metadata": {},
   "source": [
    "### Identify Missing Fields (DCIPHER expects 80, REDCap projects add to 72 of these)"
   ]
  },
  {
   "cell_type": "code",
   "execution_count": null,
   "id": "7743fb5b-12ac-43c1-975d-40029c1b3321",
   "metadata": {},
   "outputs": [],
   "source": [
    "set(df_map[\"Field Name\"]) - set(s_in_redcap)"
   ]
  },
  {
   "cell_type": "markdown",
   "id": "fa9e7541-b945-413d-ae38-4395d955838a",
   "metadata": {},
   "source": [
    "### DCIPHER fields from REDCap\n",
    "\n",
    "lab_id: use WW lab ID from PID177 index (because viral lab is same for all, WW lab differs)\n",
    "\n",
    "inhibition_method: missing from PID171, has been added to REDCap PID171 and transform script adjusted\n",
    "\n",
    "hum_frac_chem_unit: missing from PID176, added with available choice as dropdown\n",
    "\n",
    "ext_blank: missing from PID176, added values yes/no to PID176\n",
    "\n",
    "county_names: PID170, need to convert multiple column to just a single field from REDCap Export "
   ]
  },
  {
   "cell_type": "markdown",
   "id": "dd1b1634-9e47-403d-9841-091eb5528f59",
   "metadata": {},
   "source": [
    "# Transformed REDCap projects columns ID comparison to DCIPHER Data Dictionary"
   ]
  },
  {
   "cell_type": "code",
   "execution_count": null,
   "id": "7a39cb37-8bdc-4e5e-a329-0662154bdbcb",
   "metadata": {},
   "outputs": [],
   "source": [
    "ww_redcap = project_dtype_summary(redcap_api_url, redcap_tokens_prod)\n",
    "\n",
    "df_pid171 = ww_redcap[\"PID171\"]\n",
    "df_pid170 = ww_redcap[\"PID170\"]\n",
    "df_pid176 = ww_redcap[\"PID176\"]\n",
    "df_pid177 = ww_redcap[\"PID177\"]\n",
    "\n",
    "df_pid177 = df_pid177.reset_index()\n",
    "df_pid177 = df_pid177.rename(columns = {\"ww_lab_id\": \"lab_id\"})\n",
    "\n",
    "df_pid170 = condense_county_columns(df_pid170)\n",
    "df_pid171 = wide_to_long(df_pid171)"
   ]
  },
  {
   "cell_type": "code",
   "execution_count": null,
   "id": "0c08cc92-0532-4998-ae1c-58ed1f650913",
   "metadata": {},
   "outputs": [],
   "source": [
    "pid171_clms = [i for i in df_pid171.columns]\n",
    "pid170_clms = [i for i in df_pid170.columns]\n",
    "pid176_clms = [i for i in df_pid176.columns]\n",
    "pid177_clms = [i for i in df_pid177.columns]\n",
    "\n",
    "\n",
    "print(f\"PID171 contains: {len(pid171_clms)} columns\")\n",
    "print(f\"PID170 contains: {len(pid170_clms)} columns\")\n",
    "print(f\"PID176 contains: {len(pid176_clms)} columns\")\n",
    "print(f\"PID177 contains: {len(pid177_clms)} columns\")"
   ]
  },
  {
   "cell_type": "code",
   "execution_count": null,
   "id": "b38cb574-eceb-4822-9c60-94920f16402e",
   "metadata": {},
   "outputs": [],
   "source": [
    "PID171_in_common = list(set(pid171_clms) & set(df_map[\"Field Name\"]))\n",
    "PID170_in_common = list(set(pid170_clms) & set(df_map[\"Field Name\"]))\n",
    "PID176_in_common = list(set(pid176_clms) & set(df_map[\"Field Name\"]))\n",
    "PID177_in_common = list(set(pid177_clms) & set(df_map[\"Field Name\"]))\n",
    "\n",
    "print(f\"PID171 and DCHIPHER data dictionary have {len(PID171_in_common)} common fields\")\n",
    "print(f\"PID170 and DCHIPHER data dictionary have {len(PID170_in_common)} common fields\")\n",
    "print(f\"PID176 and DCHIPHER data dictionary have {len(PID176_in_common)} common fields\")\n",
    "print(f\"PID177 and DCHIPHER data dictionary have {len(PID177_in_common)} common fields\")"
   ]
  },
  {
   "cell_type": "code",
   "execution_count": null,
   "id": "051d96b2-be73-42fd-9d5c-3f5a69d21b04",
   "metadata": {},
   "outputs": [],
   "source": [
    "REDCap_in_common = PID171_in_common + PID170_in_common + PID176_in_common + PID177_in_common"
   ]
  },
  {
   "cell_type": "code",
   "execution_count": null,
   "id": "47fecde3-0f49-4da5-8f79-3e457f9e3e2a",
   "metadata": {},
   "outputs": [],
   "source": [
    "s_in_redcap = pd.Series(REDCap_in_common)\n",
    "print(f\"Duplicated Fields: \\n{s_in_redcap[s_in_redcap.duplicated()]}\")\n",
    "print()\n",
    "\n",
    "s_in_redcap = s_in_redcap.unique()\n",
    "print(f\"length of unique fields: {len(s_in_redcap)}\")"
   ]
  },
  {
   "cell_type": "code",
   "execution_count": null,
   "id": "4222dd22-be67-4ce3-b2aa-89c5c129fc6f",
   "metadata": {},
   "outputs": [],
   "source": [
    "print(\"Unaccounted fields in DCIPHER: \")\n",
    "    \n",
    "print(set(df_map[\"Field Name\"]) - set(s_in_redcap))"
   ]
  }
 ],
 "metadata": {
  "kernelspec": {
   "display_name": "Python 3 (ipykernel)",
   "language": "python",
   "name": "python3"
  },
  "language_info": {
   "codemirror_mode": {
    "name": "ipython",
    "version": 3
   },
   "file_extension": ".py",
   "mimetype": "text/x-python",
   "name": "python",
   "nbconvert_exporter": "python",
   "pygments_lexer": "ipython3",
   "version": "3.8.12"
  }
 },
 "nbformat": 4,
 "nbformat_minor": 5
}

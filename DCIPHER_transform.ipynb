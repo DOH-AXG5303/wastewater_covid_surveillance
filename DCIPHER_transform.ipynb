{
 "cells": [
  {
   "cell_type": "code",
   "execution_count": 1,
   "id": "2ef96a03-c900-494c-b3c0-5986c31bf321",
   "metadata": {},
   "outputs": [],
   "source": [
    "dcipher_clms = [           \n",
    "                    'reporting_jurisdiction',\n",
    "                     'county_names',\n",
    "                     'other_jurisdiction',\n",
    "                     'zipcode',\n",
    "                     'population_served',\n",
    "                     'sewage_travel_time',\n",
    "                     'sample_location',\n",
    "                     'sample_location_specify',\n",
    "                     'institution_type',\n",
    "                     'epaid',\n",
    "                     'wwtp_name',\n",
    "                     'wwtp_jurisdiction',\n",
    "                     'capacity_mgd',\n",
    "                     'industrial_input',\n",
    "                     'stormwater_input',\n",
    "                     'influent_equilibrated',\n",
    "                     'sample_type',\n",
    "                     'composite_freq',\n",
    "                     'sample_matrix',\n",
    "                     'collection_storage_time',\n",
    "                     'collection_storage_temp',\n",
    "                     'pretreatment',\n",
    "                     'pretreatment_specify',\n",
    "                     'solids_separation',\n",
    "                     'concentration_method',\n",
    "                     'extraction_method',\n",
    "                     'pre_conc_storage_time',\n",
    "                     'pre_conc_storage_temp',\n",
    "                     'pre_ext_storage_time',\n",
    "                     'pre_ext_storage_temp',\n",
    "                     'tot_conc_vol',\n",
    "                     'ext_blank',\n",
    "                     'rec_eff_target_name',\n",
    "                     'rec_eff_spike_matrix',\n",
    "                     'rec_eff_spike_conc',\n",
    "                     'pasteurized',\n",
    "                     'pcr_target',\n",
    "                     'pcr_target_ref',\n",
    "                     'pcr_type',\n",
    "                     'lod_ref',\n",
    "                     'hum_frac_target_mic',\n",
    "                     'hum_frac_target_mic_ref',\n",
    "                     'hum_frac_target_chem',\n",
    "                     'hum_frac_target_chem_ref',\n",
    "                     'other_norm_name',\n",
    "                     'other_norm_ref',\n",
    "                     'quant_stan_type',\n",
    "                     'stan_ref',\n",
    "                     'inhibition_method',\n",
    "                     'num_no_target_control',\n",
    "                     'sample_collect_date',\n",
    "                     'sample_collect_time',\n",
    "                     'time_zone',\n",
    "                     'flow_rate',\n",
    "                     'ph',\n",
    "                     'conductivity',\n",
    "                     'tss',\n",
    "                     'collection_water_temp',\n",
    "                     'equiv_sewage_amt',\n",
    "                     'sample_id',\n",
    "                     'lab_id',\n",
    "                     'test_result_date',\n",
    "                     'sars_cov2_units',\n",
    "                     'sars_cov2_avg_conc',\n",
    "                     'sars_cov2_std_error',\n",
    "                     'sars_cov2_cl_95_lo',\n",
    "                     'sars_cov2_cl_95_up',\n",
    "                     'sars_cov2_below_lod',\n",
    "                     'lod_sewage',\n",
    "                     'ntc_amplify',\n",
    "                     'rec_eff_percent',\n",
    "                     'inhibition_detect',\n",
    "                     'inhibition_adjust',\n",
    "                     'hum_frac_mic_conc',\n",
    "                     'hum_frac_mic_unit',\n",
    "                     'hum_frac_chem_conc',\n",
    "                     'hum_frac_chem_unit',\n",
    "                     'other_norm_conc',\n",
    "                     'other_norm_unit',\n",
    "                     'quality_flag']\n",
    "\n",
    "county_keys = {    \n",
    "                \"ada\":\"Adams\",\n",
    "                \"aso\":\"Asotin\",\n",
    "                \"ben\":\"Benton\",\n",
    "                \"che\":\"Chelan\",\n",
    "                \"clm\":\"Clallam\",\n",
    "                \"clk\":\"Clark\",\n",
    "                \"col\":\"Columbia\",\n",
    "                \"cow\":\"Cowlitz\",\n",
    "                \"dou\":\"Douglas\",\n",
    "                \"fer\":\"Ferry\",\n",
    "                \"fra\":\"Franklin\",\n",
    "                \"gar\":\"Garfield\",\n",
    "                \"grt\":\"Grant\",\n",
    "                \"ghb\":\"Grays Harbor\",\n",
    "                \"isl\":\"Island\",\n",
    "                \"jef\":\"Jefferson\",\n",
    "                \"kin\":\"King\",\n",
    "                \"ksp\":\"Kitsap\",\n",
    "                \"ktt\":\"Kittitas\",\n",
    "                \"klk\":\"Klickitat\",\n",
    "                \"lew\":\"Lewis\",\n",
    "                \"lin\":\"Lincoln\",\n",
    "                \"mas\":\"Mason\",\n",
    "                \"oka\":\"Okanogan\",\n",
    "                \"pac\":\"Pacific\",\n",
    "                \"por\":\"Pend Oreille\",\n",
    "                \"per\":\"Pierce\",\n",
    "                \"san\":\"San Juan\",\n",
    "                \"skg\":\"Skagit\",\n",
    "                \"skm\":\"Skamania\",\n",
    "                \"sno\":\"Snohomish\",\n",
    "                \"spo\":\"Spokane\",\n",
    "                \"ste\":\"Stevens\",\n",
    "                \"thu\":\"Thurston\",\n",
    "                \"wah\":\"Wahkiakum\",\n",
    "                \"wal\":\"Walla Walla\",\n",
    "                \"wha\":\"Whatcom\",\n",
    "                \"wit\":\"Whitman\",\n",
    "                \"yak\":\"Yakima\",\n",
    "                }\n",
    "\n",
    "\n",
    "def condense_county_columns(df_pid170):\n",
    "    \"\"\"\n",
    "    REDCap PID170 contains a unique column for every possible county (values 0 or 1) yes or no interprotation of said county\n",
    "    \n",
    "    Convert all the county columns into a single column containing a list of full county name values\n",
    "    \"\"\"\n",
    "    \n",
    "    df_pid170 = df_pid170.copy()\n",
    "\n",
    "    county_columns = df_pid170.filter(regex=\"county_names\").columns.copy()#identify county name columns\n",
    "\n",
    "    df_counties = df_pid170[county_columns].copy()\n",
    "\n",
    "\n",
    "    #Convert data frame to dictionary in format {index: [abbreviated county names]}\n",
    "    raw_county_names = {}\n",
    "\n",
    "    for row_index in df_counties.index:\n",
    "\n",
    "        row_series = df_counties.loc[row_index,:]\n",
    "\n",
    "        a = list(row_series[row_series == 1].index)\n",
    "        a = [i[-3:] for i in a]\n",
    "\n",
    "        raw_county_names[row_index] = a \n",
    "\n",
    "\n",
    "    #Convert dictionary of raw county names into full names based on county key:value pairs. \n",
    "    full_county_names = {}\n",
    "\n",
    "    for key, value in raw_county_names.items():\n",
    "        full_county_names[key] = [county_keys[i] for i in value]\n",
    "\n",
    "\n",
    "    df_pid170 = df_pid170.loc[:, ~df_pid170.columns.isin(county_columns)].copy()\n",
    "    df_pid170.loc[:,[\"county_names\"]] = pd.Series(full_county_names)\n",
    "    \n",
    "    return df_pid170\n",
    "\n",
    "\n",
    "def wide_to_long(df_pid171):\n",
    "    \"\"\"\n",
    "    REDCap PID171 is in wide format with unique sample ID's and PCR_target of n1 and n2 containing fields sars_cov2_below_lod (n1 and n2) and sars_cov2_avg_conc (n1 and n2). \n",
    "    \n",
    "    Transform long format: repeat sample ID's for n1 target and n2 target (PCR_target field). Single column of sars_cov2_below_lod and sars_cov2_avg_conc. \n",
    "    \n",
    "    \"\"\"\n",
    "    df_pid171 = df_pid171.reset_index().copy()\n",
    "    \n",
    "    #identify columns to melt, and all the rest\n",
    "    melt_clms = ['n1_sars_cov2_avg_conc', 'n2_sars_cov2_avg_conc', 'n1_sars_cov2_below_lod', 'n2_sars_cov2_below_lod']\n",
    "    not_melt_clms = df_pid171.columns[~df_pid171.columns.isin(melt_clms)]\n",
    "    \n",
    "    #perform melt for avg_conc and keep all other columns\n",
    "    df_melt_conc = pd.melt(df_pid171, value_vars = ['n1_sars_cov2_avg_conc', 'n2_sars_cov2_avg_conc'], var_name = \"pcr_target\", value_name = 'sars_cov2_avg_conc', id_vars = not_melt_clms )\n",
    "    #perform melt for below_lod and only keep the value column (below_lod)\n",
    "    df_melt_lod = pd.melt(df_pid171, value_vars = ['n1_sars_cov2_below_lod', 'n2_sars_cov2_below_lod'], var_name = \"pcr_target\", value_name = 'sars_cov2_below_lod', id_vars = [\"sample_id\"] )\n",
    "    \n",
    "    #change the PCR_target column to only first 2 letters (n1 or n2)\n",
    "    df_melt_lod[\"pcr_target\"] = df_melt_lod[\"pcr_target\"].str[0:2]\n",
    "    df_melt_conc[\"pcr_target\"] = df_melt_lod[\"pcr_target\"].str[0:2]\n",
    "    \n",
    "    #merge the dataframes together\n",
    "    df_pid171 = pd.merge(df_melt_conc, df_melt_lod, how = \"inner\", left_on = [\"sample_id\", \"pcr_target\"], right_on = [\"sample_id\", \"pcr_target\"])\n",
    "    \n",
    "    return df_pid171\n"
   ]
  },
  {
   "cell_type": "code",
   "execution_count": 2,
   "id": "70ff0305-0a9c-4885-9f08-d3db325fc900",
   "metadata": {},
   "outputs": [],
   "source": [
    "%run -i \"viral_lims_export.py\""
   ]
  },
  {
   "cell_type": "code",
   "execution_count": 3,
   "id": "a9297615-9f9d-4d74-803a-68d0729e4cb4",
   "metadata": {},
   "outputs": [],
   "source": [
    "ww_redcap = project_dtype_summary(redcap_api_url, redcap_tokens_prod)\n",
    "\n",
    "df_pid171 = ww_redcap[\"PID171\"]\n",
    "df_pid170 = ww_redcap[\"PID170\"]\n",
    "df_pid176 = ww_redcap[\"PID176\"]\n",
    "\n",
    "df_pid170 = condense_county_columns(df_pid170)\n",
    "df_pid171 = wide_to_long(df_pid171)\n",
    "\n",
    "#Changing values of columns \"sars_cov2_units\"\n",
    "units = {1: \"copies/L wastewater\"}\n",
    "df_pid171[\"sars_cov2_units\"] = df_pid171[\"sars_cov2_units\"].map(units)"
   ]
  },
  {
   "cell_type": "code",
   "execution_count": 4,
   "id": "1531ad9b-12bc-4c78-a48d-7be35f68f41f",
   "metadata": {},
   "outputs": [],
   "source": [
    "df_test = df_pid171.merge(df_pid170, left_on = \"sample_site_id\", right_index = True)\n",
    "not_zipcode = df_pid176.columns[~df_pid176.columns.isin([\"zipcode\", \"pcr_target\"])]\n",
    "complete = df_test.merge(df_pid176.loc[:,not_zipcode], left_on=\"micro_lab_id\", right_index=True)\n",
    "complete = complete.rename(columns = {\"micro_lab_id\":\"lab_id\"})\n",
    "complete = complete.loc[:,dcipher_clms]\n",
    "complete = complete.sort_values(by = [\"sample_id\"], ignore_index=True)"
   ]
  },
  {
   "cell_type": "code",
   "execution_count": 9,
   "id": "a2155b49-50ac-4552-a794-3c018015d18a",
   "metadata": {},
   "outputs": [],
   "source": [
    "df = complete.loc[0:71,:]"
   ]
  },
  {
   "cell_type": "code",
   "execution_count": 10,
   "id": "c187f4ca-9dda-4869-9775-9c1d9c009e6b",
   "metadata": {},
   "outputs": [],
   "source": [
    "df.to_csv(\"DCIPHER_upload_sample.csv\", index = False)"
   ]
  },
  {
   "cell_type": "code",
   "execution_count": null,
   "id": "ef899185-1c72-4e32-9bed-60805ee54bb6",
   "metadata": {},
   "outputs": [],
   "source": []
  },
  {
   "cell_type": "markdown",
   "id": "daab9b4d-1ed6-4446-b5a9-803612963a2f",
   "metadata": {},
   "source": [
    "# Appendix"
   ]
  },
  {
   "cell_type": "code",
   "execution_count": null,
   "id": "49251fe1-3330-4081-a061-dc5632f59b0e",
   "metadata": {},
   "outputs": [],
   "source": [
    "%run -i \"viral_lims_export.py\""
   ]
  },
  {
   "cell_type": "code",
   "execution_count": null,
   "id": "ca3da031-388e-4310-b935-fbc6e612cef0",
   "metadata": {},
   "outputs": [],
   "source": [
    "import pandas as pd\n",
    "\n",
    "df_map = pd.read_excel(\"NWSS Data Dictionary_v2_0_3_20210621.xlsx\", sheet_name=\"Metadata\", header = 0)\n",
    "\n",
    "remove = [\"Reporter\", \n",
    "         \"Collection Site\",\n",
    "          \"WWTP\",\n",
    "          \"Collection Method\",\n",
    "          \"Processing Method\",\n",
    "          \"SARSCoV2 Quantification Method\",\n",
    "          \"Sample\",\n",
    "          \"SARSCoV2 Quantification Results\",\n",
    "          ]\n",
    "\n",
    "df_map = df_map[~df_map[\"Field Name\"].isin(remove)] #rows in excel used for separate categories, remove\n",
    "df_map = df_map.dropna(how = \"all\").reset_index(drop = True) # drop blank rows\n",
    "\n",
    "print(f\" DCIPHER data map/dictionary contains: {df_map.shape[0]} fields\")"
   ]
  },
  {
   "cell_type": "markdown",
   "id": "dc35cbe4-51be-404c-b575-28b8edc2e4ce",
   "metadata": {},
   "source": [
    "### Compare Field Names in DCIPHER dictionary to REDCap Fields"
   ]
  },
  {
   "cell_type": "code",
   "execution_count": null,
   "id": "8a7ea064-5657-43bd-bf34-004cfb9bcc4b",
   "metadata": {},
   "outputs": [],
   "source": [
    "ww_redcap = project_dtype_summary(redcap_api_url, redcap_tokens_prod)\n",
    "\n",
    "df_pid171 = ww_redcap[\"PID171\"]\n",
    "df_pid170 = ww_redcap[\"PID170\"]\n",
    "df_pid176 = ww_redcap[\"PID176\"]\n",
    "df_pid177 = ww_redcap[\"PID177\"]\n",
    "\n",
    "\n",
    "pid171_clms = [i for i in df_pid171.columns]\n",
    "pid170_clms = [i for i in df_pid170.columns]\n",
    "pid176_clms = [i for i in df_pid176.columns]\n",
    "pid177_clms = [i for i in df_pid177.columns]\n",
    "\n",
    "\n",
    "print(f\"PID171 contains: {len(pid171_clms)} columns\")\n",
    "print(f\"PID170 contains: {len(pid170_clms)} columns\")\n",
    "print(f\"PID176 contains: {len(pid176_clms)} columns\")\n",
    "print(f\"PID177 contains: {len(pid177_clms)} columns\")"
   ]
  },
  {
   "cell_type": "code",
   "execution_count": null,
   "id": "f1cdbd60-1530-4976-8ade-8a89e6945ab2",
   "metadata": {},
   "outputs": [],
   "source": [
    "PID171_in_common = list(set(pid171_clms) & set(df_map[\"Field Name\"]))\n",
    "PID170_in_common = list(set(pid170_clms) & set(df_map[\"Field Name\"]))\n",
    "PID176_in_common = list(set(pid176_clms) & set(df_map[\"Field Name\"]))\n",
    "PID177_in_common = list(set(pid177_clms) & set(df_map[\"Field Name\"]))\n",
    "\n",
    "print(f\"PID171 and DCHIPHER data dictionary have {len(PID171_in_common)} common fields\")\n",
    "print(f\"PID170 and DCHIPHER data dictionary have {len(PID170_in_common)} common fields\")\n",
    "print(f\"PID176 and DCHIPHER data dictionary have {len(PID176_in_common)} common fields\")\n",
    "print(f\"PID177 and DCHIPHER data dictionary have {len(PID177_in_common)} common fields\")\n"
   ]
  },
  {
   "cell_type": "code",
   "execution_count": null,
   "id": "5c96690e-c8e3-4501-82aa-dd836fd657b9",
   "metadata": {},
   "outputs": [],
   "source": [
    "# Checking if there are duplicate fields in REDCap project fields\n",
    "REDCap_in_common = PID171_in_common + PID170_in_common + PID176_in_common + PID177_in_common\n"
   ]
  },
  {
   "cell_type": "code",
   "execution_count": null,
   "id": "84d7ee37-652f-4801-ba04-9ac8c8b5050c",
   "metadata": {},
   "outputs": [],
   "source": [
    "s_in_redcap = pd.Series(REDCap_in_common)\n",
    "print(f\"Duplicated Fields: \\n{s_in_redcap[s_in_redcap.duplicated()]}\")\n",
    "print()\n",
    "\n",
    "s_in_redcap = s_in_redcap.unique()\n",
    "print(f\"length of unique fields: {len(s_in_redcap)}\")"
   ]
  },
  {
   "cell_type": "markdown",
   "id": "113b5b44-ada6-4a18-9515-8f468fcc4db5",
   "metadata": {},
   "source": [
    "### Identify Missing Fields (DCIPHER expects 80, REDCap projects add to 72 of these)"
   ]
  },
  {
   "cell_type": "code",
   "execution_count": null,
   "id": "7743fb5b-12ac-43c1-975d-40029c1b3321",
   "metadata": {},
   "outputs": [],
   "source": [
    "set(df_map[\"Field Name\"]) - set(s_in_redcap)"
   ]
  },
  {
   "cell_type": "markdown",
   "id": "fa9e7541-b945-413d-ae38-4395d955838a",
   "metadata": {},
   "source": [
    "### DCIPHER fields from REDCap\n",
    "\n",
    "lab_id: use WW lab ID from PID177 index (because viral lab is same for all, WW lab differs)\n",
    "\n",
    "inhibition_method: missing from PID171, has been added to REDCap PID171 and transform script adjusted\n",
    "\n",
    "hum_frac_chem_unit: missing from PID176, added with available choice as dropdown\n",
    "\n",
    "ext_blank: missing from PID176, added values yes/no to PID176\n",
    "\n",
    "county_names: PID170, need to convert multiple column to just a single field from REDCap Export "
   ]
  },
  {
   "cell_type": "markdown",
   "id": "dd1b1634-9e47-403d-9841-091eb5528f59",
   "metadata": {},
   "source": [
    "# Transformed REDCap projects columns ID comparison to DCIPHER Data Dictionary"
   ]
  },
  {
   "cell_type": "code",
   "execution_count": null,
   "id": "7a39cb37-8bdc-4e5e-a329-0662154bdbcb",
   "metadata": {},
   "outputs": [],
   "source": [
    "ww_redcap = project_dtype_summary(redcap_api_url, redcap_tokens_prod)\n",
    "\n",
    "df_pid171 = ww_redcap[\"PID171\"]\n",
    "df_pid170 = ww_redcap[\"PID170\"]\n",
    "df_pid176 = ww_redcap[\"PID176\"]\n",
    "df_pid177 = ww_redcap[\"PID177\"]\n",
    "\n",
    "df_pid177 = df_pid177.reset_index()\n",
    "df_pid177 = df_pid177.rename(columns = {\"ww_lab_id\": \"lab_id\"})\n",
    "\n",
    "df_pid170 = condense_county_columns(df_pid170)\n",
    "df_pid171 = wide_to_long(df_pid171)"
   ]
  },
  {
   "cell_type": "code",
   "execution_count": null,
   "id": "0c08cc92-0532-4998-ae1c-58ed1f650913",
   "metadata": {},
   "outputs": [],
   "source": [
    "pid171_clms = [i for i in df_pid171.columns]\n",
    "pid170_clms = [i for i in df_pid170.columns]\n",
    "pid176_clms = [i for i in df_pid176.columns]\n",
    "pid177_clms = [i for i in df_pid177.columns]\n",
    "\n",
    "\n",
    "print(f\"PID171 contains: {len(pid171_clms)} columns\")\n",
    "print(f\"PID170 contains: {len(pid170_clms)} columns\")\n",
    "print(f\"PID176 contains: {len(pid176_clms)} columns\")\n",
    "print(f\"PID177 contains: {len(pid177_clms)} columns\")"
   ]
  },
  {
   "cell_type": "code",
   "execution_count": null,
   "id": "b38cb574-eceb-4822-9c60-94920f16402e",
   "metadata": {},
   "outputs": [],
   "source": [
    "PID171_in_common = list(set(pid171_clms) & set(df_map[\"Field Name\"]))\n",
    "PID170_in_common = list(set(pid170_clms) & set(df_map[\"Field Name\"]))\n",
    "PID176_in_common = list(set(pid176_clms) & set(df_map[\"Field Name\"]))\n",
    "PID177_in_common = list(set(pid177_clms) & set(df_map[\"Field Name\"]))\n",
    "\n",
    "print(f\"PID171 and DCHIPHER data dictionary have {len(PID171_in_common)} common fields\")\n",
    "print(f\"PID170 and DCHIPHER data dictionary have {len(PID170_in_common)} common fields\")\n",
    "print(f\"PID176 and DCHIPHER data dictionary have {len(PID176_in_common)} common fields\")\n",
    "print(f\"PID177 and DCHIPHER data dictionary have {len(PID177_in_common)} common fields\")"
   ]
  },
  {
   "cell_type": "code",
   "execution_count": null,
   "id": "051d96b2-be73-42fd-9d5c-3f5a69d21b04",
   "metadata": {},
   "outputs": [],
   "source": [
    "REDCap_in_common = PID171_in_common + PID170_in_common + PID176_in_common + PID177_in_common"
   ]
  },
  {
   "cell_type": "code",
   "execution_count": null,
   "id": "47fecde3-0f49-4da5-8f79-3e457f9e3e2a",
   "metadata": {},
   "outputs": [],
   "source": [
    "s_in_redcap = pd.Series(REDCap_in_common)\n",
    "print(f\"Duplicated Fields: \\n{s_in_redcap[s_in_redcap.duplicated()]}\")\n",
    "print()\n",
    "\n",
    "s_in_redcap = s_in_redcap.unique()\n",
    "print(f\"length of unique fields: {len(s_in_redcap)}\")"
   ]
  },
  {
   "cell_type": "code",
   "execution_count": null,
   "id": "4222dd22-be67-4ce3-b2aa-89c5c129fc6f",
   "metadata": {},
   "outputs": [],
   "source": [
    "print(\"Unaccounted fields in DCIPHER: \")\n",
    "    \n",
    "print(set(df_map[\"Field Name\"]) - set(s_in_redcap))"
   ]
  },
  {
   "cell_type": "markdown",
   "id": "9e603264-18b2-406f-9357-ac7b7048e665",
   "metadata": {},
   "source": [
    "# finding fields to stitch dataframes"
   ]
  },
  {
   "cell_type": "markdown",
   "id": "5b77ee61-304f-40ca-baec-9a4b7253f855",
   "metadata": {},
   "source": [
    "Can join PID171 and PID170 using: the index of PID170 ('sample_site_id') and PID171 field 'sample_site_id'\n",
    "\n",
    "Can join PID171 and PID176 using: the index of PID176 ('micro_lab_id') and PID171 field 'micro_lab_id'\n",
    "\n",
    "Need to rename micro_lab_id to just lab_id\n",
    "\n",
    "PID177 leave the hell alone for now. "
   ]
  },
  {
   "cell_type": "code",
   "execution_count": null,
   "id": "b3230ceb-5b02-4b9b-8689-02fa2cf3dccd",
   "metadata": {},
   "outputs": [],
   "source": [
    "df_test = df_pid171.merge(df_pid170, left_on = \"sample_site_id\", right_index = True)\n",
    "not_zipcode = df_pid176.columns[~df_pid176.columns.isin([\"zipcode\", \"pcr_target\"])]\n",
    "complete = df_test.merge(df_pid176.loc[:,not_zipcode], left_on=\"micro_lab_id\", right_index=True)\n",
    "complete = complete.rename(columns = {\"micro_lab_id\":\"lab_id\"})\n",
    "complete = complete.loc[:,df_map[\"Field Name\"]]\n",
    "complete = complete.sort_values(by = [\"sample_id\"], ignore_index=True)"
   ]
  },
  {
   "cell_type": "code",
   "execution_count": null,
   "id": "62f3e081-50d2-472f-b440-19842df9700c",
   "metadata": {},
   "outputs": [],
   "source": []
  },
  {
   "cell_type": "code",
   "execution_count": null,
   "id": "2823e535-0ef9-4a65-a311-c35720904bc6",
   "metadata": {},
   "outputs": [],
   "source": []
  },
  {
   "cell_type": "code",
   "execution_count": null,
   "id": "72716a78-f33f-4b9e-a715-2996e0a7963d",
   "metadata": {},
   "outputs": [],
   "source": []
  },
  {
   "cell_type": "code",
   "execution_count": null,
   "id": "10ee9a7a-52df-4a64-8689-193c70fd56fc",
   "metadata": {},
   "outputs": [],
   "source": []
  },
  {
   "cell_type": "code",
   "execution_count": null,
   "id": "78ca1afb-8c54-4db3-97ab-bf20f8d82b11",
   "metadata": {},
   "outputs": [],
   "source": []
  },
  {
   "cell_type": "code",
   "execution_count": null,
   "id": "b7d2e08c-8f62-41a2-8e35-0ed378a60afc",
   "metadata": {},
   "outputs": [],
   "source": []
  },
  {
   "cell_type": "code",
   "execution_count": null,
   "id": "62172b37-43b8-4d4a-a11d-4de7b88f027f",
   "metadata": {},
   "outputs": [],
   "source": []
  },
  {
   "cell_type": "code",
   "execution_count": null,
   "id": "995f95bb-ae19-4da4-a918-f8580c42def4",
   "metadata": {},
   "outputs": [],
   "source": []
  }
 ],
 "metadata": {
  "kernelspec": {
   "display_name": "Python [conda env:transform21] *",
   "language": "python",
   "name": "conda-env-transform21-py"
  },
  "language_info": {
   "codemirror_mode": {
    "name": "ipython",
    "version": 3
   },
   "file_extension": ".py",
   "mimetype": "text/x-python",
   "name": "python",
   "nbconvert_exporter": "python",
   "pygments_lexer": "ipython3",
   "version": "3.8.10"
  }
 },
 "nbformat": 4,
 "nbformat_minor": 5
}

{
 "cells": [
  {
   "cell_type": "code",
   "execution_count": 1,
   "id": "49251fe1-3330-4081-a061-dc5632f59b0e",
   "metadata": {},
   "outputs": [],
   "source": [
    "%run -i \"viral_lims_export.py\""
   ]
  },
  {
   "cell_type": "code",
   "execution_count": 2,
   "id": "ca3da031-388e-4310-b935-fbc6e612cef0",
   "metadata": {},
   "outputs": [
    {
     "name": "stdout",
     "output_type": "stream",
     "text": [
      " DCIPHER data map/dictionary contains: 80 fields\n"
     ]
    }
   ],
   "source": [
    "import pandas as pd\n",
    "\n",
    "df_map = pd.read_excel(\"NWSS Data Dictionary_v2_0_3_20210621.xlsx\", sheet_name=\"Metadata\", header = 0)\n",
    "\n",
    "remove = [\"Reporter\", \n",
    "         \"Collection Site\",\n",
    "          \"WWTP\",\n",
    "          \"Collection Method\",\n",
    "          \"Processing Method\",\n",
    "          \"SARSCoV2 Quantification Method\",\n",
    "          \"Sample\",\n",
    "          \"SARSCoV2 Quantification Results\",\n",
    "          ]\n",
    "\n",
    "df_map = df_map[~df_map[\"Field Name\"].isin(remove)] #rows in excel used for separate categories, remove\n",
    "df_map = df_map.dropna(how = \"all\").reset_index(drop = True) # drop blank rows\n",
    "\n",
    "print(f\" DCIPHER data map/dictionary contains: {df_map.shape[0]} fields\")"
   ]
  },
  {
   "cell_type": "markdown",
   "id": "dc35cbe4-51be-404c-b575-28b8edc2e4ce",
   "metadata": {},
   "source": [
    "### Compare Field Names in DCIPHER dictionary to REDCap Fields"
   ]
  },
  {
   "cell_type": "code",
   "execution_count": 3,
   "id": "8a7ea064-5657-43bd-bf34-004cfb9bcc4b",
   "metadata": {},
   "outputs": [
    {
     "name": "stdout",
     "output_type": "stream",
     "text": [
      "PID171 contains: 94 columns\n",
      "PID170 contains: 85 columns\n",
      "PID176 contains: 74 columns\n",
      "PID177 contains: 26 columns\n"
     ]
    }
   ],
   "source": [
    "ww_redcap = project_dtype_summary(redcap_api_url, redcap_tokens_prod)\n",
    "\n",
    "df_pid171 = ww_redcap[\"PID171\"]\n",
    "df_pid170 = ww_redcap[\"PID170\"]\n",
    "df_pid176 = ww_redcap[\"PID176\"]\n",
    "df_pid177 = ww_redcap[\"PID177\"]\n",
    "\n",
    "\n",
    "pid171_clms = [i for i in df_pid171.columns]\n",
    "pid170_clms = [i for i in df_pid170.columns]\n",
    "pid176_clms = [i for i in df_pid176.columns]\n",
    "pid177_clms = [i for i in df_pid177.columns]\n",
    "\n",
    "\n",
    "print(f\"PID171 contains: {len(pid171_clms)} columns\")\n",
    "print(f\"PID170 contains: {len(pid170_clms)} columns\")\n",
    "print(f\"PID176 contains: {len(pid176_clms)} columns\")\n",
    "print(f\"PID177 contains: {len(pid177_clms)} columns\")"
   ]
  },
  {
   "cell_type": "code",
   "execution_count": 4,
   "id": "f1cdbd60-1530-4976-8ade-8a89e6945ab2",
   "metadata": {},
   "outputs": [
    {
     "name": "stdout",
     "output_type": "stream",
     "text": [
      "PID171 and DCHIPHER data dictionary have 37 common fields\n",
      "PID170 and DCHIPHER data dictionary have 18 common fields\n",
      "PID176 and DCHIPHER data dictionary have 21 common fields\n",
      "PID177 and DCHIPHER data dictionary have 1 common fields\n"
     ]
    }
   ],
   "source": [
    "PID171_in_common = list(set(pid171_clms) & set(df_map[\"Field Name\"]))\n",
    "PID170_in_common = list(set(pid170_clms) & set(df_map[\"Field Name\"]))\n",
    "PID176_in_common = list(set(pid176_clms) & set(df_map[\"Field Name\"]))\n",
    "PID177_in_common = list(set(pid177_clms) & set(df_map[\"Field Name\"]))\n",
    "\n",
    "print(f\"PID171 and DCHIPHER data dictionary have {len(PID171_in_common)} common fields\")\n",
    "print(f\"PID170 and DCHIPHER data dictionary have {len(PID170_in_common)} common fields\")\n",
    "print(f\"PID176 and DCHIPHER data dictionary have {len(PID176_in_common)} common fields\")\n",
    "print(f\"PID177 and DCHIPHER data dictionary have {len(PID177_in_common)} common fields\")\n"
   ]
  },
  {
   "cell_type": "code",
   "execution_count": 5,
   "id": "5c96690e-c8e3-4501-82aa-dd836fd657b9",
   "metadata": {},
   "outputs": [],
   "source": [
    "# Checking if there are duplicate fields in REDCap project fields\n",
    "REDCap_in_common = PID171_in_common + PID170_in_common + PID176_in_common + PID177_in_common\n"
   ]
  },
  {
   "cell_type": "code",
   "execution_count": 6,
   "id": "84d7ee37-652f-4801-ba04-9ac8c8b5050c",
   "metadata": {},
   "outputs": [
    {
     "name": "stdout",
     "output_type": "stream",
     "text": [
      "Duplicated Fields: \n",
      "75    zipcode\n",
      "76    zipcode\n",
      "dtype: object\n",
      "\n",
      "length of unique fields: 75\n"
     ]
    }
   ],
   "source": [
    "s_in_redcap = pd.Series(REDCap_in_common)\n",
    "print(f\"Duplicated Fields: \\n{s_in_redcap[s_in_redcap.duplicated()]}\")\n",
    "print()\n",
    "\n",
    "s_in_redcap = s_in_redcap.unique()\n",
    "print(f\"length of unique fields: {len(s_in_redcap)}\")"
   ]
  },
  {
   "cell_type": "markdown",
   "id": "113b5b44-ada6-4a18-9515-8f468fcc4db5",
   "metadata": {},
   "source": [
    "### Identify Missing Fields (DCIPHER expects 80, REDCap projects add to 72 of these)"
   ]
  },
  {
   "cell_type": "code",
   "execution_count": 7,
   "id": "7743fb5b-12ac-43c1-975d-40029c1b3321",
   "metadata": {},
   "outputs": [
    {
     "data": {
      "text/plain": [
       "{'county_names',\n",
       " 'lab_id',\n",
       " 'sample_id',\n",
       " 'sars_cov2_avg_conc',\n",
       " 'sars_cov2_below_lod'}"
      ]
     },
     "execution_count": 7,
     "metadata": {},
     "output_type": "execute_result"
    }
   ],
   "source": [
    "set(df_map[\"Field Name\"]) - set(s_in_redcap)"
   ]
  },
  {
   "cell_type": "markdown",
   "id": "fa9e7541-b945-413d-ae38-4395d955838a",
   "metadata": {},
   "source": [
    "### DCIPHER fields from REDCap\n",
    "\n",
    "lab_id: use WW lab ID from PID177 index (because viral lab is same for all, WW lab differs)\n",
    "\n",
    "inhibition_method: missing from PID171, has been added to REDCap PID171 and transform script adjusted\n",
    "\n",
    "hum_frac_chem_unit: missing from PID176, added with available choice as dropdown\n",
    "\n",
    "ext_blank: missing from PID176, added values yes/no to PID176\n",
    "\n",
    "county_names: PID170, need to convert multiple column to just a single field from REDCap Export "
   ]
  },
  {
   "cell_type": "code",
   "execution_count": null,
   "id": "8da9402e-f160-4ef4-b98e-96dbfc62c1e7",
   "metadata": {},
   "outputs": [],
   "source": [
    "[i for i in s_in_redcap]"
   ]
  },
  {
   "cell_type": "code",
   "execution_count": null,
   "id": "4eb16957-757c-496e-8ccb-901fa6b96352",
   "metadata": {},
   "outputs": [],
   "source": [
    "df_pid170.columns"
   ]
  },
  {
   "cell_type": "code",
   "execution_count": null,
   "id": "4cd3d8c9-d108-4caa-b014-466a86896eeb",
   "metadata": {},
   "outputs": [],
   "source": [
    "df_pid176.head(5)"
   ]
  },
  {
   "cell_type": "code",
   "execution_count": null,
   "id": "b960d7c3-220a-40e8-a433-29fc156bddf4",
   "metadata": {},
   "outputs": [],
   "source": [
    "df_pid177.head(5)"
   ]
  },
  {
   "cell_type": "code",
   "execution_count": null,
   "id": "58a3daef-3b6a-4290-bdd3-5514604f44bc",
   "metadata": {},
   "outputs": [],
   "source": [
    "[i for i in df_pid176.columns]"
   ]
  },
  {
   "cell_type": "code",
   "execution_count": null,
   "id": "d7ab05ec-0b89-47c2-9e5b-30873e959a87",
   "metadata": {},
   "outputs": [],
   "source": [
    "df_pid176[\n",
    "    ['hum_frac_target_mic',\n",
    "     'hum_frac_target_mic_ref',\n",
    "     'hum_frac_target_chem',\n",
    "     'hum_frac_target_chem_ref']]"
   ]
  },
  {
   "cell_type": "code",
   "execution_count": null,
   "id": "a55b1dc2-9235-4313-802f-c74d790f101a",
   "metadata": {},
   "outputs": [],
   "source": []
  }
 ],
 "metadata": {
  "kernelspec": {
   "display_name": "Python [conda env:transform21] *",
   "language": "python",
   "name": "conda-env-transform21-py"
  },
  "language_info": {
   "codemirror_mode": {
    "name": "ipython",
    "version": 3
   },
   "file_extension": ".py",
   "mimetype": "text/x-python",
   "name": "python",
   "nbconvert_exporter": "python",
   "pygments_lexer": "ipython3",
   "version": "3.8.10"
  }
 },
 "nbformat": 4,
 "nbformat_minor": 5
}

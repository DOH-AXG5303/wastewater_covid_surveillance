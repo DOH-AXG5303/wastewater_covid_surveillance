{
 "cells": [
  {
   "cell_type": "markdown",
   "id": "f971f7f0-3bbf-48d7-a6de-03d64b6db238",
   "metadata": {},
   "source": [
    "# Development of Wastewater Surveillance Data Automation Script "
   ]
  },
  {
   "cell_type": "code",
   "execution_count": 1,
   "id": "244916f0-241f-4748-9d17-b551f7dc3338",
   "metadata": {},
   "outputs": [],
   "source": [
    "#run script that executes export of LIMS data\n",
    "\n",
    "%run -i \"viral_lims_export.py\"\n",
    "\n",
    "####Export all lims data####\n",
    "df_lims = export_df_from_LIMS()\n",
    "\n",
    "### Critical convert long to wide ####\n",
    "df_lims = (\n",
    "    drop_null_sample_ID(df_lims)# #remove artifiact data from LIMS (missing sample ID's) \n",
    "    .pipe(drop_all_but_N1_N2)#Remove full rows where PCR Target is enything except N1 or N2\n",
    "    .pipe(below_lod_to_yes_no)\n",
    "    .pipe(long_to_wide) #meat and potatos! everything not under PCRTarget N1 or N2 will not be imported\n",
    "    )\n",
    "\n",
    "####Transform lims dataframe#### \n",
    "df_lims = (\n",
    "    rename_lims_columns(df_lims) \n",
    "    .pipe(verify_time_field) #change time values to None if dont fit format HH:MM\n",
    "    .pipe(convert_numeric) #convert numeric columns to floats, coerce errors\n",
    "    .pipe(freetext_transform)\n",
    "    .pipe(validate_yes_no_clms)\n",
    "    .pipe(validate_choice_fields))\n",
    "\n",
    "####export all dataframes from 4 WW Redcap Projects####\n",
    "ww_redcap = project_dtype_summary(redcap_api_url, redcap_tokens_prod)\n",
    "\n",
    "#### Export accepted values in restricted fields from metadata API ####\n",
    "fields_restricted = (\n",
    "    redcap_metadata_export(redcap_api_url, redcap_tokens_prod[\"PID171\"])\n",
    "    .pipe(accepted_redcap_fields)\n",
    "    )\n",
    "\n",
    "####Export date and time fields from REDCap\n",
    "fields_datetime = (\n",
    "    redcap_metadata_export(redcap_api_url, redcap_tokens_prod[\"PID171\"])\n",
    "    .pipe(date_time_redcap_fields)\n",
    "    )"
   ]
  },
  {
   "cell_type": "markdown",
   "id": "aee04c26-db7e-4ebf-8cf9-cc616d705bf6",
   "metadata": {},
   "source": [
    "# Uploading Records"
   ]
  },
  {
   "cell_type": "code",
   "execution_count": 2,
   "id": "7f48fcff-5c84-435a-91ee-d0ef1bfb6732",
   "metadata": {},
   "outputs": [
    {
     "data": {
      "text/plain": [
       "{'count': 114}"
      ]
     },
     "execution_count": 2,
     "metadata": {},
     "output_type": "execute_result"
    }
   ],
   "source": [
    "#Connecting to PID171\n",
    "import redcap\n",
    "project = redcap.Project(redcap_api_url, redcap_tokens_prod[\"PID171\"])\n",
    "\n",
    "response = project.import_records(df_lims, force_auto_number=False)\n",
    "response"
   ]
  },
  {
   "cell_type": "markdown",
   "id": "dfb93176-f791-4dac-86bc-d06a59692754",
   "metadata": {},
   "source": [
    "# Prep for DCIPHER"
   ]
  },
  {
   "cell_type": "code",
   "execution_count": 3,
   "id": "b305b690-21df-4f86-b7fb-eaa881a4f482",
   "metadata": {},
   "outputs": [],
   "source": [
    "%run -i \"DCIPHER_transform.py\"\n",
    "%run -i \"viral_lims_export.py\""
   ]
  },
  {
   "cell_type": "code",
   "execution_count": 4,
   "id": "61387004-0faa-4dbb-9838-b553c73f0e0f",
   "metadata": {},
   "outputs": [],
   "source": [
    "ww_redcap = project_dtype_summary(redcap_api_url, redcap_tokens_prod)\n",
    "\n",
    "df_pid171 = ww_redcap[\"PID171\"]\n",
    "df_pid170 = ww_redcap[\"PID170\"]\n",
    "df_pid176 = ww_redcap[\"PID176\"]\n"
   ]
  },
  {
   "cell_type": "code",
   "execution_count": 5,
   "id": "de5f515a-7be2-4b8d-9ff1-dfb77dc1dff3",
   "metadata": {},
   "outputs": [],
   "source": [
    "df_pid170 = condense_county_columns(df_pid170)\n",
    "df_pid170 = pid170_values_transform(df_pid170)\n",
    "\n",
    "df_pid171 = wide_to_long(df_pid171)\n",
    "df_pid171 = pid171_transform(df_pid171)\n",
    "\n",
    "df_pid176 = pid176_transform(df_pid176)"
   ]
  },
  {
   "cell_type": "code",
   "execution_count": 6,
   "id": "d155f879-e8bb-4761-a212-dd35a6c42821",
   "metadata": {},
   "outputs": [],
   "source": [
    "complete = clean_merge(df_pid170, df_pid171, df_pid176)\n",
    "\n",
    "# patch 3.0 modifications\n",
    "complete = DCIPHER_v3_modifications(complete)\n",
    "\n",
    "#filter and save\n",
    "rows_to_keep = complete[\"sample_id\"].isin(df_lims.index)\n",
    "complete = complete.loc[rows_to_keep,:]\n",
    "\n",
    "complete.to_csv(\"DCIPHER_upload.csv\", index = False)\n",
    "\n",
    "path = r\"Y:\\Confidential\\DCHS\\PHOCIS\\Surveillance\\COVID-19 Wastewater Surveillance\\DCIPHER_upload\\ww_files\"\n",
    "complete.to_csv(path+\"\\DCIPHER_upload.csv\", index = False)"
   ]
  },
  {
   "cell_type": "code",
   "execution_count": 7,
   "id": "837ca24b-57fb-45bd-8201-6d477d90789c",
   "metadata": {},
   "outputs": [],
   "source": [
    "from datetime import datetime\n",
    "\n",
    "date = str(datetime.now())[0:10]\n",
    "date = date.replace(\"-\",\"_\")\n",
    "\n",
    "historic_path = r\"Y:\\Confidential\\DCHS\\PHOCIS\\Surveillance\\COVID-19 Wastewater Surveillance\\DCIPHER_upload\\ww_files\\historic_uploads\"\n",
    "\n",
    "complete.to_csv(historic_path +\"\\DCIPHER_\" + date + \".csv\", index = False)"
   ]
  },
  {
   "cell_type": "markdown",
   "id": "78375f29-fbb6-4ee4-b475-21985349d4b7",
   "metadata": {},
   "source": [
    "# Explore DCIPHER 2nd upload Issues"
   ]
  },
  {
   "cell_type": "markdown",
   "id": "6fbb3504-71c6-4a88-8a2b-7982d7e0b47d",
   "metadata": {},
   "source": [
    "# Patch 3.0 fields names changes"
   ]
  },
  {
   "cell_type": "code",
   "execution_count": 13,
   "id": "d9d2ccd0-2c66-4bda-a922-220fabda33fb",
   "metadata": {},
   "outputs": [],
   "source": []
  },
  {
   "cell_type": "code",
   "execution_count": 9,
   "id": "56c4e46d-fee5-422a-8567-46cca9ac2597",
   "metadata": {},
   "outputs": [],
   "source": []
  },
  {
   "cell_type": "code",
   "execution_count": null,
   "id": "f0bf9400-b098-4b94-8e79-df5b769d2aaa",
   "metadata": {},
   "outputs": [],
   "source": []
  },
  {
   "cell_type": "code",
   "execution_count": null,
   "id": "36c7d9e6-f51d-4c92-95ee-79189981700e",
   "metadata": {},
   "outputs": [],
   "source": []
  },
  {
   "cell_type": "code",
   "execution_count": null,
   "id": "22155e30-5447-4d9f-9573-a23e3cf37d3b",
   "metadata": {},
   "outputs": [],
   "source": [
    "from lims_login import redcap_api_url\n",
    "from lims_login import redcap_tokens_prod\n",
    "print(redcap_api_url)\n",
    "print(redcap_tokens_prod[\"PID171\"])"
   ]
  },
  {
   "cell_type": "code",
   "execution_count": null,
   "id": "5c2c0558-9c88-4bf2-b76c-5a17cb13dc43",
   "metadata": {},
   "outputs": [],
   "source": [
    "pid171_meta = redcap_metadata_export(redcap_api_url,redcap_tokens_prod[\"PID171\"])"
   ]
  },
  {
   "cell_type": "code",
   "execution_count": null,
   "id": "50ab1ffa-3e72-44fd-b8e8-880a9de113a0",
   "metadata": {},
   "outputs": [],
   "source": [
    "pid_171_meta_fields = accepted_redcap_fields(pid171_meta)"
   ]
  },
  {
   "cell_type": "code",
   "execution_count": null,
   "id": "adce61f5-d8f2-4efa-8b26-c1584109ccc6",
   "metadata": {},
   "outputs": [],
   "source": []
  },
  {
   "cell_type": "code",
   "execution_count": null,
   "id": "44315fcb-db5b-4d78-95fa-2a97486a4415",
   "metadata": {},
   "outputs": [],
   "source": [
    "import redcap\n",
    "project = redcap.Project(redcap_api_url, redcap_tokens_prod[\"PID171\"])"
   ]
  },
  {
   "cell_type": "code",
   "execution_count": null,
   "id": "bd457b7b-c583-4f7a-9185-25c74759ac8e",
   "metadata": {},
   "outputs": [],
   "source": [
    "test = project.export_records(format = \"df\", raw_or_label = \"label\")"
   ]
  },
  {
   "cell_type": "code",
   "execution_count": null,
   "id": "1b8834d5-0d76-46ce-ae48-33e48cc80eea",
   "metadata": {},
   "outputs": [],
   "source": [
    "test[\"extraction_method\"]"
   ]
  },
  {
   "cell_type": "markdown",
   "id": "944d519d-f70a-4e52-996c-ef3c5c551d6d",
   "metadata": {},
   "source": [
    "# Exploring LIMS data map (data dictionary) compared to REDCap fields"
   ]
  },
  {
   "cell_type": "markdown",
   "id": "bdbdb2b1-459c-489a-a68a-0f8508ff4f2f",
   "metadata": {},
   "source": [
    "### Do the fields in LIMS database match the fields in the data map (data dictionary)?"
   ]
  },
  {
   "cell_type": "code",
   "execution_count": null,
   "id": "0be94070-c7a4-4e66-8cb4-cfbeb267fc70",
   "metadata": {},
   "outputs": [],
   "source": [
    "#import LIMS data map excel file (data dictionray)\n",
    "df_LIMS_map = pd.read_excel(\"LIMS_Data_Dictionary_for_SARS_in_WW.xlsx\", sheet_name = \"DD for SARS in WW\", index_col = 0, header = 3, usecols = \"A:C\")\n",
    "LIMS_map_fields = list(df_LIMS_map.index) #data map fields\n",
    "\n",
    "#import raw LIMS fields values\n",
    "lims_raw = export_df_from_LIMS()\n",
    "lims_values = list(lims_raw.columns)\n",
    "\n",
    "#do the values is data dictionary correspond to the raw LIMS Columns?\n",
    "print(f\"number of raw fields in LIMS database: {len(lims_values)}\")\n",
    "print(f\"number of raw fields in LIMS data map (dictionary): {len(LIMS_map_fields)}\")\n",
    "\n",
    "print(f\" Are the raw fields identical? {lims_values == LIMS_map_fields}\")"
   ]
  },
  {
   "cell_type": "markdown",
   "id": "1a6e3d57-6c13-4575-8912-7d79ca268c0f",
   "metadata": {},
   "source": [
    "### Isolating only the data map fields that will be moved to REDCap "
   ]
  },
  {
   "cell_type": "code",
   "execution_count": null,
   "id": "e9496fa6-27b8-4887-8a75-26ab93b2c6bb",
   "metadata": {},
   "outputs": [],
   "source": [
    "#adjusted columns map, original before changing SARCoV2AvgConc and SARCoV2BeLowLOD to N1_ and N2_ prefix during long to wide transform\n",
    "dict_lims_column_map = {\n",
    "                         'SampleCollectDate': 'sample_collect_date',\n",
    "                         'SampleCollectTime': 'sample_collect_time',\n",
    "                         'pH': 'ph',\n",
    "                         'Conductivity': 'conductivity',\n",
    "                         'CollectionWaterTemp': 'collection_water_temp',\n",
    "                         'TSS': 'tss',\n",
    "                         'CollectionStorageTime': 'collection_storage_time',\n",
    "                         'CollectionStorageTemp': 'collection_storage_temp',\n",
    "                         'Pretreatment': 'pretreatment',\n",
    "                         'PretreatmentSpecify': 'pretreatment_specify',\n",
    "                         'EquivSewageAmt': 'equiv_sewage_amt',\n",
    "                         'TestResultDate': 'test_result_date',\n",
    "                         'FlowRate': 'flow_rate',\n",
    "                         'SARSCoV2Units': 'sars_cov2_units',\n",
    "                         'SARSCoV2AvgConc': 'sars_cov2_avg_conc',\n",
    "                         'SARSCoV2StdError': 'sars_cov2_std_error',\n",
    "                         'SARSCoV2CI95lo': 'sars_cov2_cl_95_lo',\n",
    "                         'SARSCoV2CI95up': 'sars_cov2_cl_95_up',\n",
    "                         'SARSCoV2BelowLOD': 'sars_cov2_below_lod',\n",
    "                         'LODSewage': 'lod_sewage',\n",
    "                         'NTCAmplify': 'ntc_amplify',\n",
    "                         'RecEffSpikeConc': 'rec_eff_percent',\n",
    "                         'InhibitionDetect': 'inhibition_detect',\n",
    "                         'InhibitionAdjust': 'inhibition_adjust',\n",
    "                         'ConcentrationMethod': 'concentration_method',\n",
    "                         'ExtractionMethod': 'extraction_method',\n",
    "                         'PreConcStorageTime': 'pre_conc_storage_time',\n",
    "                         'PreConcStorageTemp': 'pre_conc_storage_temp',\n",
    "                         'PreExtStorageTime': 'pre_ext_storage_time',\n",
    "                         'PreExtStorageTemp': 'pre_ext_storage_temp',\n",
    "                         'TotConcVol': 'tot_conc_vol',\n",
    "                         'QualityFlag': 'quality_flag',\n",
    "#                          'N1_SARSCoV2AvgConc':'n1_sars_cov2_avg_conc',\n",
    "#                          'N2_SARSCoV2AvgConc':'n2_sars_cov2_avg_conc',\n",
    "#                          'N1_SARSCoV2BelowLOD':'n1_sars_cov2_below_lod',\n",
    "#                          'N2_SARSCoV2BelowLOD':'n2_sars_cov2_below_lod'\n",
    "                        }\n",
    "\n",
    "\n",
    "#selecting only the relevant fields from LIMS data map\n",
    "LIMS_map_fields_v2 =  set(dict_lims_column_map.keys()) & set(LIMS_map_fields)\n",
    "#Did all the fields get captured in above variable?\n",
    "print(len(dict_lims_column_map))\n",
    "print(len(LIMS_map_fields_v2))\n",
    "\n",
    "#relavent data map\n",
    "df_LIMS_map_v2 = df_LIMS_map.loc[LIMS_map_fields_v2].copy()\n",
    "df_LIMS_map_v2.head()\n",
    "\n",
    "#renaming\n",
    "df_LIMS_map_v2.rename(index = dict_lims_column_map, inplace = True)\n",
    "df_LIMS_map_v2.head()"
   ]
  },
  {
   "cell_type": "markdown",
   "id": "9d651be0-fc17-421f-beb5-424166cbe482",
   "metadata": {},
   "source": [
    "### Completed transformations: Numeric columns"
   ]
  },
  {
   "cell_type": "code",
   "execution_count": null,
   "id": "7e213344-3f6f-4c3b-8765-06219a96c719",
   "metadata": {},
   "outputs": [],
   "source": [
    "df_LIMS_map_v2.loc[numeric_clms]"
   ]
  },
  {
   "cell_type": "markdown",
   "id": "752874c5-2c84-4217-94bd-f084720a7242",
   "metadata": {},
   "source": [
    "### Completed transformations: Text to columns"
   ]
  },
  {
   "cell_type": "code",
   "execution_count": null,
   "id": "e8aa581a-2446-414b-b78b-e327526855a3",
   "metadata": {},
   "outputs": [],
   "source": [
    "df_LIMS_map_v2.loc[text_to_numeric]"
   ]
  },
  {
   "cell_type": "markdown",
   "id": "2762f01d-e2aa-4374-9c2f-9734029241f8",
   "metadata": {},
   "source": [
    "### Completed transformations: Dates were not changed, time field is transformed elsewhere"
   ]
  },
  {
   "cell_type": "code",
   "execution_count": null,
   "id": "50da1f50-3ca0-42a5-89d8-c2a3f0aa847b",
   "metadata": {},
   "outputs": [],
   "source": [
    "time_and_date = [\"sample_collect_date\", \"test_result_date\",\"sample_collect_time\"]\n",
    "df_LIMS_map_v2.loc[time_and_date]"
   ]
  },
  {
   "cell_type": "markdown",
   "id": "a0367b68-ef3b-47bb-af43-f45d7ac3dcdd",
   "metadata": {},
   "source": [
    "### Completed transformations: special fields, do not need transform"
   ]
  },
  {
   "cell_type": "code",
   "execution_count": null,
   "id": "5a7d4ad8-a8d8-4c87-a656-20f16f4d33bf",
   "metadata": {},
   "outputs": [],
   "source": [
    "special = [\"sars_cov2_avg_conc\",\"sars_cov2_below_lod\" ]\n",
    "df_LIMS_map_v2.loc[special]"
   ]
  },
  {
   "cell_type": "markdown",
   "id": "89f0a4b8-cf44-44a5-adc3-951c4c85905c",
   "metadata": {},
   "source": [
    "## Completed transformations: yes/no columns"
   ]
  },
  {
   "cell_type": "code",
   "execution_count": null,
   "id": "fd64ce5c-c52d-409f-b045-a637126f3a1c",
   "metadata": {},
   "outputs": [],
   "source": [
    "print(yes_no_clms)\n",
    "\n",
    "yes_no_clms_original = list(set(yes_no_clms) - set(['n1_sars_cov2_below_lod', 'n2_sars_cov2_below_lod']))\n",
    "\n",
    "df_LIMS_map_v2.loc[yes_no_clms_original]"
   ]
  },
  {
   "cell_type": "markdown",
   "id": "c1beff99-f2b9-4045-93c5-9769631ac59e",
   "metadata": {},
   "source": [
    "### Explore remaining fields"
   ]
  },
  {
   "cell_type": "code",
   "execution_count": null,
   "id": "7f89cbf8-b8ba-4138-9e93-34f85cb95b2e",
   "metadata": {},
   "outputs": [],
   "source": [
    "covered_clms = numeric_clms + text_to_numeric + time_and_date + special + yes_no_clms_original\n",
    "\n",
    "covered = df_LIMS_map_v2.index.isin(covered_clms)\n",
    "df_LIMS_map_v2.loc[~covered]"
   ]
  },
  {
   "cell_type": "code",
   "execution_count": null,
   "id": "21fb458d-77cf-4219-9b92-82c81d3a5582",
   "metadata": {},
   "outputs": [],
   "source": [
    "df_lims.columns"
   ]
  },
  {
   "cell_type": "code",
   "execution_count": null,
   "id": "597bc9bd-9f2a-408e-a520-c4c462dadc2d",
   "metadata": {},
   "outputs": [],
   "source": [
    "df_LIMS_map_v2.loc[\"extraction_method\", \"Field/Data Type\"]"
   ]
  },
  {
   "cell_type": "code",
   "execution_count": null,
   "id": "cef07f46-f0ac-42dd-8136-f7aa867318c2",
   "metadata": {},
   "outputs": [],
   "source": [
    "covered = df_LIMS_map_v2.index.isin(covered_clms)\n",
    "not_covered = df_LIMS_map_v2.loc[~covered].index"
   ]
  },
  {
   "cell_type": "code",
   "execution_count": null,
   "id": "fafea83b-ecd9-4086-a445-c36ccb672c89",
   "metadata": {},
   "outputs": [],
   "source": [
    "[i for i in not_covered]"
   ]
  },
  {
   "cell_type": "code",
   "execution_count": null,
   "id": "b74c6d3d-5087-4ad2-a78b-4a3f9798b30c",
   "metadata": {},
   "outputs": [],
   "source": [
    "[df_lims[clm].unique() for clm in df_lims[not_covered]]"
   ]
  },
  {
   "cell_type": "markdown",
   "id": "55324b3c-ed12-44c8-b34e-a1b6aea84a62",
   "metadata": {},
   "source": [
    "Notes for REDCap import:\n",
    "'extraction_method' has a list of possibilities, the LIMS value is not present in this list\n",
    "'lod_sewage' is just a text value, test importing native data\n",
    "'pre_conc_storage_temp' is just a text value, test importing native data\n",
    "'sars_cov2_units' has list of possibilities, number inputs, need dict to convert\n",
    "'oncentration_method' has a list of possibilities, the LIMS value is not present in this list"
   ]
  },
  {
   "cell_type": "markdown",
   "id": "c26b7abc-222f-4559-913c-c37667346c08",
   "metadata": {},
   "source": [
    "# Apendix"
   ]
  },
  {
   "cell_type": "markdown",
   "id": "a94bad9f-ddb3-4e59-ad47-6606b8be4b3c",
   "metadata": {},
   "source": [
    "## A-I) Explore datatype stored in LIMS database"
   ]
  },
  {
   "cell_type": "markdown",
   "id": "98a57149-32a0-4c48-a738-3875b59ad37a",
   "metadata": {},
   "source": [
    "pyodbc cursor object allows to interact with database parameters. cursos.columns() returns information about every column in the database table."
   ]
  },
  {
   "cell_type": "code",
   "execution_count": null,
   "id": "b6794b18-623c-4a93-99af-565245040a28",
   "metadata": {},
   "outputs": [],
   "source": [
    "cnxn = pyodbc.connect(credentials) # credentials = 'DSN=LIMS_DATA;UID=xxxxxxx;PWD=xxxxxxx'\n",
    "cursor = cnxn.cursor()\n",
    "\n",
    "dtype_list = [(i.column_name, i.type_name) for i in cursor.columns(table=\"vz_Epi_ELS_SARS-CoV-2 ddPCR\")]\n",
    "\n",
    "dtype_list\n"
   ]
  },
  {
   "cell_type": "markdown",
   "id": "3e9925ad-efc0-48b3-8406-912d6c1c6bfe",
   "metadata": {},
   "source": [
    "RESULT: Two columns have datetime type, remaining columns are varchar type\n",
    "('TestResultDate', 'datetime')\n",
    "('SampleCollectDate', 'datetime')"
   ]
  },
  {
   "cell_type": "markdown",
   "id": "48ba6a07-87f5-41e8-987f-705182f3b97c",
   "metadata": {},
   "source": [
    "## A-II) Explore converting LIMS dataframe to numeric type - may not be necessary."
   ]
  },
  {
   "cell_type": "code",
   "execution_count": null,
   "id": "fa3aa648-be06-4d06-9e1d-4f0470ec6ba9",
   "metadata": {},
   "outputs": [],
   "source": [
    "potential_numeric = [\"NumNoTargetControl\", \"SARSCoV2AvgConc\"]"
   ]
  },
  {
   "cell_type": "code",
   "execution_count": null,
   "id": "0731a86f-c1b8-4d81-b55c-a5e1b421ad0f",
   "metadata": {},
   "outputs": [],
   "source": [
    "df_lims[potential_numeric] = df_lims[potential_numeric].apply(pd.to_numeric, errors = \"coerce\")"
   ]
  },
  {
   "cell_type": "code",
   "execution_count": null,
   "id": "3349592f-e487-4fce-a906-28687ebb240b",
   "metadata": {},
   "outputs": [],
   "source": [
    "df_lims.info()"
   ]
  },
  {
   "cell_type": "markdown",
   "id": "07bbaeae-081d-4a3d-85a4-79b8dc4d5e40",
   "metadata": {},
   "source": [
    "## B-I) REDCap Manual data export"
   ]
  },
  {
   "cell_type": "markdown",
   "id": "db9a9ae6-b167-46c2-aacc-1c8f400fc4fc",
   "metadata": {},
   "source": [
    "Exploring manual csv data export - column ID's, Datatypes, Exporting Survey ID and Survey Timestamp\n",
    "\n",
    "**Conclusion**: 2 additional column are present in when manually exporting csv and keeping survey ID and Survey timestamp selected"
   ]
  },
  {
   "cell_type": "code",
   "execution_count": null,
   "id": "d941d999-ec42-4037-857c-77fd8ebd2e8d",
   "metadata": {},
   "outputs": [],
   "source": [
    "import pandas as pd\n",
    "\n",
    "#import data\n",
    "df_PID177_manual = pd.read_csv(\"./redcap_manual_export/PID177_ww_labs.csv\")\n",
    "df_PID177_manual_noID_noTimeStamp = pd.read_csv(\"./redcap_manual_export/PID177_ww_labs_minus_SurTimestamp_SurIdentifier.csv\")\n",
    "\n",
    "#make set of column names\n",
    "columns_PID177_full = set(df_PID177_manual.columns)\n",
    "columns_PID177_minimal = set(df_PID177_manual_noID_noTimeStamp.columns)\n",
    "\n",
    "#compare column sets\n",
    "print(\"additional columns present: \" + str(columns_PID177_full - columns_PID177_minimal))\n",
    "#print(labs_set_minimal - labs_set_full) #returns empty set \n",
    "\n",
    "print(\"\\n\")\n",
    "print(df_PID177_manual[['redcap_survey_identifier', 'a3_ww_lab_set_up_timestamp']])\n",
    "print(\"\\n\")\n",
    "print(df_PID177_manual.info())"
   ]
  },
  {
   "cell_type": "markdown",
   "id": "9d8e1b5f-834e-4dac-88c6-d42e626e16ce",
   "metadata": {},
   "source": [
    "## B-II) REDCap API Data Export"
   ]
  },
  {
   "cell_type": "markdown",
   "id": "122c222c-11fe-467a-93bf-618e7a089850",
   "metadata": {},
   "source": [
    "Explore data export via native REDCap API pull\n",
    "\n",
    "**Conclusion**: API call return data without the additional columns: [redcap_survey_identifier, a3_ww_lab_set_up_timestamp]. These columns can be pulled when exporting data manualy by checking a box.\n",
    "\n",
    "**Conclusion**: API export columns and manual export columns are identical when survey_identifier and survey_timestamp field remain uncheck during manual export. \n",
    "\n",
    "**Conclusion**: During API export, all column fields are objects. Manual export to csv and load to pandas, yields some numeric fields.\n",
    "\n",
    "**Conclusion**: Datetime format is different between API export, and manual csv export. "
   ]
  },
  {
   "cell_type": "code",
   "execution_count": null,
   "id": "d6fd9d03-03aa-4e58-9ae6-839e4e344322",
   "metadata": {},
   "outputs": [],
   "source": [
    "#export PID177 all data via API\n",
    "df_PID177_API = redcap_API_export(redcap_api_url, redcap_tokens_prod[\"PID177\"])\n",
    "\n",
    "API_columns_set = set(df_PID177_API.columns)\n",
    "\n",
    "#comparing columns of csv manual export with identifier and timestamp fields with standrad API export\n",
    "print(\"additional columns present: \" + str(columns_PID177_full - API_columns_set))\n",
    "#print(API_columns_set - columns_PID177_full) #empty set\n",
    "print()\n",
    "#are all the columns identical? \n",
    "print(\"Are all the columns identical between standard csv export and API export?\")\n",
    "print(all(df_PID177_manual_noID_noTimeStamp.columns == df_PID177_API.columns))\n",
    "\n",
    "print()\n",
    "#converting both manually pulled csv and API data to numberic datatypes (if possible)\n",
    "#df_PID177_API = df_PID177_API.apply(pd.to_numeric, errors = \"ignore\")\n",
    "#df_PID177_manual_noID_noTimeStamp = df_PID177_manual_noID_noTimeStamp.apply(pd.to_numeric, errors = \"ignore\")\n",
    "\n",
    "#converting timestamp \n",
    "df_PID177_API[\"ww_lab_setup_date\"] = pd.to_datetime(df_PID177_API[\"ww_lab_setup_date\"])\n",
    "df_PID177_manual_noID_noTimeStamp[\"ww_lab_setup_date\"] = pd.to_datetime(df_PID177_manual_noID_noTimeStamp[\"ww_lab_setup_date\"])\n",
    "print(\"after converting all columns to numeric, and 'ww_lab_setup_date' columns to datetime, are the dataframes identical?\")\n",
    "\n",
    "print(df_PID177_manual_noID_noTimeStamp.equals(df_PID177_manual_noID_noTimeStamp))\n"
   ]
  },
  {
   "cell_type": "markdown",
   "id": "ec9e77bf-1a1d-44ab-989f-29fe2d309601",
   "metadata": {},
   "source": [
    "# B-III) RedCap Pycap Data Export"
   ]
  },
  {
   "cell_type": "markdown",
   "id": "d38ce5f9-2603-42a1-9ece-ecd3b24741eb",
   "metadata": {},
   "source": [
    "**Conclusion**: PyCap API calls to export record DO NOT contain record status data"
   ]
  },
  {
   "cell_type": "code",
   "execution_count": null,
   "id": "afae3e97-0cd5-4172-9bb6-8434a521e208",
   "metadata": {},
   "outputs": [],
   "source": [
    "import redcap\n",
    "PID177_project = redcap.Project(redcap_api_url, redcap_tokens_prod[\"PID177\"])"
   ]
  },
  {
   "cell_type": "code",
   "execution_count": null,
   "id": "d4696806-c91e-43ed-a823-0d8eefb30362",
   "metadata": {},
   "outputs": [],
   "source": [
    "PID177_pycap = PID177_project.export_records(format=\"df\",\n",
    "                                             event_name = \"unique\",\n",
    "                                             #export_checkbox_labels = True,\n",
    "                                             #export_data_access_groups = True,\n",
    "                                             #export_survey_fields = True\n",
    "                                            )\n",
    "\n",
    "\n",
    "\n",
    "print(\"Additional columns present: \" + str(set(ww_redcap[\"PID177\"].columns) - set(PID177_pycap.columns)))\n",
    "print(set(PID177_pycap.columns) - set(ww_redcap[\"PID177\"].columns))"
   ]
  },
  {
   "cell_type": "markdown",
   "id": "9ea8b73a-2749-4894-9ffc-93ef92e8beea",
   "metadata": {},
   "source": [
    "# C-I) Exploring LIMS data columns and REDCap data columns"
   ]
  },
  {
   "cell_type": "markdown",
   "id": "ffebf4db-9a16-4c53-a843-56244a1a3c72",
   "metadata": {},
   "source": [
    "**Conclusion**: Only certain columns from LIMS data map to PID171\n",
    "\n",
    "**Conclusion**: Created an excel file, to map column name conversion between LIMS and REDCap PID171, created a function to generate dictionary for LIMS data transformation (renaming columns)"
   ]
  },
  {
   "cell_type": "code",
   "execution_count": null,
   "id": "bfc44dc5-725a-42fd-8589-d465bd9dba68",
   "metadata": {},
   "outputs": [],
   "source": [
    "df_WWSamples = ww_redcap[\"PID171\"]\n",
    "print(df_WWSamples.shape)"
   ]
  },
  {
   "cell_type": "code",
   "execution_count": null,
   "id": "2f477960-c587-488b-9d60-7c7c69581433",
   "metadata": {},
   "outputs": [],
   "source": [
    "df_lims.dtypes.to_csv(\"lims_datatypes.csv\")\n",
    "df_WWSamples.dtypes.to_csv(\"PID171_WW_Samples.csv\")"
   ]
  },
  {
   "cell_type": "code",
   "execution_count": null,
   "id": "ada3a171-ca35-4a71-ac30-b88a65848163",
   "metadata": {},
   "outputs": [],
   "source": [
    "df_WWSamples.iloc[:,:5]"
   ]
  },
  {
   "cell_type": "markdown",
   "id": "6d2a0770-74d3-463d-9582-ce1d9e0f6d8c",
   "metadata": {},
   "source": [
    "Function to generate column name transform dictionary. Data lives in xlsx file \"LIMS_REDCap_columns_ID's.xlsx\""
   ]
  },
  {
   "cell_type": "code",
   "execution_count": null,
   "id": "3b19de18-56eb-4f93-8ed4-b2e52ed1d7ed",
   "metadata": {},
   "outputs": [],
   "source": [
    "df_lims_redcap_column_map = pd.read_excel(\"LIMS_REDCap_columns_IDs.xlsx\", sheet_name = \"COMBINED\") \n",
    "\n",
    "not_null_lims = pd.notna(df_lims_redcap_column_map[\"LIMS_COLUMNS_NAME\"]) #find present LIMS columns that map to REDCap\n",
    "\n",
    "df_lims_map = df_lims_redcap_column_map[not_null_lims][[\"PID171_COLUMNS_NAME\",\"LIMS_COLUMNS_NAME\"]] #filter for mapped columns\n",
    "\n",
    "df_lims_map.set_index(\"LIMS_COLUMNS_NAME\", inplace = True)\n",
    "\n",
    "dict_lims_map = df_lims_map.to_dict()\n",
    "\n",
    "dict_lims_map = dict_lims_map['PID171_COLUMNS_NAME']\n",
    "\n",
    "dict_lims_map"
   ]
  },
  {
   "cell_type": "markdown",
   "id": "7b0b99bd-9a2b-495a-b085-ab1f1315e371",
   "metadata": {},
   "source": [
    "# C-II) Explore LIMS date column types in preperation for REDCap Import\n",
    "Conclusion: Only 2 columns from LIMS contain dates, both column contain dates in form YYYY-MM-DD, nothing else is needed."
   ]
  },
  {
   "cell_type": "code",
   "execution_count": null,
   "id": "ef294df2-3096-4179-a813-e2ab76ebc931",
   "metadata": {},
   "outputs": [],
   "source": [
    "mdy = fields_datetime[fields_datetime[\"text_validation_type_or_show_slider_number\"].str.contains(\"date\")] #all redcap PID171 datetime fields\n",
    "a = set(mdy.index)\n",
    "b = set(dict_lims_column_map.values()) #all redcap values that come from lims\n",
    "dates = list(a & b)  \n",
    "\n",
    "print(dates) #only two columns from LIMS that go into REDCap have date values\n",
    "\n",
    "\n",
    "#Testing format of date columns from LIMS that must be imported into REDCap\n",
    "for i in dates:\n",
    "    a = df_lims[i].astype(\"str\")\n",
    "    print([j for j in a])"
   ]
  },
  {
   "cell_type": "markdown",
   "id": "7de93a45-0b59-4be9-9270-e7748fe8cbde",
   "metadata": {},
   "source": [
    "# D-I) Demonstration of Upload 1 row of data into REDCap"
   ]
  },
  {
   "cell_type": "code",
   "execution_count": null,
   "id": "b9d84a41-227e-4ed1-b964-90ca480e2ce3",
   "metadata": {},
   "outputs": [],
   "source": [
    "from datetime import date\n",
    "\n",
    "# TEST Import 1 row of data (PID171 format, all blanks)\n",
    "df_test_01 = ww_redcap[\"PID171\"][df_lims.columns].iloc[0:1].copy()   #take only 1 row of data \n",
    "\n",
    "\n",
    "# setting values to df_test\n",
    "df_test_01.set_index(pd.Series([999999]), inplace = True)  #set index to 999999\n",
    "df_test_01.loc[999999] = \"test\"\n",
    "df_test_01[\"test_result_date\"] = date.today()\n",
    "df_test_01['sample_collect_date'] = date.today()\n",
    "df_test_01['sample_collect_time'] = \"10:30\"\n",
    "df_test_01[\"pretreatment\"] = 1 # 0 or 1 (yes, no)\n",
    "df_test_01[\"sars_cov2_units\"] = 1 # number 1-6 (drop down categories)\n",
    "df_test_01[\"sars_cov2_below_lod\"] = \"yes\" # \"yes\" or \"no\"\n",
    "df_test_01[\"ntc_amplify\"] = \"yes\" # \"yes\" or \"no\"\n",
    "df_test_01[\"inhibition_detect\"] =  \"yes\" # \"yes\" or \"no\" or \"not_tested\"\n",
    "df_test_01[\"inhibition_adjust\"] = \"yes\" # \"yes\" or \"no\" (only if inhibition_detect = \"yes\")\n",
    "df_test_01[\"concentration_method\"] = \"mf-mgcl2\" #long list of drop down values\n",
    "df_test_01[\"extraction_method\"] = \"qiagen-fecal\" #long list of drop down values\n",
    "df_test_01[\"quality_flag\"] = \"yes\" # \"yes\" or \"no\"\n",
    "\n"
   ]
  },
  {
   "cell_type": "code",
   "execution_count": null,
   "id": "53c8de54-1ca6-4763-8341-d053155e0a72",
   "metadata": {},
   "outputs": [],
   "source": [
    "#Connecting to PID171\n",
    "import redcap\n",
    "project = redcap.Project(redcap_api_url, redcap_tokens_prod[\"PID171\"])\n",
    "\n",
    "response = project.import_records(df_test_01, force_auto_number=False)\n",
    "response"
   ]
  },
  {
   "cell_type": "markdown",
   "id": "d314534c-951c-41ed-960c-560ebf5833c1",
   "metadata": {},
   "source": [
    "# D-II) Testing obligate fields import into REDCap"
   ]
  },
  {
   "cell_type": "code",
   "execution_count": null,
   "id": "9018992a-e975-41e7-8b42-d01efcbfb8de",
   "metadata": {},
   "outputs": [],
   "source": [
    "#build a simple dataframe to import obligate value fields only\n",
    "\n",
    "row = {}\n",
    "for i,j in fields.items():\n",
    "    row[i] = next(iter(j))\n",
    "\n",
    "single_row = pd.DataFrame(row, index = [1])\n",
    "two_rows = single_row.append(single_row)\n",
    "two_rows.reset_index(drop = True, inplace=True)\n",
    "two_rows.index.name = \"sample_id\""
   ]
  },
  {
   "cell_type": "code",
   "execution_count": null,
   "id": "04dfaaca-11f6-44e3-8829-1ff5ada78c37",
   "metadata": {},
   "outputs": [],
   "source": [
    "#Attempt to import two rows\n",
    "import redcap\n",
    "project = redcap.Project(redcap_api_url, redcap_tokens_prod[\"PID171\"])\n",
    "\n",
    "response = project.import_records(two_rows, force_auto_number=False)\n",
    "response"
   ]
  },
  {
   "cell_type": "markdown",
   "id": "a4d58fbc-bd7d-4327-ae18-eecb944cbc7a",
   "metadata": {},
   "source": [
    "# D-III) Combination of new column names due to tests for multiple PCR targets per sample\n",
    "\n",
    "Conclusion: 2 unique column must be present for every PCR Target: [\"sars_cov2_below_lod\", \"sars_cov2_avg_conc\"]\n",
    "\n",
    "There are 14 PCR targets. Resulting in 28 combinations. "
   ]
  },
  {
   "cell_type": "code",
   "execution_count": null,
   "id": "fa922dbe-b962-49b3-a1f1-a1a683d0a507",
   "metadata": {},
   "outputs": [],
   "source": [
    "#PID176 metadata\n",
    "fields_restricted = (\n",
    "    redcap_metadata_export(redcap_api_url, redcap_tokens_prod[\"PID176\"])\n",
    "    .pipe(accepted_redcap_fields)\n",
    "    )\n",
    "\n",
    "#Lists that need to be combined\n",
    "pcr_target = list(fields_restricted['pcr_target'].values())\n",
    "result_fields = [\"sars_cov2_below_lod\", \"sars_cov2_avg_conc\"]\n",
    "\n",
    "#concat all combinations\n",
    "pcr_target[0] + \"_\" + result_fields[0]\n",
    "\n",
    "combined_fields = []\n",
    "for i in pcr_target:\n",
    "    for j in result_fields:\n",
    "        value = i + \"_\" + j\n",
    "        combined_fields.append(value)\n",
    "        \n",
    "        \n",
    "combined_fields"
   ]
  },
  {
   "cell_type": "markdown",
   "id": "e3b0edd7-2cc9-40f3-8b23-c6e7d09f6927",
   "metadata": {},
   "source": [
    "# D-IV) Exploring New Column names for PCR gene Targets"
   ]
  },
  {
   "cell_type": "code",
   "execution_count": null,
   "id": "a9203105-bf4c-4848-880a-8c6914aa9c19",
   "metadata": {},
   "outputs": [],
   "source": [
    "df = ww_redcap[\"PID171\"]\n",
    "below_lod = []\n",
    "avg_conc = []\n",
    "\n",
    "#all columns ending in \"below_lod\" and \"avg_conc\"\n",
    "for i in df.columns:\n",
    "    if re.search(r\"below_lod$\", i):\n",
    "        below_lod.append(i)\n",
    "        print(i)\n",
    "        \n",
    "    elif re.search(r\"avg_conc$\", i):\n",
    "        avg_conc.append(i)\n",
    "        print(i)\n",
    "    "
   ]
  },
  {
   "cell_type": "code",
   "execution_count": null,
   "id": "a7c18c50-7bca-4602-9b65-83cdbb24407d",
   "metadata": {},
   "outputs": [],
   "source": [
    "combined = avg_conc + below_lod\n",
    "\n",
    "master_key = [\n",
    "\n",
    "     'n1_sars_cov2_below_lod',\n",
    "     'n1_sars_cov2_avg_conc',\n",
    "     'n2_sars_cov2_below_lod',\n",
    "     'n2_sars_cov2_avg_conc',\n",
    "     'n3_sars_cov2_below_lod',\n",
    "     'n3_sars_cov2_avg_conc',\n",
    "     'e_sarbeco_sars_cov2_below_lod',\n",
    "     'e_sarbeco_sars_cov2_avg_conc',\n",
    "     'n_sarbeco_sars_cov2_below_lod',\n",
    "     'n_sarbeco_sars_cov2_avg_conc',\n",
    "     'rdrp_sarsr_sars_cov2_below_lod',\n",
    "     'rdrp_sarsr_sars_cov2_avg_conc',\n",
    "     'niid_2019ncov_n_sars_cov2_below_lod',\n",
    "     'niid_2019ncov_n_sars_cov2_avg_conc',\n",
    "     'rdrp_genencov_ip2_sars_cov2_below_lod',\n",
    "     'rdrp_genencov_ip2_sars_cov2_avg_conc',\n",
    "     'rdrp_genencov_ip4_sars_cov2_below_lod',\n",
    "     'rdrp_genencov_ip4_sars_cov2_avg_conc',\n",
    "     'taqpathn_sars_cov2_below_lod',\n",
    "     'taqpathn_sars_cov2_avg_conc',\n",
    "     'taqpaths_sars_cov2_below_lod',\n",
    "     'taqpaths_sars_cov2_avg_conc',\n",
    "     'orf1b_sars_cov2_below_lod',\n",
    "     'orf1b_sars_cov2_avg_conc',\n",
    "     'orf1ab_sars_cov2_below_lod',\n",
    "     'orf1ab_sars_cov2_avg_conc',\n",
    "     'n1andn2combined_sars_cov2_below_lod',\n",
    "     'n1andn2combined_sars_cov2_avg_conc']\n",
    "\n",
    "\n",
    "for i in combined:\n",
    "    if i in master_key:\n",
    "        pass\n",
    "        #print(i)\n",
    "    else:\n",
    "        print(f'ERROR The following value is not present in master key {i}')\n",
    "\n",
    "\n",
    "n = set(master_key)\n",
    "m = set(combined)\n",
    "\n",
    "print(n-m)\n",
    "print(m-n)\n",
    "\n",
    "print(len(below_lod))\n",
    "print(len(avg_conc))\n",
    "\n",
    "print(len(master_key))\n",
    "print(len(combined))"
   ]
  },
  {
   "cell_type": "code",
   "execution_count": null,
   "id": "10e46f63-dc26-4364-a06d-c82ea8ab38ac",
   "metadata": {},
   "outputs": [],
   "source": []
  }
 ],
 "metadata": {
  "kernelspec": {
   "display_name": "Python 3 (ipykernel)",
   "language": "python",
   "name": "python3"
  },
  "language_info": {
   "codemirror_mode": {
    "name": "ipython",
    "version": 3
   },
   "file_extension": ".py",
   "mimetype": "text/x-python",
   "name": "python",
   "nbconvert_exporter": "python",
   "pygments_lexer": "ipython3",
   "version": "3.8.12"
  }
 },
 "nbformat": 4,
 "nbformat_minor": 5
}

{
 "cells": [
  {
   "cell_type": "markdown",
   "id": "f971f7f0-3bbf-48d7-a6de-03d64b6db238",
   "metadata": {},
   "source": [
    "# Development of Wastewater Surveillance Data Automation Script "
   ]
  },
  {
   "cell_type": "markdown",
   "id": "01b91b93-0dec-4e53-9e6f-d2e0c385b9e8",
   "metadata": {},
   "source": [
    "## 1) Export All data from LIMS DatabasE"
   ]
  },
  {
   "cell_type": "code",
   "execution_count": 37,
   "id": "244916f0-241f-4748-9d17-b551f7dc3338",
   "metadata": {},
   "outputs": [],
   "source": [
    "#run script that executes export of LIMS data\n",
    "\n",
    "%run -i \"viral_lims_export.py\"\n",
    "\n",
    "####Export all lims data####\n",
    "df_lims = export_df_from_LIMS()\n",
    "#df_lims.info()\n",
    "\n",
    "####Transform lims dataframe#### \n",
    "df_lims = rename_lims_columns(df_lims)\n",
    "\n",
    "####export all dataframes from 4 WW Redcap Projects####\n",
    "ww_redcap = project_dtype_summary(redcap_api_url, redcap_tokens_prod)\n",
    "\n",
    "#### Export accepted values in restricted fields from metadata API ####\n",
    "fields = (\n",
    "    redcap_metadata_export(redcap_api_url, redcap_tokens_prod[\"PID171\"])\n",
    "    .pipe(accepted_redcap_fields)\n",
    "    )"
   ]
  },
  {
   "cell_type": "code",
   "execution_count": null,
   "id": "963d4152-7c20-4896-a446-63318e81b6ac",
   "metadata": {},
   "outputs": [],
   "source": [
    "df_lims.iloc[-15:,:]"
   ]
  },
  {
   "cell_type": "markdown",
   "id": "c899b6e0-7fcf-4cfc-9cac-23b6f6e22a90",
   "metadata": {},
   "source": [
    "# Testing obligate fields import into REDCap"
   ]
  },
  {
   "cell_type": "code",
   "execution_count": 94,
   "id": "99849932-14d8-429a-a36f-1edaebb75b88",
   "metadata": {},
   "outputs": [],
   "source": [
    "#build a simple dataframe to import obligate value fields only\n",
    "\n",
    "row = {}\n",
    "for i,j in fields.items():\n",
    "    row[i] = next(iter(j))\n",
    "\n",
    "single_row = pd.DataFrame(row, index = [1])\n",
    "two_rows = single_row.append(single_row)\n",
    "two_rows.reset_index(drop = True, inplace=True)\n",
    "two_rows.index.name = \"sample_id\""
   ]
  },
  {
   "cell_type": "code",
   "execution_count": 96,
   "id": "c7473f00-965a-4643-a8c1-fbf54d582901",
   "metadata": {},
   "outputs": [
    {
     "data": {
      "text/plain": [
       "{'count': 2}"
      ]
     },
     "execution_count": 96,
     "metadata": {},
     "output_type": "execute_result"
    }
   ],
   "source": [
    "#Attempt to import two rows\n",
    "import redcap\n",
    "project = redcap.Project(redcap_api_url, redcap_tokens_prod[\"PID171\"])\n",
    "\n",
    "response = project.import_records(two_rows, force_auto_number=False)\n",
    "response"
   ]
  },
  {
   "cell_type": "code",
   "execution_count": null,
   "id": "0642b268-7701-480c-80b1-aaf9b7f6fe51",
   "metadata": {},
   "outputs": [],
   "source": []
  },
  {
   "cell_type": "code",
   "execution_count": null,
   "id": "856628a8-a4df-4172-a876-7f2bd487738a",
   "metadata": {},
   "outputs": [],
   "source": []
  },
  {
   "cell_type": "code",
   "execution_count": null,
   "id": "7aaf4cdc-0687-4c15-9005-ddfcf3f60122",
   "metadata": {},
   "outputs": [],
   "source": []
  },
  {
   "cell_type": "code",
   "execution_count": 126,
   "id": "b0432dbe-067a-4594-9095-d68280ee86f1",
   "metadata": {},
   "outputs": [],
   "source": [
    "import numpy as np\n",
    "#setting test data and changing index values\n",
    "test_01 = df_lims.iloc[-10:].copy()\n",
    "test_01.index._data = np.array(np.arange(0,10))\n"
   ]
  },
  {
   "cell_type": "code",
   "execution_count": 127,
   "id": "bdf905b3-8196-4905-b7fd-98d0d224c5c4",
   "metadata": {},
   "outputs": [],
   "source": [
    "#Find which of the obligate value fields are present in the transformed LIMS dataframe\n",
    "transformed_lims_clms = set(test_01.columns)\n",
    "obligate_fields = set([i for i in fields.keys()])\n",
    "\n",
    "obligate_columns = list(obligate_fields & transformed_lims_clms)\n",
    "test_01 = test_01[obligate_columns].copy()"
   ]
  },
  {
   "cell_type": "code",
   "execution_count": 128,
   "id": "4d27290b-07e5-48bf-a4ce-2c25a599800d",
   "metadata": {},
   "outputs": [
    {
     "data": {
      "text/html": [
       "<div>\n",
       "<style scoped>\n",
       "    .dataframe tbody tr th:only-of-type {\n",
       "        vertical-align: middle;\n",
       "    }\n",
       "\n",
       "    .dataframe tbody tr th {\n",
       "        vertical-align: top;\n",
       "    }\n",
       "\n",
       "    .dataframe thead th {\n",
       "        text-align: right;\n",
       "    }\n",
       "</style>\n",
       "<table border=\"1\" class=\"dataframe\">\n",
       "  <thead>\n",
       "    <tr style=\"text-align: right;\">\n",
       "      <th></th>\n",
       "      <th>sars_cov2_below_lod</th>\n",
       "      <th>inhibition_adjust</th>\n",
       "      <th>ntc_amplify</th>\n",
       "      <th>concentration_method</th>\n",
       "      <th>quality_flag</th>\n",
       "      <th>extraction_method</th>\n",
       "      <th>sars_cov2_units</th>\n",
       "      <th>inhibition_detect</th>\n",
       "    </tr>\n",
       "    <tr>\n",
       "      <th>sample_id</th>\n",
       "      <th></th>\n",
       "      <th></th>\n",
       "      <th></th>\n",
       "      <th></th>\n",
       "      <th></th>\n",
       "      <th></th>\n",
       "      <th></th>\n",
       "      <th></th>\n",
       "    </tr>\n",
       "  </thead>\n",
       "  <tbody>\n",
       "    <tr>\n",
       "      <th>0</th>\n",
       "      <td>None</td>\n",
       "      <td>None</td>\n",
       "      <td>No</td>\n",
       "      <td>Skim Milk Flocculation</td>\n",
       "      <td>No</td>\n",
       "      <td>KingFisher</td>\n",
       "      <td>Copies/L</td>\n",
       "      <td>None</td>\n",
       "    </tr>\n",
       "    <tr>\n",
       "      <th>1</th>\n",
       "      <td>None</td>\n",
       "      <td>None</td>\n",
       "      <td>No</td>\n",
       "      <td>Skim Milk Flocculation</td>\n",
       "      <td>No</td>\n",
       "      <td>KingFisher</td>\n",
       "      <td>Copies/L</td>\n",
       "      <td>None</td>\n",
       "    </tr>\n",
       "    <tr>\n",
       "      <th>2</th>\n",
       "      <td>None</td>\n",
       "      <td>None</td>\n",
       "      <td>No</td>\n",
       "      <td>Skim Milk Flocculation</td>\n",
       "      <td>No</td>\n",
       "      <td>KingFisher</td>\n",
       "      <td>Copies/L</td>\n",
       "      <td>None</td>\n",
       "    </tr>\n",
       "    <tr>\n",
       "      <th>3</th>\n",
       "      <td>None</td>\n",
       "      <td>None</td>\n",
       "      <td>No</td>\n",
       "      <td>Skim Milk Flocculation</td>\n",
       "      <td>No</td>\n",
       "      <td>KingFisher</td>\n",
       "      <td>Copies/L</td>\n",
       "      <td>None</td>\n",
       "    </tr>\n",
       "    <tr>\n",
       "      <th>4</th>\n",
       "      <td>None</td>\n",
       "      <td>None</td>\n",
       "      <td>No</td>\n",
       "      <td>Skim Milk Flocculation</td>\n",
       "      <td>No</td>\n",
       "      <td>KingFisher</td>\n",
       "      <td>Copies/L</td>\n",
       "      <td>None</td>\n",
       "    </tr>\n",
       "    <tr>\n",
       "      <th>5</th>\n",
       "      <td>None</td>\n",
       "      <td>None</td>\n",
       "      <td>No</td>\n",
       "      <td>Skim Milk Flocculation</td>\n",
       "      <td>No</td>\n",
       "      <td>KingFisher</td>\n",
       "      <td>Copies/L</td>\n",
       "      <td>None</td>\n",
       "    </tr>\n",
       "    <tr>\n",
       "      <th>6</th>\n",
       "      <td>None</td>\n",
       "      <td>None</td>\n",
       "      <td>No</td>\n",
       "      <td>Skim Milk Flocculation</td>\n",
       "      <td>No</td>\n",
       "      <td>KingFisher</td>\n",
       "      <td>None</td>\n",
       "      <td>None</td>\n",
       "    </tr>\n",
       "    <tr>\n",
       "      <th>7</th>\n",
       "      <td>None</td>\n",
       "      <td>None</td>\n",
       "      <td>No</td>\n",
       "      <td>Skim Milk Flocculation</td>\n",
       "      <td>No</td>\n",
       "      <td>KingFisher</td>\n",
       "      <td>None</td>\n",
       "      <td>None</td>\n",
       "    </tr>\n",
       "    <tr>\n",
       "      <th>8</th>\n",
       "      <td>None</td>\n",
       "      <td>None</td>\n",
       "      <td>No</td>\n",
       "      <td>Skim Milk Flocculation</td>\n",
       "      <td>No</td>\n",
       "      <td>KingFisher</td>\n",
       "      <td>None</td>\n",
       "      <td>None</td>\n",
       "    </tr>\n",
       "    <tr>\n",
       "      <th>9</th>\n",
       "      <td>None</td>\n",
       "      <td>None</td>\n",
       "      <td>No</td>\n",
       "      <td>Skim Milk Flocculation</td>\n",
       "      <td>No</td>\n",
       "      <td>KingFisher</td>\n",
       "      <td>None</td>\n",
       "      <td>None</td>\n",
       "    </tr>\n",
       "  </tbody>\n",
       "</table>\n",
       "</div>"
      ],
      "text/plain": [
       "          sars_cov2_below_lod inhibition_adjust ntc_amplify  \\\n",
       "sample_id                                                     \n",
       "0                        None              None          No   \n",
       "1                        None              None          No   \n",
       "2                        None              None          No   \n",
       "3                        None              None          No   \n",
       "4                        None              None          No   \n",
       "5                        None              None          No   \n",
       "6                        None              None          No   \n",
       "7                        None              None          No   \n",
       "8                        None              None          No   \n",
       "9                        None              None          No   \n",
       "\n",
       "             concentration_method quality_flag extraction_method  \\\n",
       "sample_id                                                          \n",
       "0          Skim Milk Flocculation           No        KingFisher   \n",
       "1          Skim Milk Flocculation           No        KingFisher   \n",
       "2          Skim Milk Flocculation           No        KingFisher   \n",
       "3          Skim Milk Flocculation           No        KingFisher   \n",
       "4          Skim Milk Flocculation           No        KingFisher   \n",
       "5          Skim Milk Flocculation           No        KingFisher   \n",
       "6          Skim Milk Flocculation           No        KingFisher   \n",
       "7          Skim Milk Flocculation           No        KingFisher   \n",
       "8          Skim Milk Flocculation           No        KingFisher   \n",
       "9          Skim Milk Flocculation           No        KingFisher   \n",
       "\n",
       "          sars_cov2_units inhibition_detect  \n",
       "sample_id                                    \n",
       "0                Copies/L              None  \n",
       "1                Copies/L              None  \n",
       "2                Copies/L              None  \n",
       "3                Copies/L              None  \n",
       "4                Copies/L              None  \n",
       "5                Copies/L              None  \n",
       "6                    None              None  \n",
       "7                    None              None  \n",
       "8                    None              None  \n",
       "9                    None              None  "
      ]
     },
     "execution_count": 128,
     "metadata": {},
     "output_type": "execute_result"
    }
   ],
   "source": [
    "test_01"
   ]
  },
  {
   "cell_type": "markdown",
   "id": "6a9323bc-2f1d-4295-9c9c-d2b324322821",
   "metadata": {},
   "source": [
    "###### Devloping function to scan columns for accepted values"
   ]
  },
  {
   "cell_type": "code",
   "execution_count": 155,
   "id": "7daf9a4a-55a7-45d3-96d7-c088a3ab78d8",
   "metadata": {},
   "outputs": [],
   "source": [
    "# Creating Test datasets\n",
    "samples_dict = {\"column_A\": [\"A\",\"A\", \"B\", \"B\", \"C\",\"C\"],\n",
    "               \"column_B\": [\"CAT\",\"CAT\",\"Dog\",\"bat\",\"bat\",\"dog\"]}\n",
    "\n",
    "samples_df = pd.DataFrame(samples_dict)\n",
    "\n",
    "\n",
    "dat_dict = {\"column_A\": [\"A\" ,\"B\"], \n",
    "           \"column_B\": [\"CAT\", \"dog\"]}"
   ]
  },
  {
   "cell_type": "code",
   "execution_count": 156,
   "id": "7214b8d4-0986-46ee-8bb0-e93cd506eee8",
   "metadata": {},
   "outputs": [
    {
     "data": {
      "text/html": [
       "<div>\n",
       "<style scoped>\n",
       "    .dataframe tbody tr th:only-of-type {\n",
       "        vertical-align: middle;\n",
       "    }\n",
       "\n",
       "    .dataframe tbody tr th {\n",
       "        vertical-align: top;\n",
       "    }\n",
       "\n",
       "    .dataframe thead th {\n",
       "        text-align: right;\n",
       "    }\n",
       "</style>\n",
       "<table border=\"1\" class=\"dataframe\">\n",
       "  <thead>\n",
       "    <tr style=\"text-align: right;\">\n",
       "      <th></th>\n",
       "      <th>column_A</th>\n",
       "      <th>column_B</th>\n",
       "    </tr>\n",
       "  </thead>\n",
       "  <tbody>\n",
       "    <tr>\n",
       "      <th>0</th>\n",
       "      <td>A</td>\n",
       "      <td>CAT</td>\n",
       "    </tr>\n",
       "    <tr>\n",
       "      <th>1</th>\n",
       "      <td>A</td>\n",
       "      <td>CAT</td>\n",
       "    </tr>\n",
       "    <tr>\n",
       "      <th>2</th>\n",
       "      <td>B</td>\n",
       "      <td>Dog</td>\n",
       "    </tr>\n",
       "    <tr>\n",
       "      <th>3</th>\n",
       "      <td>B</td>\n",
       "      <td>bat</td>\n",
       "    </tr>\n",
       "    <tr>\n",
       "      <th>4</th>\n",
       "      <td>C</td>\n",
       "      <td>bat</td>\n",
       "    </tr>\n",
       "    <tr>\n",
       "      <th>5</th>\n",
       "      <td>C</td>\n",
       "      <td>dog</td>\n",
       "    </tr>\n",
       "  </tbody>\n",
       "</table>\n",
       "</div>"
      ],
      "text/plain": [
       "  column_A column_B\n",
       "0        A      CAT\n",
       "1        A      CAT\n",
       "2        B      Dog\n",
       "3        B      bat\n",
       "4        C      bat\n",
       "5        C      dog"
      ]
     },
     "execution_count": 156,
     "metadata": {},
     "output_type": "execute_result"
    }
   ],
   "source": [
    "samples_df"
   ]
  },
  {
   "cell_type": "code",
   "execution_count": 157,
   "id": "ef4b1edd-b88a-4ba5-931f-de9d9410d721",
   "metadata": {},
   "outputs": [],
   "source": [
    "#change values to None if not in list of accepted values, column by column\n",
    "for i in samples_df.columns:\n",
    "    \n",
    "    vals_ok = dat_dict[i] #accepted values for that column\n",
    "    mask = samples_df[i].isin(vals_ok) #bool check for accepted values\n",
    "    \n",
    "    samples_df.loc[~mask, i] = None"
   ]
  },
  {
   "cell_type": "code",
   "execution_count": 158,
   "id": "6a161bc1-73b6-49a2-b4b8-ad2f3cf0b2cd",
   "metadata": {},
   "outputs": [
    {
     "data": {
      "text/html": [
       "<div>\n",
       "<style scoped>\n",
       "    .dataframe tbody tr th:only-of-type {\n",
       "        vertical-align: middle;\n",
       "    }\n",
       "\n",
       "    .dataframe tbody tr th {\n",
       "        vertical-align: top;\n",
       "    }\n",
       "\n",
       "    .dataframe thead th {\n",
       "        text-align: right;\n",
       "    }\n",
       "</style>\n",
       "<table border=\"1\" class=\"dataframe\">\n",
       "  <thead>\n",
       "    <tr style=\"text-align: right;\">\n",
       "      <th></th>\n",
       "      <th>column_A</th>\n",
       "      <th>column_B</th>\n",
       "    </tr>\n",
       "  </thead>\n",
       "  <tbody>\n",
       "    <tr>\n",
       "      <th>0</th>\n",
       "      <td>A</td>\n",
       "      <td>CAT</td>\n",
       "    </tr>\n",
       "    <tr>\n",
       "      <th>1</th>\n",
       "      <td>A</td>\n",
       "      <td>CAT</td>\n",
       "    </tr>\n",
       "    <tr>\n",
       "      <th>2</th>\n",
       "      <td>B</td>\n",
       "      <td>None</td>\n",
       "    </tr>\n",
       "    <tr>\n",
       "      <th>3</th>\n",
       "      <td>B</td>\n",
       "      <td>None</td>\n",
       "    </tr>\n",
       "    <tr>\n",
       "      <th>4</th>\n",
       "      <td>None</td>\n",
       "      <td>None</td>\n",
       "    </tr>\n",
       "    <tr>\n",
       "      <th>5</th>\n",
       "      <td>None</td>\n",
       "      <td>dog</td>\n",
       "    </tr>\n",
       "  </tbody>\n",
       "</table>\n",
       "</div>"
      ],
      "text/plain": [
       "  column_A column_B\n",
       "0        A      CAT\n",
       "1        A      CAT\n",
       "2        B     None\n",
       "3        B     None\n",
       "4     None     None\n",
       "5     None      dog"
      ]
     },
     "execution_count": 158,
     "metadata": {},
     "output_type": "execute_result"
    }
   ],
   "source": [
    "samples_df"
   ]
  },
  {
   "cell_type": "code",
   "execution_count": null,
   "id": "1e797f51-daa2-452e-b30f-b9679531016c",
   "metadata": {},
   "outputs": [],
   "source": []
  },
  {
   "cell_type": "markdown",
   "id": "944d519d-f70a-4e52-996c-ef3c5c551d6d",
   "metadata": {},
   "source": [
    "# Developing LIMS Data Validation Function"
   ]
  },
  {
   "cell_type": "code",
   "execution_count": null,
   "id": "082da14f-6af4-477b-bfd0-f4c1aee0c86f",
   "metadata": {},
   "outputs": [],
   "source": [
    "lims_clms_validation = {\"test_result_date\": [\"date.today()\"],\n",
    "                        'sample_collect_date':[\"date.today()\"],\n",
    "\n",
    "                        'sample_collect_time' :[\"MM:HH\"], # must be in #MM:HH format \n",
    "\n",
    "                        \"pretreatment\" :[1,0], # 0 or 1 (yes, no)\n",
    "                        \"sars_cov2_units\":[1,2,3,4,5,6], # number 1-6 (drop down categories)\n",
    "                        \"sars_cov2_below_lod\":[\"yes\", \"no\"], # \"yes\" or \"no\"\n",
    "                        \"ntc_amplify\":[\"yes\", \"no\"], # \"yes\" or \"no\"\n",
    "                        \"inhibition_detect\":[\"yes\", \"no\", \"not_tested\"], # \"yes\" or \"no\" or \"not_tested\"\n",
    "                        \"inhibition_adjust\":[\"yes\", \"no\"], # \"yes\" or \"no\" (only if inhibition_detect = \"yes\")\n",
    "                        \"concentration_method\":[ \"mf-mgcl2\"], #long list of drop down values\n",
    "                        \"extraction_method\":[\"qiagen-fecal\"], #long list of drop down values\n",
    "                        \"quality_flag\":[\"yes\", \"no\"],\n",
    "                        }\n",
    "\n",
    "\"\"\"\n",
    "sars_cov2_units  \"sars_cov2_units\":[1,2,3,4,5,6]\n",
    "sars_cov2_below_lod \"sars_cov2_below_lod\":[\"yes\", \"no\"]\n",
    "ntc_amplify \"ntc_amplify\":[\"yes\", \"no\"]\n",
    "inhibition_detect \"inhibition_detect\":[\"yes\", \"no\", \"not_tested\"]\n",
    "inhibition_adjust \"inhibition_adjust\":[\"yes\", \"no\"]\n",
    "concentration_method \"concentration_method\":[ \"mf-mgcl2\"]\n",
    "extraction_method \"extraction_method\":[\"qiagen-fecal\"]\n",
    "hum_frac_mic_unit \n",
    "other_norm_unit\n",
    "quality_flag \"quality_flag\":[\"yes\", \"no\"]\n",
    "viral_data_flag\n",
    "\n",
    "\"\"\""
   ]
  },
  {
   "cell_type": "code",
   "execution_count": null,
   "id": "c3ff3382-e40d-47f8-be2a-9858394dd632",
   "metadata": {},
   "outputs": [],
   "source": [
    "df_lims[\"sars_cov2_units\"].to_list()"
   ]
  },
  {
   "cell_type": "code",
   "execution_count": null,
   "id": "91c1b56f-299c-4f0f-b019-12407d760f05",
   "metadata": {},
   "outputs": [],
   "source": [
    "#shortening df_lims for ease to work with\n",
    "df_lims_01 = df_lims.reset_index().head().copy()\n",
    "\n",
    "#enter some test data values\n",
    "df_lims_01.loc[[0,2],[\"inhibition_detect\"]] = \"yes\"\n",
    "df_lims_01.loc[[2],[\"sars_cov2_units\"]] = 4\n",
    "df_lims_01.loc[[4],[\"sars_cov2_units\"]] = 7\n",
    "\n",
    "\n",
    "key_01 = \"inhibition_detect\"\n",
    "value_01 = lims_clms_validation[\"inhibition_detect\"]\n",
    "\n",
    "key_01 = \"sars_cov2_units\"\n",
    "value_2 = lims_clms_validation[\"sars_cov2_units\"]\n",
    "\n",
    "\n",
    "a = df_lims_01[key_01].isin(value_01)\n",
    "b = df_lims_01[key_01].isin(value_01)"
   ]
  },
  {
   "cell_type": "code",
   "execution_count": null,
   "id": "457636b3-ca32-48cd-8d5c-961a2372cb6c",
   "metadata": {},
   "outputs": [],
   "source": [
    "df_lims_01.loc[:,[\"inhibition_detect\", \"sars_cov2_units\"]]"
   ]
  },
  {
   "cell_type": "code",
   "execution_count": null,
   "id": "0e8f4f24-f05c-49dc-ac4f-8073c9ec1bfd",
   "metadata": {},
   "outputs": [],
   "source": []
  },
  {
   "cell_type": "code",
   "execution_count": null,
   "id": "5de15e81-4be1-43c1-96ac-f267e4fc438f",
   "metadata": {},
   "outputs": [],
   "source": [
    "lims_clms_validation[\"sars_cov2_units\"]"
   ]
  },
  {
   "cell_type": "code",
   "execution_count": null,
   "id": "68caf813-e54b-4c72-9abf-fe7fc00db717",
   "metadata": {},
   "outputs": [],
   "source": [
    "df_test_01[\"test_result_date\"] = date.today()\n",
    "df_test_01['sample_collect_date'] = date.today()\n",
    "df_test_01['sample_collect_time'] = \"10:30\"\n",
    "df_test_01[\"pretreatment\"] = 1 # 0 or 1 (yes, no)\n",
    "df_test_01[\"sars_cov2_units\"] = 1 # number 1-6 (drop down categories)\n",
    "df_test_01[\"sars_cov2_below_lod\"] = \"yes\" # \"yes\" or \"no\"\n",
    "df_test_01[\"ntc_amplify\"] = \"yes\" # \"yes\" or \"no\"\n",
    "df_test_01[\"inhibition_detect\"] =  \"yes\" # \"yes\" or \"no\" or \"not_tested\"\n",
    "df_test_01[\"inhibition_adjust\"] = \"yes\" # \"yes\" or \"no\" (only if inhibition_detect = \"yes\")\n",
    "df_test_01[\"concentration_method\"] = \"mf-mgcl2\" #long list of drop down values\n",
    "df_test_01[\"extraction_method\"] = \"qiagen-fecal\" #long list of drop down values\n",
    "df_test_01[\"quality_flag\"] = \"yes\" # \"yes\" or \"no\""
   ]
  },
  {
   "cell_type": "code",
   "execution_count": null,
   "id": "30f6e8e6-3b06-4566-b63e-65a2effefc17",
   "metadata": {},
   "outputs": [],
   "source": []
  },
  {
   "cell_type": "code",
   "execution_count": 5,
   "id": "60a4e5d3-97e3-4771-9123-46d85f88a9be",
   "metadata": {},
   "outputs": [],
   "source": [
    "df = redcap_metadata_export(redcap_api_url, redcap_tokens_prod[\"PID171\"])"
   ]
  },
  {
   "cell_type": "code",
   "execution_count": 15,
   "id": "371982a0-290e-4b47-bd17-2ef2b86379ea",
   "metadata": {},
   "outputs": [
    {
     "data": {
      "text/html": [
       "<div>\n",
       "<style scoped>\n",
       "    .dataframe tbody tr th:only-of-type {\n",
       "        vertical-align: middle;\n",
       "    }\n",
       "\n",
       "    .dataframe tbody tr th {\n",
       "        vertical-align: top;\n",
       "    }\n",
       "\n",
       "    .dataframe thead th {\n",
       "        text-align: right;\n",
       "    }\n",
       "</style>\n",
       "<table border=\"1\" class=\"dataframe\">\n",
       "  <thead>\n",
       "    <tr style=\"text-align: right;\">\n",
       "      <th></th>\n",
       "      <th>text_validation_type_or_show_slider_number</th>\n",
       "    </tr>\n",
       "    <tr>\n",
       "      <th>field_name</th>\n",
       "      <th></th>\n",
       "    </tr>\n",
       "  </thead>\n",
       "  <tbody>\n",
       "    <tr>\n",
       "      <th>label_date</th>\n",
       "      <td>date_mdy</td>\n",
       "    </tr>\n",
       "    <tr>\n",
       "      <th>collection_date</th>\n",
       "      <td>date_mdy</td>\n",
       "    </tr>\n",
       "    <tr>\n",
       "      <th>sample_collect_date</th>\n",
       "      <td>date_ymd</td>\n",
       "    </tr>\n",
       "    <tr>\n",
       "      <th>sample_collect_time</th>\n",
       "      <td>time</td>\n",
       "    </tr>\n",
       "    <tr>\n",
       "      <th>ph</th>\n",
       "      <td>number</td>\n",
       "    </tr>\n",
       "    <tr>\n",
       "      <th>conductivity</th>\n",
       "      <td>number</td>\n",
       "    </tr>\n",
       "    <tr>\n",
       "      <th>collection_water_temp</th>\n",
       "      <td>number</td>\n",
       "    </tr>\n",
       "    <tr>\n",
       "      <th>tss</th>\n",
       "      <td>number</td>\n",
       "    </tr>\n",
       "    <tr>\n",
       "      <th>cbod</th>\n",
       "      <td>integer</td>\n",
       "    </tr>\n",
       "    <tr>\n",
       "      <th>collection_storage_time</th>\n",
       "      <td>number</td>\n",
       "    </tr>\n",
       "    <tr>\n",
       "      <th>collection_storage_temp</th>\n",
       "      <td>number</td>\n",
       "    </tr>\n",
       "    <tr>\n",
       "      <th>equiv_sewage_amt</th>\n",
       "      <td>number</td>\n",
       "    </tr>\n",
       "    <tr>\n",
       "      <th>test_result_date</th>\n",
       "      <td>date_ymd</td>\n",
       "    </tr>\n",
       "    <tr>\n",
       "      <th>flow_rate</th>\n",
       "      <td>number</td>\n",
       "    </tr>\n",
       "    <tr>\n",
       "      <th>sars_cov2_avg_conc</th>\n",
       "      <td>number</td>\n",
       "    </tr>\n",
       "    <tr>\n",
       "      <th>sars_cov2_std_error</th>\n",
       "      <td>number</td>\n",
       "    </tr>\n",
       "    <tr>\n",
       "      <th>sars_cov2_cl_95_lo</th>\n",
       "      <td>number</td>\n",
       "    </tr>\n",
       "    <tr>\n",
       "      <th>sars_cov2_cl_95_up</th>\n",
       "      <td>number</td>\n",
       "    </tr>\n",
       "    <tr>\n",
       "      <th>rec_eff_percent</th>\n",
       "      <td>number</td>\n",
       "    </tr>\n",
       "    <tr>\n",
       "      <th>pre_conc_storage_time</th>\n",
       "      <td>number</td>\n",
       "    </tr>\n",
       "    <tr>\n",
       "      <th>pre_ext_storage_time</th>\n",
       "      <td>number</td>\n",
       "    </tr>\n",
       "    <tr>\n",
       "      <th>tot_conc_vol</th>\n",
       "      <td>number</td>\n",
       "    </tr>\n",
       "    <tr>\n",
       "      <th>hum_frac_chem_conc</th>\n",
       "      <td>number</td>\n",
       "    </tr>\n",
       "    <tr>\n",
       "      <th>other_norm_conc</th>\n",
       "      <td>number</td>\n",
       "    </tr>\n",
       "    <tr>\n",
       "      <th>label_printed</th>\n",
       "      <td>date_mdy</td>\n",
       "    </tr>\n",
       "    <tr>\n",
       "      <th>ww_received</th>\n",
       "      <td>date_mdy</td>\n",
       "    </tr>\n",
       "    <tr>\n",
       "      <th>micro_received</th>\n",
       "      <td>date_mdy</td>\n",
       "    </tr>\n",
       "  </tbody>\n",
       "</table>\n",
       "</div>"
      ],
      "text/plain": [
       "                        text_validation_type_or_show_slider_number\n",
       "field_name                                                        \n",
       "label_date                                                date_mdy\n",
       "collection_date                                           date_mdy\n",
       "sample_collect_date                                       date_ymd\n",
       "sample_collect_time                                           time\n",
       "ph                                                          number\n",
       "conductivity                                                number\n",
       "collection_water_temp                                       number\n",
       "tss                                                         number\n",
       "cbod                                                       integer\n",
       "collection_storage_time                                     number\n",
       "collection_storage_temp                                     number\n",
       "equiv_sewage_amt                                            number\n",
       "test_result_date                                          date_ymd\n",
       "flow_rate                                                   number\n",
       "sars_cov2_avg_conc                                          number\n",
       "sars_cov2_std_error                                         number\n",
       "sars_cov2_cl_95_lo                                          number\n",
       "sars_cov2_cl_95_up                                          number\n",
       "rec_eff_percent                                             number\n",
       "pre_conc_storage_time                                       number\n",
       "pre_ext_storage_time                                        number\n",
       "tot_conc_vol                                                number\n",
       "hum_frac_chem_conc                                          number\n",
       "other_norm_conc                                             number\n",
       "label_printed                                             date_mdy\n",
       "ww_received                                               date_mdy\n",
       "micro_received                                            date_mdy"
      ]
     },
     "execution_count": 15,
     "metadata": {},
     "output_type": "execute_result"
    }
   ],
   "source": [
    "df[~df[\"text_validation_type_or_show_slider_number\"].isnull()][[\"text_validation_type_or_show_slider_number\"]]"
   ]
  },
  {
   "cell_type": "code",
   "execution_count": 8,
   "id": "9e65c1df-13ca-42d6-bb31-d83fd218a953",
   "metadata": {},
   "outputs": [
    {
     "data": {
      "text/plain": [
       "[nan,\n",
       " nan,\n",
       " nan,\n",
       " 'date_mdy',\n",
       " nan,\n",
       " nan,\n",
       " nan,\n",
       " nan,\n",
       " 'date_mdy',\n",
       " nan,\n",
       " 'date_ymd',\n",
       " nan,\n",
       " 'time',\n",
       " nan,\n",
       " 'number',\n",
       " 'number',\n",
       " 'number',\n",
       " 'number',\n",
       " nan,\n",
       " nan,\n",
       " 'integer',\n",
       " nan,\n",
       " nan,\n",
       " nan,\n",
       " nan,\n",
       " nan,\n",
       " nan,\n",
       " 'number',\n",
       " 'number',\n",
       " nan,\n",
       " nan,\n",
       " 'number',\n",
       " 'date_ymd',\n",
       " 'number',\n",
       " nan,\n",
       " nan,\n",
       " nan,\n",
       " 'number',\n",
       " 'number',\n",
       " 'number',\n",
       " 'number',\n",
       " nan,\n",
       " nan,\n",
       " nan,\n",
       " nan,\n",
       " 'number',\n",
       " nan,\n",
       " nan,\n",
       " nan,\n",
       " nan,\n",
       " 'number',\n",
       " nan,\n",
       " 'number',\n",
       " nan,\n",
       " 'number',\n",
       " nan,\n",
       " nan,\n",
       " 'number',\n",
       " 'number',\n",
       " nan,\n",
       " nan,\n",
       " nan,\n",
       " nan,\n",
       " nan,\n",
       " 'date_mdy',\n",
       " 'date_mdy',\n",
       " 'date_mdy',\n",
       " nan,\n",
       " nan]"
      ]
     },
     "execution_count": 8,
     "metadata": {},
     "output_type": "execute_result"
    }
   ],
   "source": [
    "[i for i in df[\"text_validation_type_or_show_slider_number\"]]"
   ]
  },
  {
   "cell_type": "code",
   "execution_count": null,
   "id": "b07c68f0-0f9c-47d9-8842-a99eb0a15de3",
   "metadata": {},
   "outputs": [],
   "source": []
  },
  {
   "cell_type": "markdown",
   "id": "c26b7abc-222f-4559-913c-c37667346c08",
   "metadata": {},
   "source": [
    "# Apendix"
   ]
  },
  {
   "cell_type": "markdown",
   "id": "a94bad9f-ddb3-4e59-ad47-6606b8be4b3c",
   "metadata": {},
   "source": [
    "## A-I) Explore datatype stored in LIMS database"
   ]
  },
  {
   "cell_type": "markdown",
   "id": "98a57149-32a0-4c48-a738-3875b59ad37a",
   "metadata": {},
   "source": [
    "pyodbc cursor object allows to interact with database parameters. cursos.columns() returns information about every column in the database table."
   ]
  },
  {
   "cell_type": "code",
   "execution_count": null,
   "id": "b6794b18-623c-4a93-99af-565245040a28",
   "metadata": {},
   "outputs": [],
   "source": [
    "cnxn = pyodbc.connect(credentials) # credentials = 'DSN=LIMS_DATA;UID=xxxxxxx;PWD=xxxxxxx'\n",
    "cursor = cnxn.cursor()\n",
    "\n",
    "dtype_list = [(i.column_name, i.type_name) for i in cursor.columns(table=\"vz_Epi_ELS_SARS-CoV-2 ddPCR\")]\n",
    "\n",
    "dtype_list\n"
   ]
  },
  {
   "cell_type": "markdown",
   "id": "3e9925ad-efc0-48b3-8406-912d6c1c6bfe",
   "metadata": {},
   "source": [
    "RESULT: Two columns have datetime type, remaining columns are varchar type\n",
    "('TestResultDate', 'datetime')\n",
    "('SampleCollectDate', 'datetime')"
   ]
  },
  {
   "cell_type": "markdown",
   "id": "48ba6a07-87f5-41e8-987f-705182f3b97c",
   "metadata": {},
   "source": [
    "## A-II) Explore converting LIMS dataframe to numeric type - may not be necessary."
   ]
  },
  {
   "cell_type": "code",
   "execution_count": null,
   "id": "fa3aa648-be06-4d06-9e1d-4f0470ec6ba9",
   "metadata": {},
   "outputs": [],
   "source": [
    "potential_numeric = [\"NumNoTargetControl\", \"SARSCoV2AvgConc\"]"
   ]
  },
  {
   "cell_type": "code",
   "execution_count": null,
   "id": "0731a86f-c1b8-4d81-b55c-a5e1b421ad0f",
   "metadata": {},
   "outputs": [],
   "source": [
    "df_lims[potential_numeric] = df_lims[potential_numeric].apply(pd.to_numeric, errors = \"coerce\")"
   ]
  },
  {
   "cell_type": "code",
   "execution_count": null,
   "id": "3349592f-e487-4fce-a906-28687ebb240b",
   "metadata": {},
   "outputs": [],
   "source": [
    "df_lims.info()"
   ]
  },
  {
   "cell_type": "markdown",
   "id": "07bbaeae-081d-4a3d-85a4-79b8dc4d5e40",
   "metadata": {},
   "source": [
    "## B-I) REDCap Manual data export"
   ]
  },
  {
   "cell_type": "markdown",
   "id": "db9a9ae6-b167-46c2-aacc-1c8f400fc4fc",
   "metadata": {},
   "source": [
    "Exploring manual csv data export - column ID's, Datatypes, Exporting Survey ID and Survey Timestamp\n",
    "\n",
    "**Conclusion**: 2 additional column are present in when manually exporting csv and keeping survey ID and Survey timestamp selected"
   ]
  },
  {
   "cell_type": "code",
   "execution_count": null,
   "id": "d941d999-ec42-4037-857c-77fd8ebd2e8d",
   "metadata": {},
   "outputs": [],
   "source": [
    "import pandas as pd\n",
    "\n",
    "#import data\n",
    "df_PID177_manual = pd.read_csv(\"./redcap_manual_export/PID177_ww_labs.csv\")\n",
    "df_PID177_manual_noID_noTimeStamp = pd.read_csv(\"./redcap_manual_export/PID177_ww_labs_minus_SurTimestamp_SurIdentifier.csv\")\n",
    "\n",
    "#make set of column names\n",
    "columns_PID177_full = set(df_PID177_manual.columns)\n",
    "columns_PID177_minimal = set(df_PID177_manual_noID_noTimeStamp.columns)\n",
    "\n",
    "#compare column sets\n",
    "print(\"additional columns present: \" + str(columns_PID177_full - columns_PID177_minimal))\n",
    "#print(labs_set_minimal - labs_set_full) #returns empty set \n",
    "\n",
    "print(\"\\n\")\n",
    "print(df_PID177_manual[['redcap_survey_identifier', 'a3_ww_lab_set_up_timestamp']])\n",
    "print(\"\\n\")\n",
    "print(df_PID177_manual.info())"
   ]
  },
  {
   "cell_type": "markdown",
   "id": "9d8e1b5f-834e-4dac-88c6-d42e626e16ce",
   "metadata": {},
   "source": [
    "## B-II) REDCap API Data Export"
   ]
  },
  {
   "cell_type": "markdown",
   "id": "122c222c-11fe-467a-93bf-618e7a089850",
   "metadata": {},
   "source": [
    "Explore data export via native REDCap API pull\n",
    "\n",
    "**Conclusion**: API call return data without the additional columns: [redcap_survey_identifier, a3_ww_lab_set_up_timestamp]. These columns can be pulled when exporting data manualy by checking a box.\n",
    "\n",
    "**Conclusion**: API export columns and manual export columns are identical when survey_identifier and survey_timestamp field remain uncheck during manual export. \n",
    "\n",
    "**Conclusion**: During API export, all column fields are objects. Manual export to csv and load to pandas, yields some numeric fields.\n",
    "\n",
    "**Conclusion**: Datetime format is different between API export, and manual csv export. "
   ]
  },
  {
   "cell_type": "code",
   "execution_count": null,
   "id": "d6fd9d03-03aa-4e58-9ae6-839e4e344322",
   "metadata": {},
   "outputs": [],
   "source": [
    "#export PID177 all data via API\n",
    "df_PID177_API = redcap_API_export(redcap_api_url, redcap_tokens_prod[\"PID177\"])\n",
    "\n",
    "API_columns_set = set(df_PID177_API.columns)\n",
    "\n",
    "#comparing columns of csv manual export with identifier and timestamp fields with standrad API export\n",
    "print(\"additional columns present: \" + str(columns_PID177_full - API_columns_set))\n",
    "#print(API_columns_set - columns_PID177_full) #empty set\n",
    "print()\n",
    "#are all the columns identical? \n",
    "print(\"Are all the columns identical between standard csv export and API export?\")\n",
    "print(all(df_PID177_manual_noID_noTimeStamp.columns == df_PID177_API.columns))\n",
    "\n",
    "print()\n",
    "#converting both manually pulled csv and API data to numberic datatypes (if possible)\n",
    "#df_PID177_API = df_PID177_API.apply(pd.to_numeric, errors = \"ignore\")\n",
    "#df_PID177_manual_noID_noTimeStamp = df_PID177_manual_noID_noTimeStamp.apply(pd.to_numeric, errors = \"ignore\")\n",
    "\n",
    "#converting timestamp \n",
    "df_PID177_API[\"ww_lab_setup_date\"] = pd.to_datetime(df_PID177_API[\"ww_lab_setup_date\"])\n",
    "df_PID177_manual_noID_noTimeStamp[\"ww_lab_setup_date\"] = pd.to_datetime(df_PID177_manual_noID_noTimeStamp[\"ww_lab_setup_date\"])\n",
    "print(\"after converting all columns to numeric, and 'ww_lab_setup_date' columns to datetime, are the dataframes identical?\")\n",
    "\n",
    "print(df_PID177_manual_noID_noTimeStamp.equals(df_PID177_manual_noID_noTimeStamp))\n"
   ]
  },
  {
   "cell_type": "markdown",
   "id": "ec9e77bf-1a1d-44ab-989f-29fe2d309601",
   "metadata": {},
   "source": [
    "# B-III) RedCap Pycap Data Export"
   ]
  },
  {
   "cell_type": "markdown",
   "id": "d38ce5f9-2603-42a1-9ece-ecd3b24741eb",
   "metadata": {},
   "source": [
    "**Conclusion**: PyCap API calls to export record DO NOT contain record status data"
   ]
  },
  {
   "cell_type": "code",
   "execution_count": null,
   "id": "afae3e97-0cd5-4172-9bb6-8434a521e208",
   "metadata": {},
   "outputs": [],
   "source": [
    "import redcap\n",
    "PID177_project = redcap.Project(redcap_api_url, redcap_tokens_prod[\"PID177\"])"
   ]
  },
  {
   "cell_type": "code",
   "execution_count": null,
   "id": "d4696806-c91e-43ed-a823-0d8eefb30362",
   "metadata": {},
   "outputs": [],
   "source": [
    "PID177_pycap = PID177_project.export_records(format=\"df\",\n",
    "                                             event_name = \"unique\",\n",
    "                                             #export_checkbox_labels = True,\n",
    "                                             #export_data_access_groups = True,\n",
    "                                             #export_survey_fields = True\n",
    "                                            )\n",
    "\n",
    "\n",
    "\n",
    "print(\"Additional columns present: \" + str(set(ww_redcap[\"PID177\"].columns) - set(PID177_pycap.columns)))\n",
    "print(set(PID177_pycap.columns) - set(ww_redcap[\"PID177\"].columns))"
   ]
  },
  {
   "cell_type": "markdown",
   "id": "9ea8b73a-2749-4894-9ffc-93ef92e8beea",
   "metadata": {},
   "source": [
    "# C-I) Exploring LIMS data columns and REDCap data columns"
   ]
  },
  {
   "cell_type": "markdown",
   "id": "ffebf4db-9a16-4c53-a843-56244a1a3c72",
   "metadata": {},
   "source": [
    "**Conclusion**: Only certain columns from LIMS data map to PID171\n",
    "\n",
    "**Conclusion**: Created an excel file, to map column name conversion between LIMS and REDCap PID171, created a function to generate dictionary for LIMS data transformation (renaming columns)"
   ]
  },
  {
   "cell_type": "code",
   "execution_count": null,
   "id": "bfc44dc5-725a-42fd-8589-d465bd9dba68",
   "metadata": {},
   "outputs": [],
   "source": [
    "df_WWSamples = ww_redcap[\"PID171\"]\n",
    "print(df_WWSamples.shape)"
   ]
  },
  {
   "cell_type": "code",
   "execution_count": null,
   "id": "2f477960-c587-488b-9d60-7c7c69581433",
   "metadata": {},
   "outputs": [],
   "source": [
    "df_lims.dtypes.to_csv(\"lims_datatypes.csv\")\n",
    "df_WWSamples.dtypes.to_csv(\"PID171_WW_Samples.csv\")"
   ]
  },
  {
   "cell_type": "code",
   "execution_count": null,
   "id": "ada3a171-ca35-4a71-ac30-b88a65848163",
   "metadata": {},
   "outputs": [],
   "source": [
    "df_WWSamples.iloc[:,:5]"
   ]
  },
  {
   "cell_type": "markdown",
   "id": "6d2a0770-74d3-463d-9582-ce1d9e0f6d8c",
   "metadata": {},
   "source": [
    "Function to generate column name transform dictionary. Data lives in xlsx file \"LIMS_REDCap_columns_ID's.xlsx\""
   ]
  },
  {
   "cell_type": "code",
   "execution_count": null,
   "id": "3b19de18-56eb-4f93-8ed4-b2e52ed1d7ed",
   "metadata": {},
   "outputs": [],
   "source": [
    "df_lims_redcap_column_map = pd.read_excel(\"LIMS_REDCap_columns_IDs.xlsx\", sheet_name = \"COMBINED\") \n",
    "\n",
    "not_null_lims = pd.notna(df_lims_redcap_column_map[\"LIMS_COLUMNS_NAME\"]) #find present LIMS columns that map to REDCap\n",
    "\n",
    "df_lims_map = df_lims_redcap_column_map[not_null_lims][[\"PID171_COLUMNS_NAME\",\"LIMS_COLUMNS_NAME\"]] #filter for mapped columns\n",
    "\n",
    "df_lims_map.set_index(\"LIMS_COLUMNS_NAME\", inplace = True)\n",
    "\n",
    "dict_lims_map = df_lims_map.to_dict()\n",
    "\n",
    "dict_lims_map = dict_lims_map['PID171_COLUMNS_NAME']\n",
    "\n",
    "dict_lims_map"
   ]
  },
  {
   "cell_type": "markdown",
   "id": "7de93a45-0b59-4be9-9270-e7748fe8cbde",
   "metadata": {},
   "source": [
    "# D-I) Demonstration of Upload 1 row of data into REDCap"
   ]
  },
  {
   "cell_type": "code",
   "execution_count": null,
   "id": "b9d84a41-227e-4ed1-b964-90ca480e2ce3",
   "metadata": {},
   "outputs": [],
   "source": [
    "from datetime import date\n",
    "\n",
    "# TEST Import 1 row of data (PID171 format, all blanks)\n",
    "df_test_01 = ww_redcap[\"PID171\"][df_lims.columns].iloc[0:1].copy()   #take only 1 row of data \n",
    "\n",
    "\n",
    "# setting values to df_test\n",
    "df_test_01.set_index(pd.Series([999999]), inplace = True)  #set index to 999999\n",
    "df_test_01.loc[999999] = \"test\"\n",
    "df_test_01[\"test_result_date\"] = date.today()\n",
    "df_test_01['sample_collect_date'] = date.today()\n",
    "df_test_01['sample_collect_time'] = \"10:30\"\n",
    "df_test_01[\"pretreatment\"] = 1 # 0 or 1 (yes, no)\n",
    "df_test_01[\"sars_cov2_units\"] = 1 # number 1-6 (drop down categories)\n",
    "df_test_01[\"sars_cov2_below_lod\"] = \"yes\" # \"yes\" or \"no\"\n",
    "df_test_01[\"ntc_amplify\"] = \"yes\" # \"yes\" or \"no\"\n",
    "df_test_01[\"inhibition_detect\"] =  \"yes\" # \"yes\" or \"no\" or \"not_tested\"\n",
    "df_test_01[\"inhibition_adjust\"] = \"yes\" # \"yes\" or \"no\" (only if inhibition_detect = \"yes\")\n",
    "df_test_01[\"concentration_method\"] = \"mf-mgcl2\" #long list of drop down values\n",
    "df_test_01[\"extraction_method\"] = \"qiagen-fecal\" #long list of drop down values\n",
    "df_test_01[\"quality_flag\"] = \"yes\" # \"yes\" or \"no\"\n",
    "\n"
   ]
  },
  {
   "cell_type": "code",
   "execution_count": null,
   "id": "53c8de54-1ca6-4763-8341-d053155e0a72",
   "metadata": {},
   "outputs": [],
   "source": [
    "#Connecting to PID171\n",
    "import redcap\n",
    "project = redcap.Project(redcap_api_url, redcap_tokens_prod[\"PID171\"])\n",
    "\n",
    "response = project.import_records(df_test_01, force_auto_number=False)\n",
    "response"
   ]
  }
 ],
 "metadata": {
  "kernelspec": {
   "display_name": "Python [conda env:transform21] *",
   "language": "python",
   "name": "conda-env-transform21-py"
  },
  "language_info": {
   "codemirror_mode": {
    "name": "ipython",
    "version": 3
   },
   "file_extension": ".py",
   "mimetype": "text/x-python",
   "name": "python",
   "nbconvert_exporter": "python",
   "pygments_lexer": "ipython3",
   "version": "3.8.10"
  }
 },
 "nbformat": 4,
 "nbformat_minor": 5
}

{
 "cells": [
  {
   "cell_type": "markdown",
   "id": "f971f7f0-3bbf-48d7-a6de-03d64b6db238",
   "metadata": {},
   "source": [
    "# Development of Wastewater Surveillance Data Automation Script "
   ]
  },
  {
   "cell_type": "markdown",
   "id": "01b91b93-0dec-4e53-9e6f-d2e0c385b9e8",
   "metadata": {},
   "source": [
    "## 1) Export All data from LIMS DatabasE"
   ]
  },
  {
   "cell_type": "code",
   "execution_count": 1,
   "id": "244916f0-241f-4748-9d17-b551f7dc3338",
   "metadata": {},
   "outputs": [],
   "source": [
    "#run script that executes export of LIMS data\n",
    "\n",
    "%run -i \"viral_lims_export.py\"\n",
    "\n",
    "####Export all lims data####\n",
    "df_lims = export_df_from_LIMS()\n",
    "\n",
    "df_lims = (\n",
    "    drop_null_sample_ID(df_lims)# #remove artifiact data from LIMS (missing sample ID's)\n",
    "    .pipe(drop_all_but_N1_N2)#Remove full rows where PCR Target is enything except N1 or N2\n",
    "    .pipe(below_lod_to_yes_no)\n",
    "    .pipe(long_to_wide) #meat and potatos! everything not under PCRTarget N1 or N2 will not be imported\n",
    "    )\n",
    "\n",
    "####Transform lims dataframe#### \n",
    "df_lims = (\n",
    "    rename_lims_columns(df_lims) \n",
    "    .pipe(verify_time_field) #change time values to None if dont fit format HH:MM\n",
    "    .pipe(convert_numeric) #convert numeric columns to floats, coerce errors\n",
    "    .pipe(freetext_transform)\n",
    "    )\n",
    "\n",
    "####export all dataframes from 4 WW Redcap Projects####\n",
    "ww_redcap = project_dtype_summary(redcap_api_url, redcap_tokens_prod)\n",
    "\n",
    "#### Export accepted values in restricted fields from metadata API ####\n",
    "fields_restricted = (\n",
    "    redcap_metadata_export(redcap_api_url, redcap_tokens_prod[\"PID171\"])\n",
    "    .pipe(accepted_redcap_fields)\n",
    "    )\n",
    "\n",
    "####Export date and time fields from REDCap\n",
    "fields_datetime = (\n",
    "    redcap_metadata_export(redcap_api_url, redcap_tokens_prod[\"PID171\"])\n",
    "    .pipe(date_time_redcap_fields)\n",
    "    )\n"
   ]
  },
  {
   "cell_type": "markdown",
   "id": "944d519d-f70a-4e52-996c-ef3c5c551d6d",
   "metadata": {},
   "source": [
    "# Exploring LIMS data dictionary and import to REDCap fields"
   ]
  },
  {
   "cell_type": "code",
   "execution_count": null,
   "id": "ffcf4c1a-1280-4c8b-b6d1-9217b4403c7c",
   "metadata": {},
   "outputs": [],
   "source": [
    "df_LIMS_dict = pd.read_excel(\"LIMS_Data_Dictionary_for_SARS_in_WW.xlsx\", sheet_name = \"DD for SARS in WW\", index_col = 0, header = 3, usecols = \"A:C\")\n",
    "dict_values = list(df_LIMS_dict.index)\n",
    "\n",
    "lims_raw = export_df_from_LIMS()\n",
    "lims_values = list(lims_raw.columns)"
   ]
  },
  {
   "cell_type": "code",
   "execution_count": null,
   "id": "ae6d6436-caba-41bb-9db6-37ae5619af2a",
   "metadata": {},
   "outputs": [],
   "source": [
    "#do the values is data dictionary correspond to the LIMS Columns?\n",
    "print(len(lims_values))\n",
    "print(len(dict_values))\n",
    "\n",
    "set(lims_values) ==  set(dict_values)"
   ]
  },
  {
   "cell_type": "code",
   "execution_count": null,
   "id": "9a4b2312-00b9-464d-a8d4-6b1e4d030aff",
   "metadata": {},
   "outputs": [],
   "source": [
    "#Narrow the lims data dictionary values to only what will be imported to REDCap\n",
    "print(len(dict_lims_column_map.keys()))\n",
    "\n",
    "a1_lims_raw = set(dict_lims_column_map.keys()) & set(dict_values)\n",
    "\n",
    "print(len(a1_lims_raw))\n",
    "\n",
    "a1_df_LIMS_dict = df_LIMS_dict.loc[a1_lims_raw, :].copy()\n",
    "\n",
    "\n",
    "#rename values in LIMS data dict to match REDCap fields\n",
    "a1_df_LIMS_dict.rename(index = dict_lims_column_map, inplace = True)\n",
    "\n",
    "#verify that selected data dict values match transformed lims data fields\n",
    "print(set(a1_df_LIMS_dict.index) == set(df_lims.columns))"
   ]
  },
  {
   "cell_type": "markdown",
   "id": "c1beff99-f2b9-4045-93c5-9769631ac59e",
   "metadata": {},
   "source": [
    "# Explore remaining fields"
   ]
  },
  {
   "cell_type": "code",
   "execution_count": null,
   "id": "7f89cbf8-b8ba-4138-9e93-34f85cb95b2e",
   "metadata": {},
   "outputs": [],
   "source": [
    "time_and_date = [\"sample_collect_date\", \"test_result_date\",\"sample_collect_time\"]\n",
    "covered_clms = numeric_clms + text_to_numeric + time_and_date\n",
    "\n",
    "covered = a1_df_LIMS_dict.index.isin(covered_clms)\n",
    "a1_df_LIMS_dict.loc[~covered]"
   ]
  },
  {
   "cell_type": "markdown",
   "id": "57c12127-f229-445d-8706-b8d890faf33e",
   "metadata": {},
   "source": [
    "## Dev Function to change yes/no columns"
   ]
  },
  {
   "cell_type": "code",
   "execution_count": null,
   "id": "a4276115-b116-48b5-ac1a-8aa097ef396f",
   "metadata": {},
   "outputs": [],
   "source": [
    "a1_df_LIMS_dict.loc[choice_clms]"
   ]
  },
  {
   "cell_type": "code",
   "execution_count": null,
   "id": "3728e52a-3963-4b26-a50b-8deb3de27da8",
   "metadata": {},
   "outputs": [],
   "source": [
    "[i for i in fields_restricted.keys()]"
   ]
  },
  {
   "cell_type": "code",
   "execution_count": null,
   "id": "ac8f9e01-c4d1-4782-a77b-6b45c36bc2ed",
   "metadata": {},
   "outputs": [],
   "source": [
    "fields_restricted['sars_cov2_units']"
   ]
  },
  {
   "cell_type": "code",
   "execution_count": null,
   "id": "7bcf894a-ae0a-457d-a726-3e341f5e7056",
   "metadata": {},
   "outputs": [],
   "source": [
    "fields_restricted[\"inhibition_detect\"]"
   ]
  },
  {
   "cell_type": "code",
   "execution_count": null,
   "id": "22c5b76c-b363-4753-91ad-20ba69e03a15",
   "metadata": {},
   "outputs": [],
   "source": [
    "fields_restricted[\"quality_flag\"]"
   ]
  },
  {
   "cell_type": "code",
   "execution_count": null,
   "id": "a5f616e3-39f0-4834-9564-16dbcf4af226",
   "metadata": {},
   "outputs": [],
   "source": [
    "fields_restricted[\"inhibition_adjust\"]"
   ]
  },
  {
   "cell_type": "code",
   "execution_count": null,
   "id": "ac8194f7-826e-4de5-a7e3-db4356852187",
   "metadata": {},
   "outputs": [],
   "source": [
    "fields_restricted[\"ntc_amplify\"]"
   ]
  },
  {
   "cell_type": "code",
   "execution_count": null,
   "id": "04a3e425-e1a9-488c-b772-7215cf4ba3e5",
   "metadata": {},
   "outputs": [],
   "source": [
    "fields_restricted[\"\"]"
   ]
  },
  {
   "cell_type": "code",
   "execution_count": null,
   "id": "42418f12-f84c-43df-96b7-c3cba86c26cc",
   "metadata": {},
   "outputs": [],
   "source": []
  },
  {
   "cell_type": "code",
   "execution_count": null,
   "id": "9407d807-cf9b-49c7-b858-7c2da1d9ef44",
   "metadata": {},
   "outputs": [],
   "source": []
  },
  {
   "cell_type": "code",
   "execution_count": null,
   "id": "79c85ce1-2955-44b0-9a4a-2065137a43ac",
   "metadata": {},
   "outputs": [],
   "source": []
  },
  {
   "cell_type": "code",
   "execution_count": null,
   "id": "8fcc8c4c-7d87-401e-a4bc-8c09d1702293",
   "metadata": {},
   "outputs": [],
   "source": []
  },
  {
   "cell_type": "code",
   "execution_count": null,
   "id": "fcaccaa4-1e43-4746-b9b7-b8f6968c99e0",
   "metadata": {},
   "outputs": [],
   "source": [
    "for i in df_lims[yes_no_clms]:\n",
    "    print(f\"Columns Name: {i} /n Unique Values: {df_lims[i].unique()}\")"
   ]
  },
  {
   "cell_type": "code",
   "execution_count": null,
   "id": "a84e4a61-bfd0-4013-b6c1-0a3811330f71",
   "metadata": {},
   "outputs": [],
   "source": [
    "df_lims.loc[210004,\"sars_cov2_below_lod\"] = \"bloop\""
   ]
  },
  {
   "cell_type": "code",
   "execution_count": null,
   "id": "d463ac58-b501-42f9-8f04-208ec4fec190",
   "metadata": {},
   "outputs": [],
   "source": [
    "df_lims.loc[210004,\"sars_cov2_below_lod\"]"
   ]
  },
  {
   "cell_type": "code",
   "execution_count": null,
   "id": "1e43887d-2fba-4138-b9cd-68480b3db4ef",
   "metadata": {},
   "outputs": [],
   "source": [
    "a = df_lims[~df_lims[\"sars_cov2_below_lod\"].isin([\"No\", \"Yes\", \"yes\", \"no\", None])].index"
   ]
  },
  {
   "cell_type": "code",
   "execution_count": null,
   "id": "cea78396-4dce-4209-9ab1-099e79507ba0",
   "metadata": {},
   "outputs": [],
   "source": [
    "a"
   ]
  },
  {
   "cell_type": "code",
   "execution_count": null,
   "id": "0ef15296-55f3-4263-b5ac-420575a05a9c",
   "metadata": {},
   "outputs": [],
   "source": [
    "df_lims.loc[210004]"
   ]
  },
  {
   "cell_type": "code",
   "execution_count": null,
   "id": "9c966bf2-1273-4819-bd9c-bbb6119fc48e",
   "metadata": {},
   "outputs": [],
   "source": [
    "df_lims.loc[a]"
   ]
  },
  {
   "cell_type": "code",
   "execution_count": null,
   "id": "f3a68f5a-e82f-4a58-8516-7b7dc6d2eb7e",
   "metadata": {},
   "outputs": [],
   "source": [
    "df_lims[~df_lims[\"sars_cov2_below_lod\"].isin([\"No\", \"Yes\", \"yes\", \"no\", None])][\"sars_cov2_below_lod\"]"
   ]
  },
  {
   "cell_type": "code",
   "execution_count": null,
   "id": "dcb167a9-0433-4dae-a01f-6390b5e9d72c",
   "metadata": {},
   "outputs": [],
   "source": []
  },
  {
   "cell_type": "code",
   "execution_count": null,
   "id": "15cda4c4-0833-4707-8688-ee9c33e6be09",
   "metadata": {},
   "outputs": [],
   "source": []
  },
  {
   "cell_type": "code",
   "execution_count": null,
   "id": "1f65d01d-4f75-422e-9b11-ccfac2c583a8",
   "metadata": {},
   "outputs": [],
   "source": []
  },
  {
   "cell_type": "code",
   "execution_count": null,
   "id": "2c1e977b-10c6-4965-b83d-0b3a77b2c6e5",
   "metadata": {},
   "outputs": [],
   "source": [
    "index_01 = df_lims[~df_lims[\"sars_cov2_below_lod\"].isin([\"No\", \"Yes\", \"yes\", \"no\", None])].index\n",
    "\n",
    "df_lims.loc[index_01, [\"sars_cov2_below_lod\"]]"
   ]
  },
  {
   "cell_type": "markdown",
   "id": "b9aef05f-c5fe-4856-80bc-0af2de56071e",
   "metadata": {},
   "source": [
    "#### test case upload to REDCap"
   ]
  },
  {
   "cell_type": "code",
   "execution_count": null,
   "id": "31328b1a-30ad-4578-b593-f6a01507e50a",
   "metadata": {},
   "outputs": [],
   "source": [
    "df_lims_text_time = df_lims.loc[:,text_or_time.index].copy()\n",
    "df_text_test = df_lims_text_time.iloc[-1:,:].copy()\n",
    "\n",
    "df_text_test[:] = \"200\"\n",
    "df_text_test.reset_index(inplace = True, drop = True)\n",
    "df_text_test.columns.name = None\n",
    "df_text_test.index.name = \"sample_id\"\n",
    "df_text_test"
   ]
  },
  {
   "cell_type": "code",
   "execution_count": null,
   "id": "a2c9c880-9914-425e-9547-25c905c3f29d",
   "metadata": {},
   "outputs": [],
   "source": [
    "#Connecting to PID171\n",
    "import redcap\n",
    "project = redcap.Project(redcap_api_url, redcap_tokens_prod[\"PID171\"])"
   ]
  },
  {
   "cell_type": "code",
   "execution_count": null,
   "id": "0608899d-5649-4031-9d3b-8e16c17e0e53",
   "metadata": {},
   "outputs": [],
   "source": [
    "response = project.import_records(df_text_test, force_auto_number=False)\n",
    "response"
   ]
  },
  {
   "cell_type": "code",
   "execution_count": null,
   "id": "b72a505e-49fd-454a-9f29-95daa8043a51",
   "metadata": {},
   "outputs": [],
   "source": []
  },
  {
   "cell_type": "code",
   "execution_count": null,
   "id": "95362d6a-e30b-41f6-9e27-8c3c04a73725",
   "metadata": {},
   "outputs": [],
   "source": []
  },
  {
   "cell_type": "code",
   "execution_count": null,
   "id": "5a5cc3fb-33e2-4ec8-b992-ba22e0ad6a08",
   "metadata": {},
   "outputs": [],
   "source": []
  },
  {
   "cell_type": "code",
   "execution_count": null,
   "id": "32e28004-278c-45ac-8c8c-e71da345efb2",
   "metadata": {},
   "outputs": [],
   "source": []
  },
  {
   "cell_type": "code",
   "execution_count": null,
   "id": "2c09ef46-0e93-4658-8ab8-d1e33eca8d4c",
   "metadata": {},
   "outputs": [],
   "source": []
  },
  {
   "cell_type": "code",
   "execution_count": null,
   "id": "3750c149-f706-4f07-90dd-240042ce6442",
   "metadata": {},
   "outputs": [],
   "source": []
  },
  {
   "cell_type": "code",
   "execution_count": null,
   "id": "dd6bad3c-ef7d-400f-8522-a61827b7dfcb",
   "metadata": {},
   "outputs": [],
   "source": []
  },
  {
   "cell_type": "markdown",
   "id": "1e341871-a429-4527-aa2f-fd5bc42b93b1",
   "metadata": {},
   "source": [
    "## Test Upload to REDCAP"
   ]
  },
  {
   "cell_type": "code",
   "execution_count": null,
   "id": "1a6c0860-8ab0-4467-919f-68758b9d90c0",
   "metadata": {},
   "outputs": [],
   "source": [
    "df_lims[df_lims[\"tot_conc_vol\"] == \"500mL\"][\"tot_conc_vol\"]"
   ]
  },
  {
   "cell_type": "code",
   "execution_count": null,
   "id": "082da14f-6af4-477b-bfd0-f4c1aee0c86f",
   "metadata": {},
   "outputs": [],
   "source": [
    "lims_clms_validation = {\"test_result_date\": [\"date.today()\"],\n",
    "                        'sample_collect_date':[\"date.today()\"],\n",
    "\n",
    "                        'sample_collect_time' :[\"MM:HH\"], # must be in #MM:HH format \n",
    "\n",
    "                        \"pretreatment\" :[1,0], # 0 or 1 (yes, no)\n",
    "                        \"sars_cov2_units\":[1,2,3,4,5,6], # number 1-6 (drop down categories)\n",
    "                        \"sars_cov2_below_lod\":[\"yes\", \"no\"], # \"yes\" or \"no\"\n",
    "                        \"ntc_amplify\":[\"yes\", \"no\"], # \"yes\" or \"no\"\n",
    "                        \"inhibition_detect\":[\"yes\", \"no\", \"not_tested\"], # \"yes\" or \"no\" or \"not_tested\"\n",
    "                        \"inhibition_adjust\":[\"yes\", \"no\"], # \"yes\" or \"no\" (only if inhibition_detect = \"yes\")\n",
    "                        \"concentration_method\":[ \"mf-mgcl2\"], #long list of drop down values\n",
    "                        \"extraction_method\":[\"qiagen-fecal\"], #long list of drop down values\n",
    "                        \"quality_flag\":[\"yes\", \"no\"],\n",
    "                        }\n",
    "\n",
    "\"\"\"\n",
    "sars_cov2_units  \"sars_cov2_units\":[1,2,3,4,5,6]\n",
    "sars_cov2_below_lod \"sars_cov2_below_lod\":[\"yes\", \"no\"]\n",
    "ntc_amplify \"ntc_amplify\":[\"yes\", \"no\"]\n",
    "inhibition_detect \"inhibition_detect\":[\"yes\", \"no\", \"not_tested\"]\n",
    "inhibition_adjust \"inhibition_adjust\":[\"yes\", \"no\"]\n",
    "concentration_method \"concentration_method\":[ \"mf-mgcl2\"]\n",
    "extraction_method \"extraction_method\":[\"qiagen-fecal\"]\n",
    "hum_frac_mic_unit \n",
    "other_norm_unit\n",
    "quality_flag \"quality_flag\":[\"yes\", \"no\"]\n",
    "viral_data_flag\n",
    "\n",
    "\"\"\""
   ]
  },
  {
   "cell_type": "code",
   "execution_count": null,
   "id": "c3ff3382-e40d-47f8-be2a-9858394dd632",
   "metadata": {},
   "outputs": [],
   "source": [
    "df_lims[\"sars_cov2_units\"].to_list()"
   ]
  },
  {
   "cell_type": "code",
   "execution_count": null,
   "id": "91c1b56f-299c-4f0f-b019-12407d760f05",
   "metadata": {},
   "outputs": [],
   "source": [
    "#shortening df_lims for ease to work with\n",
    "df_lims_01 = df_lims.reset_index().head().copy()\n",
    "\n",
    "#enter some test data values\n",
    "df_lims_01.loc[[0,2],[\"inhibition_detect\"]] = \"yes\"\n",
    "df_lims_01.loc[[2],[\"sars_cov2_units\"]] = 4\n",
    "df_lims_01.loc[[4],[\"sars_cov2_units\"]] = 7\n",
    "\n",
    "\n",
    "key_01 = \"inhibition_detect\"\n",
    "value_01 = lims_clms_validation[\"inhibition_detect\"]\n",
    "\n",
    "key_01 = \"sars_cov2_units\"\n",
    "value_2 = lims_clms_validation[\"sars_cov2_units\"]\n",
    "\n",
    "\n",
    "a = df_lims_01[key_01].isin(value_01)\n",
    "b = df_lims_01[key_01].isin(value_01)"
   ]
  },
  {
   "cell_type": "code",
   "execution_count": null,
   "id": "457636b3-ca32-48cd-8d5c-961a2372cb6c",
   "metadata": {},
   "outputs": [],
   "source": [
    "df_lims_01.loc[:,[\"inhibition_detect\", \"sars_cov2_units\"]]"
   ]
  },
  {
   "cell_type": "code",
   "execution_count": null,
   "id": "0e8f4f24-f05c-49dc-ac4f-8073c9ec1bfd",
   "metadata": {},
   "outputs": [],
   "source": []
  },
  {
   "cell_type": "code",
   "execution_count": null,
   "id": "5de15e81-4be1-43c1-96ac-f267e4fc438f",
   "metadata": {},
   "outputs": [],
   "source": [
    "lims_clms_validation[\"sars_cov2_units\"]"
   ]
  },
  {
   "cell_type": "code",
   "execution_count": null,
   "id": "68caf813-e54b-4c72-9abf-fe7fc00db717",
   "metadata": {},
   "outputs": [],
   "source": [
    "df_test_01[\"test_result_date\"] = date.today()\n",
    "df_test_01['sample_collect_date'] = date.today()\n",
    "df_test_01['sample_collect_time'] = \"10:30\"\n",
    "df_test_01[\"pretreatment\"] = 1 # 0 or 1 (yes, no)\n",
    "df_test_01[\"sars_cov2_units\"] = 1 # number 1-6 (drop down categories)\n",
    "df_test_01[\"sars_cov2_below_lod\"] = \"yes\" # \"yes\" or \"no\"\n",
    "df_test_01[\"ntc_amplify\"] = \"yes\" # \"yes\" or \"no\"\n",
    "df_test_01[\"inhibition_detect\"] =  \"yes\" # \"yes\" or \"no\" or \"not_tested\"\n",
    "df_test_01[\"inhibition_adjust\"] = \"yes\" # \"yes\" or \"no\" (only if inhibition_detect = \"yes\")\n",
    "df_test_01[\"concentration_method\"] = \"mf-mgcl2\" #long list of drop down values\n",
    "df_test_01[\"extraction_method\"] = \"qiagen-fecal\" #long list of drop down values\n",
    "df_test_01[\"quality_flag\"] = \"yes\" # \"yes\" or \"no\""
   ]
  },
  {
   "cell_type": "markdown",
   "id": "6d24eba3-7866-4da6-897c-39ab1f0b18a6",
   "metadata": {},
   "source": [
    "## Devloping function to scan columns for accepted values"
   ]
  },
  {
   "cell_type": "code",
   "execution_count": null,
   "id": "60a4e5d3-97e3-4771-9123-46d85f88a9be",
   "metadata": {},
   "outputs": [],
   "source": [
    "# Creating Test datasets\n",
    "samples_dict = {\"column_A\": [\"A\",\"A\", \"B\", \"B\", \"C\",\"C\"],\n",
    "               \"column_B\": [\"CAT\",\"CAT\",\"Dog\",\"bat\",\"bat\",\"dog\"]}\n",
    "\n",
    "samples_df = pd.DataFrame(samples_dict)\n",
    "\n",
    "\n",
    "dat_dict = {\"column_A\": [\"A\" ,\"B\"], \n",
    "           \"column_B\": [\"CAT\", \"dog\"]}"
   ]
  },
  {
   "cell_type": "code",
   "execution_count": null,
   "id": "9cac2397-432b-4222-aa34-3778058d750f",
   "metadata": {},
   "outputs": [],
   "source": [
    "samples_df"
   ]
  },
  {
   "cell_type": "code",
   "execution_count": null,
   "id": "9e65c1df-13ca-42d6-bb31-d83fd218a953",
   "metadata": {},
   "outputs": [],
   "source": [
    "#change values to None if not in list of accepted values, column by column\n",
    "for i in samples_df.columns:\n",
    "    \n",
    "    vals_ok = dat_dict[i] #accepted values for that column\n",
    "    mask = samples_df[i].isin(vals_ok) #bool check for accepted values\n",
    "    \n",
    "    samples_df.loc[~mask, i] = None"
   ]
  },
  {
   "cell_type": "code",
   "execution_count": null,
   "id": "0852382d-f7de-4fe3-ada9-9d2138e62e09",
   "metadata": {},
   "outputs": [],
   "source": [
    "samples_df"
   ]
  },
  {
   "cell_type": "markdown",
   "id": "c26b7abc-222f-4559-913c-c37667346c08",
   "metadata": {},
   "source": [
    "# Apendix"
   ]
  },
  {
   "cell_type": "markdown",
   "id": "a94bad9f-ddb3-4e59-ad47-6606b8be4b3c",
   "metadata": {},
   "source": [
    "## A-I) Explore datatype stored in LIMS database"
   ]
  },
  {
   "cell_type": "markdown",
   "id": "98a57149-32a0-4c48-a738-3875b59ad37a",
   "metadata": {},
   "source": [
    "pyodbc cursor object allows to interact with database parameters. cursos.columns() returns information about every column in the database table."
   ]
  },
  {
   "cell_type": "code",
   "execution_count": null,
   "id": "b6794b18-623c-4a93-99af-565245040a28",
   "metadata": {},
   "outputs": [],
   "source": [
    "cnxn = pyodbc.connect(credentials) # credentials = 'DSN=LIMS_DATA;UID=xxxxxxx;PWD=xxxxxxx'\n",
    "cursor = cnxn.cursor()\n",
    "\n",
    "dtype_list = [(i.column_name, i.type_name) for i in cursor.columns(table=\"vz_Epi_ELS_SARS-CoV-2 ddPCR\")]\n",
    "\n",
    "dtype_list\n"
   ]
  },
  {
   "cell_type": "markdown",
   "id": "3e9925ad-efc0-48b3-8406-912d6c1c6bfe",
   "metadata": {},
   "source": [
    "RESULT: Two columns have datetime type, remaining columns are varchar type\n",
    "('TestResultDate', 'datetime')\n",
    "('SampleCollectDate', 'datetime')"
   ]
  },
  {
   "cell_type": "markdown",
   "id": "48ba6a07-87f5-41e8-987f-705182f3b97c",
   "metadata": {},
   "source": [
    "## A-II) Explore converting LIMS dataframe to numeric type - may not be necessary."
   ]
  },
  {
   "cell_type": "code",
   "execution_count": null,
   "id": "fa3aa648-be06-4d06-9e1d-4f0470ec6ba9",
   "metadata": {},
   "outputs": [],
   "source": [
    "potential_numeric = [\"NumNoTargetControl\", \"SARSCoV2AvgConc\"]"
   ]
  },
  {
   "cell_type": "code",
   "execution_count": null,
   "id": "0731a86f-c1b8-4d81-b55c-a5e1b421ad0f",
   "metadata": {},
   "outputs": [],
   "source": [
    "df_lims[potential_numeric] = df_lims[potential_numeric].apply(pd.to_numeric, errors = \"coerce\")"
   ]
  },
  {
   "cell_type": "code",
   "execution_count": null,
   "id": "3349592f-e487-4fce-a906-28687ebb240b",
   "metadata": {},
   "outputs": [],
   "source": [
    "df_lims.info()"
   ]
  },
  {
   "cell_type": "markdown",
   "id": "07bbaeae-081d-4a3d-85a4-79b8dc4d5e40",
   "metadata": {},
   "source": [
    "## B-I) REDCap Manual data export"
   ]
  },
  {
   "cell_type": "markdown",
   "id": "db9a9ae6-b167-46c2-aacc-1c8f400fc4fc",
   "metadata": {},
   "source": [
    "Exploring manual csv data export - column ID's, Datatypes, Exporting Survey ID and Survey Timestamp\n",
    "\n",
    "**Conclusion**: 2 additional column are present in when manually exporting csv and keeping survey ID and Survey timestamp selected"
   ]
  },
  {
   "cell_type": "code",
   "execution_count": null,
   "id": "d941d999-ec42-4037-857c-77fd8ebd2e8d",
   "metadata": {},
   "outputs": [],
   "source": [
    "import pandas as pd\n",
    "\n",
    "#import data\n",
    "df_PID177_manual = pd.read_csv(\"./redcap_manual_export/PID177_ww_labs.csv\")\n",
    "df_PID177_manual_noID_noTimeStamp = pd.read_csv(\"./redcap_manual_export/PID177_ww_labs_minus_SurTimestamp_SurIdentifier.csv\")\n",
    "\n",
    "#make set of column names\n",
    "columns_PID177_full = set(df_PID177_manual.columns)\n",
    "columns_PID177_minimal = set(df_PID177_manual_noID_noTimeStamp.columns)\n",
    "\n",
    "#compare column sets\n",
    "print(\"additional columns present: \" + str(columns_PID177_full - columns_PID177_minimal))\n",
    "#print(labs_set_minimal - labs_set_full) #returns empty set \n",
    "\n",
    "print(\"\\n\")\n",
    "print(df_PID177_manual[['redcap_survey_identifier', 'a3_ww_lab_set_up_timestamp']])\n",
    "print(\"\\n\")\n",
    "print(df_PID177_manual.info())"
   ]
  },
  {
   "cell_type": "markdown",
   "id": "9d8e1b5f-834e-4dac-88c6-d42e626e16ce",
   "metadata": {},
   "source": [
    "## B-II) REDCap API Data Export"
   ]
  },
  {
   "cell_type": "markdown",
   "id": "122c222c-11fe-467a-93bf-618e7a089850",
   "metadata": {},
   "source": [
    "Explore data export via native REDCap API pull\n",
    "\n",
    "**Conclusion**: API call return data without the additional columns: [redcap_survey_identifier, a3_ww_lab_set_up_timestamp]. These columns can be pulled when exporting data manualy by checking a box.\n",
    "\n",
    "**Conclusion**: API export columns and manual export columns are identical when survey_identifier and survey_timestamp field remain uncheck during manual export. \n",
    "\n",
    "**Conclusion**: During API export, all column fields are objects. Manual export to csv and load to pandas, yields some numeric fields.\n",
    "\n",
    "**Conclusion**: Datetime format is different between API export, and manual csv export. "
   ]
  },
  {
   "cell_type": "code",
   "execution_count": null,
   "id": "d6fd9d03-03aa-4e58-9ae6-839e4e344322",
   "metadata": {},
   "outputs": [],
   "source": [
    "#export PID177 all data via API\n",
    "df_PID177_API = redcap_API_export(redcap_api_url, redcap_tokens_prod[\"PID177\"])\n",
    "\n",
    "API_columns_set = set(df_PID177_API.columns)\n",
    "\n",
    "#comparing columns of csv manual export with identifier and timestamp fields with standrad API export\n",
    "print(\"additional columns present: \" + str(columns_PID177_full - API_columns_set))\n",
    "#print(API_columns_set - columns_PID177_full) #empty set\n",
    "print()\n",
    "#are all the columns identical? \n",
    "print(\"Are all the columns identical between standard csv export and API export?\")\n",
    "print(all(df_PID177_manual_noID_noTimeStamp.columns == df_PID177_API.columns))\n",
    "\n",
    "print()\n",
    "#converting both manually pulled csv and API data to numberic datatypes (if possible)\n",
    "#df_PID177_API = df_PID177_API.apply(pd.to_numeric, errors = \"ignore\")\n",
    "#df_PID177_manual_noID_noTimeStamp = df_PID177_manual_noID_noTimeStamp.apply(pd.to_numeric, errors = \"ignore\")\n",
    "\n",
    "#converting timestamp \n",
    "df_PID177_API[\"ww_lab_setup_date\"] = pd.to_datetime(df_PID177_API[\"ww_lab_setup_date\"])\n",
    "df_PID177_manual_noID_noTimeStamp[\"ww_lab_setup_date\"] = pd.to_datetime(df_PID177_manual_noID_noTimeStamp[\"ww_lab_setup_date\"])\n",
    "print(\"after converting all columns to numeric, and 'ww_lab_setup_date' columns to datetime, are the dataframes identical?\")\n",
    "\n",
    "print(df_PID177_manual_noID_noTimeStamp.equals(df_PID177_manual_noID_noTimeStamp))\n"
   ]
  },
  {
   "cell_type": "markdown",
   "id": "ec9e77bf-1a1d-44ab-989f-29fe2d309601",
   "metadata": {},
   "source": [
    "# B-III) RedCap Pycap Data Export"
   ]
  },
  {
   "cell_type": "markdown",
   "id": "d38ce5f9-2603-42a1-9ece-ecd3b24741eb",
   "metadata": {},
   "source": [
    "**Conclusion**: PyCap API calls to export record DO NOT contain record status data"
   ]
  },
  {
   "cell_type": "code",
   "execution_count": null,
   "id": "afae3e97-0cd5-4172-9bb6-8434a521e208",
   "metadata": {},
   "outputs": [],
   "source": [
    "import redcap\n",
    "PID177_project = redcap.Project(redcap_api_url, redcap_tokens_prod[\"PID177\"])"
   ]
  },
  {
   "cell_type": "code",
   "execution_count": null,
   "id": "d4696806-c91e-43ed-a823-0d8eefb30362",
   "metadata": {},
   "outputs": [],
   "source": [
    "PID177_pycap = PID177_project.export_records(format=\"df\",\n",
    "                                             event_name = \"unique\",\n",
    "                                             #export_checkbox_labels = True,\n",
    "                                             #export_data_access_groups = True,\n",
    "                                             #export_survey_fields = True\n",
    "                                            )\n",
    "\n",
    "\n",
    "\n",
    "print(\"Additional columns present: \" + str(set(ww_redcap[\"PID177\"].columns) - set(PID177_pycap.columns)))\n",
    "print(set(PID177_pycap.columns) - set(ww_redcap[\"PID177\"].columns))"
   ]
  },
  {
   "cell_type": "markdown",
   "id": "9ea8b73a-2749-4894-9ffc-93ef92e8beea",
   "metadata": {},
   "source": [
    "# C-I) Exploring LIMS data columns and REDCap data columns"
   ]
  },
  {
   "cell_type": "markdown",
   "id": "ffebf4db-9a16-4c53-a843-56244a1a3c72",
   "metadata": {},
   "source": [
    "**Conclusion**: Only certain columns from LIMS data map to PID171\n",
    "\n",
    "**Conclusion**: Created an excel file, to map column name conversion between LIMS and REDCap PID171, created a function to generate dictionary for LIMS data transformation (renaming columns)"
   ]
  },
  {
   "cell_type": "code",
   "execution_count": null,
   "id": "bfc44dc5-725a-42fd-8589-d465bd9dba68",
   "metadata": {},
   "outputs": [],
   "source": [
    "df_WWSamples = ww_redcap[\"PID171\"]\n",
    "print(df_WWSamples.shape)"
   ]
  },
  {
   "cell_type": "code",
   "execution_count": null,
   "id": "2f477960-c587-488b-9d60-7c7c69581433",
   "metadata": {},
   "outputs": [],
   "source": [
    "df_lims.dtypes.to_csv(\"lims_datatypes.csv\")\n",
    "df_WWSamples.dtypes.to_csv(\"PID171_WW_Samples.csv\")"
   ]
  },
  {
   "cell_type": "code",
   "execution_count": null,
   "id": "ada3a171-ca35-4a71-ac30-b88a65848163",
   "metadata": {},
   "outputs": [],
   "source": [
    "df_WWSamples.iloc[:,:5]"
   ]
  },
  {
   "cell_type": "markdown",
   "id": "6d2a0770-74d3-463d-9582-ce1d9e0f6d8c",
   "metadata": {},
   "source": [
    "Function to generate column name transform dictionary. Data lives in xlsx file \"LIMS_REDCap_columns_ID's.xlsx\""
   ]
  },
  {
   "cell_type": "code",
   "execution_count": null,
   "id": "3b19de18-56eb-4f93-8ed4-b2e52ed1d7ed",
   "metadata": {},
   "outputs": [],
   "source": [
    "df_lims_redcap_column_map = pd.read_excel(\"LIMS_REDCap_columns_IDs.xlsx\", sheet_name = \"COMBINED\") \n",
    "\n",
    "not_null_lims = pd.notna(df_lims_redcap_column_map[\"LIMS_COLUMNS_NAME\"]) #find present LIMS columns that map to REDCap\n",
    "\n",
    "df_lims_map = df_lims_redcap_column_map[not_null_lims][[\"PID171_COLUMNS_NAME\",\"LIMS_COLUMNS_NAME\"]] #filter for mapped columns\n",
    "\n",
    "df_lims_map.set_index(\"LIMS_COLUMNS_NAME\", inplace = True)\n",
    "\n",
    "dict_lims_map = df_lims_map.to_dict()\n",
    "\n",
    "dict_lims_map = dict_lims_map['PID171_COLUMNS_NAME']\n",
    "\n",
    "dict_lims_map"
   ]
  },
  {
   "cell_type": "markdown",
   "id": "7b0b99bd-9a2b-495a-b085-ab1f1315e371",
   "metadata": {},
   "source": [
    "# C-II) Explore LIMS date column types in preperation for REDCap Import\n",
    "Conclusion: Only 2 columns from LIMS contain dates, both column contain dates in form YYYY-MM-DD, nothing else is needed."
   ]
  },
  {
   "cell_type": "code",
   "execution_count": null,
   "id": "ef294df2-3096-4179-a813-e2ab76ebc931",
   "metadata": {},
   "outputs": [],
   "source": [
    "mdy = fields_datetime[fields_datetime[\"text_validation_type_or_show_slider_number\"].str.contains(\"date\")] #all redcap PID171 datetime fields\n",
    "a = set(mdy.index)\n",
    "b = set(dict_lims_column_map.values()) #all redcap values that come from lims\n",
    "dates = list(a & b)  \n",
    "\n",
    "print(dates) #only two columns from LIMS that go into REDCap have date values\n",
    "\n",
    "\n",
    "#Testing format of date columns from LIMS that must be imported into REDCap\n",
    "for i in dates:\n",
    "    a = df_lims[i].astype(\"str\")\n",
    "    print([j for j in a])"
   ]
  },
  {
   "cell_type": "markdown",
   "id": "7de93a45-0b59-4be9-9270-e7748fe8cbde",
   "metadata": {},
   "source": [
    "# D-I) Demonstration of Upload 1 row of data into REDCap"
   ]
  },
  {
   "cell_type": "code",
   "execution_count": null,
   "id": "b9d84a41-227e-4ed1-b964-90ca480e2ce3",
   "metadata": {},
   "outputs": [],
   "source": [
    "from datetime import date\n",
    "\n",
    "# TEST Import 1 row of data (PID171 format, all blanks)\n",
    "df_test_01 = ww_redcap[\"PID171\"][df_lims.columns].iloc[0:1].copy()   #take only 1 row of data \n",
    "\n",
    "\n",
    "# setting values to df_test\n",
    "df_test_01.set_index(pd.Series([999999]), inplace = True)  #set index to 999999\n",
    "df_test_01.loc[999999] = \"test\"\n",
    "df_test_01[\"test_result_date\"] = date.today()\n",
    "df_test_01['sample_collect_date'] = date.today()\n",
    "df_test_01['sample_collect_time'] = \"10:30\"\n",
    "df_test_01[\"pretreatment\"] = 1 # 0 or 1 (yes, no)\n",
    "df_test_01[\"sars_cov2_units\"] = 1 # number 1-6 (drop down categories)\n",
    "df_test_01[\"sars_cov2_below_lod\"] = \"yes\" # \"yes\" or \"no\"\n",
    "df_test_01[\"ntc_amplify\"] = \"yes\" # \"yes\" or \"no\"\n",
    "df_test_01[\"inhibition_detect\"] =  \"yes\" # \"yes\" or \"no\" or \"not_tested\"\n",
    "df_test_01[\"inhibition_adjust\"] = \"yes\" # \"yes\" or \"no\" (only if inhibition_detect = \"yes\")\n",
    "df_test_01[\"concentration_method\"] = \"mf-mgcl2\" #long list of drop down values\n",
    "df_test_01[\"extraction_method\"] = \"qiagen-fecal\" #long list of drop down values\n",
    "df_test_01[\"quality_flag\"] = \"yes\" # \"yes\" or \"no\"\n",
    "\n"
   ]
  },
  {
   "cell_type": "code",
   "execution_count": null,
   "id": "53c8de54-1ca6-4763-8341-d053155e0a72",
   "metadata": {},
   "outputs": [],
   "source": [
    "#Connecting to PID171\n",
    "import redcap\n",
    "project = redcap.Project(redcap_api_url, redcap_tokens_prod[\"PID171\"])\n",
    "\n",
    "response = project.import_records(df_test_01, force_auto_number=False)\n",
    "response"
   ]
  },
  {
   "cell_type": "markdown",
   "id": "d314534c-951c-41ed-960c-560ebf5833c1",
   "metadata": {},
   "source": [
    "# D-II) Testing obligate fields import into REDCap"
   ]
  },
  {
   "cell_type": "code",
   "execution_count": null,
   "id": "9018992a-e975-41e7-8b42-d01efcbfb8de",
   "metadata": {},
   "outputs": [],
   "source": [
    "#build a simple dataframe to import obligate value fields only\n",
    "\n",
    "row = {}\n",
    "for i,j in fields.items():\n",
    "    row[i] = next(iter(j))\n",
    "\n",
    "single_row = pd.DataFrame(row, index = [1])\n",
    "two_rows = single_row.append(single_row)\n",
    "two_rows.reset_index(drop = True, inplace=True)\n",
    "two_rows.index.name = \"sample_id\""
   ]
  },
  {
   "cell_type": "code",
   "execution_count": null,
   "id": "04dfaaca-11f6-44e3-8829-1ff5ada78c37",
   "metadata": {},
   "outputs": [],
   "source": [
    "#Attempt to import two rows\n",
    "import redcap\n",
    "project = redcap.Project(redcap_api_url, redcap_tokens_prod[\"PID171\"])\n",
    "\n",
    "response = project.import_records(two_rows, force_auto_number=False)\n",
    "response"
   ]
  },
  {
   "cell_type": "markdown",
   "id": "a4d58fbc-bd7d-4327-ae18-eecb944cbc7a",
   "metadata": {},
   "source": [
    "# D-III) Combination of new column names due to tests for multiple PCR targets per sample\n",
    "\n",
    "Conclusion: 2 unique column must be present for every PCR Target: [\"sars_cov2_below_lod\", \"sars_cov2_avg_conc\"]\n",
    "\n",
    "There are 14 PCR targets. Resulting in 28 combinations. "
   ]
  },
  {
   "cell_type": "code",
   "execution_count": null,
   "id": "fa922dbe-b962-49b3-a1f1-a1a683d0a507",
   "metadata": {},
   "outputs": [],
   "source": [
    "#PID176 metadata\n",
    "fields_restricted = (\n",
    "    redcap_metadata_export(redcap_api_url, redcap_tokens_prod[\"PID176\"])\n",
    "    .pipe(accepted_redcap_fields)\n",
    "    )\n",
    "\n",
    "#Lists that need to be combined\n",
    "pcr_target = list(fields_restricted['pcr_target'].values())\n",
    "result_fields = [\"sars_cov2_below_lod\", \"sars_cov2_avg_conc\"]\n",
    "\n",
    "#concat all combinations\n",
    "pcr_target[0] + \"_\" + result_fields[0]\n",
    "\n",
    "combined_fields = []\n",
    "for i in pcr_target:\n",
    "    for j in result_fields:\n",
    "        value = i + \"_\" + j\n",
    "        combined_fields.append(value)\n",
    "        \n",
    "        \n",
    "combined_fields"
   ]
  },
  {
   "cell_type": "markdown",
   "id": "e3b0edd7-2cc9-40f3-8b23-c6e7d09f6927",
   "metadata": {},
   "source": [
    "# D-IV) Exploring New Column names for PCR gene Targets"
   ]
  },
  {
   "cell_type": "code",
   "execution_count": null,
   "id": "a9203105-bf4c-4848-880a-8c6914aa9c19",
   "metadata": {},
   "outputs": [],
   "source": [
    "df = ww_redcap[\"PID171\"]\n",
    "below_lod = []\n",
    "avg_conc = []\n",
    "\n",
    "#all columns ending in \"below_lod\" and \"avg_conc\"\n",
    "for i in df.columns:\n",
    "    if re.search(r\"below_lod$\", i):\n",
    "        below_lod.append(i)\n",
    "        print(i)\n",
    "        \n",
    "    elif re.search(r\"avg_conc$\", i):\n",
    "        avg_conc.append(i)\n",
    "        print(i)\n",
    "    "
   ]
  },
  {
   "cell_type": "code",
   "execution_count": null,
   "id": "a7c18c50-7bca-4602-9b65-83cdbb24407d",
   "metadata": {},
   "outputs": [],
   "source": [
    "combined = avg_conc + below_lod\n",
    "\n",
    "master_key = [\n",
    "\n",
    "     'n1_sars_cov2_below_lod',\n",
    "     'n1_sars_cov2_avg_conc',\n",
    "     'n2_sars_cov2_below_lod',\n",
    "     'n2_sars_cov2_avg_conc',\n",
    "     'n3_sars_cov2_below_lod',\n",
    "     'n3_sars_cov2_avg_conc',\n",
    "     'e_sarbeco_sars_cov2_below_lod',\n",
    "     'e_sarbeco_sars_cov2_avg_conc',\n",
    "     'n_sarbeco_sars_cov2_below_lod',\n",
    "     'n_sarbeco_sars_cov2_avg_conc',\n",
    "     'rdrp_sarsr_sars_cov2_below_lod',\n",
    "     'rdrp_sarsr_sars_cov2_avg_conc',\n",
    "     'niid_2019ncov_n_sars_cov2_below_lod',\n",
    "     'niid_2019ncov_n_sars_cov2_avg_conc',\n",
    "     'rdrp_genencov_ip2_sars_cov2_below_lod',\n",
    "     'rdrp_genencov_ip2_sars_cov2_avg_conc',\n",
    "     'rdrp_genencov_ip4_sars_cov2_below_lod',\n",
    "     'rdrp_genencov_ip4_sars_cov2_avg_conc',\n",
    "     'taqpathn_sars_cov2_below_lod',\n",
    "     'taqpathn_sars_cov2_avg_conc',\n",
    "     'taqpaths_sars_cov2_below_lod',\n",
    "     'taqpaths_sars_cov2_avg_conc',\n",
    "     'orf1b_sars_cov2_below_lod',\n",
    "     'orf1b_sars_cov2_avg_conc',\n",
    "     'orf1ab_sars_cov2_below_lod',\n",
    "     'orf1ab_sars_cov2_avg_conc',\n",
    "     'n1andn2combined_sars_cov2_below_lod',\n",
    "     'n1andn2combined_sars_cov2_avg_conc']\n",
    "\n",
    "\n",
    "for i in combined:\n",
    "    if i in master_key:\n",
    "        pass\n",
    "        #print(i)\n",
    "    else:\n",
    "        print(f'ERROR The following value is not present in master key {i}')\n",
    "\n",
    "\n",
    "n = set(master_key)\n",
    "m = set(combined)\n",
    "\n",
    "print(n-m)\n",
    "print(m-n)\n",
    "\n",
    "print(len(below_lod))\n",
    "print(len(avg_conc))\n",
    "\n",
    "print(len(master_key))\n",
    "print(len(combined))"
   ]
  },
  {
   "cell_type": "code",
   "execution_count": null,
   "id": "10e46f63-dc26-4364-a06d-c82ea8ab38ac",
   "metadata": {},
   "outputs": [],
   "source": []
  }
 ],
 "metadata": {
  "kernelspec": {
   "display_name": "Python [conda env:transform21] *",
   "language": "python",
   "name": "conda-env-transform21-py"
  },
  "language_info": {
   "codemirror_mode": {
    "name": "ipython",
    "version": 3
   },
   "file_extension": ".py",
   "mimetype": "text/x-python",
   "name": "python",
   "nbconvert_exporter": "python",
   "pygments_lexer": "ipython3",
   "version": "3.8.10"
  }
 },
 "nbformat": 4,
 "nbformat_minor": 5
}

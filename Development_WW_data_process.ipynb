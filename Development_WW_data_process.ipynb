{
 "cells": [
  {
   "cell_type": "markdown",
   "id": "f971f7f0-3bbf-48d7-a6de-03d64b6db238",
   "metadata": {},
   "source": [
    "# Development of Wastewater Surveillance Data Automation Script "
   ]
  },
  {
   "cell_type": "markdown",
   "id": "01b91b93-0dec-4e53-9e6f-d2e0c385b9e8",
   "metadata": {},
   "source": [
    "## 1) Export All data from LIMS DatabasE"
   ]
  },
  {
   "cell_type": "code",
   "execution_count": 1,
   "id": "244916f0-241f-4748-9d17-b551f7dc3338",
   "metadata": {},
   "outputs": [],
   "source": [
    "#run script that executes export of LIMS data\n",
    "\n",
    "%run -i \"viral_lims_export.py\""
   ]
  },
  {
   "cell_type": "code",
   "execution_count": null,
   "id": "f1672a38-9fb9-4618-bea2-f44e8527de4a",
   "metadata": {},
   "outputs": [],
   "source": [
    "df = export_df_from_LIMS()\n",
    "df.info()"
   ]
  },
  {
   "cell_type": "markdown",
   "id": "b12297ab-e50e-4100-9001-91873609289b",
   "metadata": {},
   "source": [
    "# Appendix "
   ]
  },
  {
   "cell_type": "markdown",
   "id": "a94bad9f-ddb3-4e59-ad47-6606b8be4b3c",
   "metadata": {},
   "source": [
    "## A-I) Explore datatype stored in LIMS database"
   ]
  },
  {
   "cell_type": "markdown",
   "id": "98a57149-32a0-4c48-a738-3875b59ad37a",
   "metadata": {},
   "source": [
    "pyodbc cursor object allows to interact with database parameters. cursos.columns() returns information about every column in the database table."
   ]
  },
  {
   "cell_type": "code",
   "execution_count": null,
   "id": "b6794b18-623c-4a93-99af-565245040a28",
   "metadata": {},
   "outputs": [],
   "source": [
    "cnxn = pyodbc.connect(credentials) # credentials = 'DSN=LIMS_DATA;UID=xxxxxxx;PWD=xxxxxxx'\n",
    "cursor = cnxn.cursor()\n",
    "\n",
    "dtype_list = [(i.column_name, i.type_name) for i in cursor.columns(table=\"vz_Epi_ELS_SARS-CoV-2 ddPCR\")]\n",
    "\n",
    "dtype_list\n"
   ]
  },
  {
   "cell_type": "markdown",
   "id": "3e9925ad-efc0-48b3-8406-912d6c1c6bfe",
   "metadata": {},
   "source": [
    "RESULT: Two columns have datetime type, remaining columns are varchar type\n",
    "('TestResultDate', 'datetime')\n",
    "('SampleCollectDate', 'datetime')"
   ]
  },
  {
   "cell_type": "markdown",
   "id": "48ba6a07-87f5-41e8-987f-705182f3b97c",
   "metadata": {},
   "source": [
    "## A-II) Explore converting LIMS dataframe to numeric type - may not be necessary."
   ]
  },
  {
   "cell_type": "code",
   "execution_count": null,
   "id": "fa3aa648-be06-4d06-9e1d-4f0470ec6ba9",
   "metadata": {},
   "outputs": [],
   "source": [
    "potential_numeric = [\"NumNoTargetControl\", \"SARSCoV2AvgConc\"]"
   ]
  },
  {
   "cell_type": "code",
   "execution_count": null,
   "id": "0731a86f-c1b8-4d81-b55c-a5e1b421ad0f",
   "metadata": {},
   "outputs": [],
   "source": [
    "df[potential_numeric] = df[potential_numeric].apply(pd.to_numeric, errors = \"coerce\")"
   ]
  },
  {
   "cell_type": "code",
   "execution_count": null,
   "id": "3349592f-e487-4fce-a906-28687ebb240b",
   "metadata": {},
   "outputs": [],
   "source": [
    "df.info()"
   ]
  },
  {
   "cell_type": "markdown",
   "id": "07bbaeae-081d-4a3d-85a4-79b8dc4d5e40",
   "metadata": {},
   "source": [
    "## B-I) REDCap Manual data export"
   ]
  },
  {
   "cell_type": "markdown",
   "id": "db9a9ae6-b167-46c2-aacc-1c8f400fc4fc",
   "metadata": {},
   "source": [
    "Exploring manual csv data export - column ID's, Datatypes, Exporting Survey ID and Survey Timestamp\n",
    "\n",
    "**Conclusion**: 2 additional column are present in when manually exporting csv and keeping survey ID and Survey timestamp selected"
   ]
  },
  {
   "cell_type": "code",
   "execution_count": 2,
   "id": "d941d999-ec42-4037-857c-77fd8ebd2e8d",
   "metadata": {},
   "outputs": [
    {
     "name": "stdout",
     "output_type": "stream",
     "text": [
      "additional columns present: {'a3_ww_lab_set_up_timestamp', 'redcap_survey_identifier'}\n",
      "\n",
      "\n",
      "   redcap_survey_identifier a3_ww_lab_set_up_timestamp\n",
      "0                       NaN                        NaN\n",
      "1                       NaN              9/1/2021 9:00\n",
      "2                       NaN            9/17/2021 15:15\n",
      "3                       NaN                        NaN\n",
      "4                       NaN                        NaN\n",
      "\n",
      "\n",
      "<class 'pandas.core.frame.DataFrame'>\n",
      "RangeIndex: 5 entries, 0 to 4\n",
      "Data columns (total 27 columns):\n",
      " #   Column                      Non-Null Count  Dtype  \n",
      "---  ------                      --------------  -----  \n",
      " 0   ww_lab_id                   5 non-null      object \n",
      " 1   redcap_survey_identifier    0 non-null      float64\n",
      " 2   a3_ww_lab_set_up_timestamp  2 non-null      object \n",
      " 3   lab_name                    5 non-null      object \n",
      " 4   ww_lab_setup_date           1 non-null      object \n",
      " 5   street_add                  3 non-null      object \n",
      " 6   zipcode                     3 non-null      float64\n",
      " 7   lab_contact1                3 non-null      object \n",
      " 8   contact1_email              3 non-null      object \n",
      " 9   contact1_phone              3 non-null      object \n",
      " 10  lab_contact2                2 non-null      object \n",
      " 11  contact2_email              2 non-null      object \n",
      " 12  contact2_phone              2 non-null      object \n",
      " 13  tss_method                  3 non-null      object \n",
      " 14  toc_method                  0 non-null      float64\n",
      " 15  cod_method                  1 non-null      object \n",
      " 16  nh4_nh3_method              2 non-null      object \n",
      " 17  phos_method                 1 non-null      object \n",
      " 18  e_coli_method               2 non-null      object \n",
      " 19  fecal_coliform_method       2 non-null      object \n",
      " 20  additional_method_1         0 non-null      float64\n",
      " 21  additional_method_2         0 non-null      float64\n",
      " 22  additional_method_3         0 non-null      float64\n",
      " 23  additional_method_4         0 non-null      float64\n",
      " 24  a3_ww_lab_set_up_complete   5 non-null      int64  \n",
      " 25  lab_status                  2 non-null      float64\n",
      " 26  lab_tracking_complete       5 non-null      int64  \n",
      "dtypes: float64(8), int64(2), object(17)\n",
      "memory usage: 1.2+ KB\n",
      "None\n"
     ]
    }
   ],
   "source": [
    "import pandas as pd\n",
    "\n",
    "#import data\n",
    "df_PID177_manual = pd.read_csv(\"./redcap_manual_export/PID177_ww_labs.csv\")\n",
    "df_PID177_manual_noID_noTimeStamp = pd.read_csv(\"./redcap_manual_export/PID177_ww_labs_minus_SurTimestamp_SurIdentifier.csv\")\n",
    "\n",
    "#make set of column names\n",
    "columns_PID177_full = set(df_PID177_manual.columns)\n",
    "columns_PID177_minimal = set(df_PID177_manual_noID_noTimeStamp.columns)\n",
    "\n",
    "#compare column sets\n",
    "print(\"additional columns present: \" + str(columns_PID177_full - columns_PID177_minimal))\n",
    "#print(labs_set_minimal - labs_set_full) #returns empty set \n",
    "\n",
    "print(\"\\n\")\n",
    "print(df_PID177_manual[['redcap_survey_identifier', 'a3_ww_lab_set_up_timestamp']])\n",
    "print(\"\\n\")\n",
    "print(df_PID177_manual.info())"
   ]
  },
  {
   "cell_type": "markdown",
   "id": "9d8e1b5f-834e-4dac-88c6-d42e626e16ce",
   "metadata": {},
   "source": [
    "## B-II) REDCap API Data Export"
   ]
  },
  {
   "cell_type": "markdown",
   "id": "122c222c-11fe-467a-93bf-618e7a089850",
   "metadata": {},
   "source": [
    "Explore data export via native REDCap API pull\n",
    "\n",
    "**Conclusion**: API call return data without the additional columns: [redcap_survey_identifier, a3_ww_lab_set_up_timestamp]. These columns can be pulled when exporting data manualy by checking a box.\n",
    "\n",
    "**Conclusion**: API export columns and manual export columns are identical when survey_identifier and survey_timestamp field remain uncheck during manual export. \n",
    "\n",
    "**Conclusion**: During API export, all column fields are objects. Manual export to csv and load to pandas, yields some numeric fields.\n",
    "\n",
    "**Conclusion**: Datetime format is different between API export, and manual csv export. "
   ]
  },
  {
   "cell_type": "code",
   "execution_count": 43,
   "id": "d6fd9d03-03aa-4e58-9ae6-839e4e344322",
   "metadata": {},
   "outputs": [
    {
     "name": "stdout",
     "output_type": "stream",
     "text": [
      "additional columns present: {'a3_ww_lab_set_up_timestamp', 'redcap_survey_identifier'}\n",
      "\n",
      "Are all the columns identical between standard csv export and API export?\n",
      "True\n",
      "\n",
      "after converting all columns to numeric, and 'ww_lab_setup_date' columns to datetime, are the dataframes identical?\n",
      "True\n"
     ]
    }
   ],
   "source": [
    "#export PID177 all data via API\n",
    "df_PID177_API = redcap_API_export(redcap_api_url, redcap_tokens_prod[\"PID177\"])\n",
    "\n",
    "API_columns_set = set(df_PID177_API.columns)\n",
    "\n",
    "#comparing columns of csv manual export with identifier and timestamp fields with standrad API export\n",
    "print(\"additional columns present: \" + str(columns_PID177_full - API_columns_set))\n",
    "#print(API_columns_set - columns_PID177_full) #empty set\n",
    "print()\n",
    "#are all the columns identical? \n",
    "print(\"Are all the columns identical between standard csv export and API export?\")\n",
    "print(all(df_PID177_manual_noID_noTimeStamp.columns == df_PID177_API.columns))\n",
    "\n",
    "print()\n",
    "#converting both manually pulled csv and API data to numberic datatypes (if possible)\n",
    "df_PID177_API = df_PID177_API.apply(pd.to_numeric, errors = \"ignore\")\n",
    "df_PID177_manual_noID_noTimeStamp = df_PID177_manual_noID_noTimeStamp.apply(pd.to_numeric, errors = \"ignore\")\n",
    "\n",
    "#converting timestamp \n",
    "df_PID177_API[\"ww_lab_setup_date\"] = pd.to_datetime(df_PID177_API[\"ww_lab_setup_date\"])\n",
    "df_PID177_manual_noID_noTimeStamp[\"ww_lab_setup_date\"] = pd.to_datetime(df_PID177_manual_noID_noTimeStamp[\"ww_lab_setup_date\"])\n",
    "print(\"after converting all columns to numeric, and 'ww_lab_setup_date' columns to datetime, are the dataframes identical?\")\n",
    "\n",
    "print(df_PID177_manual_noID_noTimeStamp.equals(df_PID177_manual_noID_noTimeStamp))\n"
   ]
  }
 ],
 "metadata": {
  "kernelspec": {
   "display_name": "Python [conda env:transform21] *",
   "language": "python",
   "name": "conda-env-transform21-py"
  },
  "language_info": {
   "codemirror_mode": {
    "name": "ipython",
    "version": 3
   },
   "file_extension": ".py",
   "mimetype": "text/x-python",
   "name": "python",
   "nbconvert_exporter": "python",
   "pygments_lexer": "ipython3",
   "version": "3.8.10"
  }
 },
 "nbformat": 4,
 "nbformat_minor": 5
}

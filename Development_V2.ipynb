{
 "cells": [
  {
   "cell_type": "code",
   "execution_count": 1,
   "id": "012297dc-f1f7-425e-bc5f-667bf98db271",
   "metadata": {},
   "outputs": [],
   "source": [
    "# Import raw LIMS dataset\n",
    "%run -i \"lims_export_v2.py\""
   ]
  },
  {
   "cell_type": "code",
   "execution_count": 2,
   "id": "e57389c8-19c5-4965-b1dd-3ae218c65e08",
   "metadata": {},
   "outputs": [
    {
     "name": "stderr",
     "output_type": "stream",
     "text": [
      "C:\\Users\\AXG5303\\Miniconda3\\envs\\transform22\\lib\\site-packages\\pandas\\io\\sql.py:761: UserWarning: pandas only support SQLAlchemy connectable(engine/connection) ordatabase string URI or sqlite3 DBAPI2 connectionother DBAPI2 objects are not tested, please consider using SQLAlchemy\n",
      "  warnings.warn(\n"
     ]
    }
   ],
   "source": [
    "#order dependant: 1) export raw lims\n",
    "df_lims = export_df_from_LIMS()"
   ]
  },
  {
   "cell_type": "code",
   "execution_count": 3,
   "id": "43d4d229-2f3e-4e49-8fbc-cde02ac48163",
   "metadata": {},
   "outputs": [],
   "source": [
    "#order dependant: 2) filter only relavent fields\n",
    "df_lims = isolate_relavent_data(df_lims)"
   ]
  },
  {
   "cell_type": "markdown",
   "id": "4df97cfc-e96b-4c6b-b8d2-5f0098632c69",
   "metadata": {},
   "source": [
    "#### Order independant transformations"
   ]
  },
  {
   "cell_type": "code",
   "execution_count": 4,
   "id": "31a26a78-9c77-4431-a722-b267abebffd7",
   "metadata": {},
   "outputs": [],
   "source": [
    "##### Order independant operations #####\n",
    "df_lims = convert_numeric(df_lims)\n",
    "df_lims = freetext_transform(df_lims)\n",
    "df_lims = convert_choice_fields(df_lims)"
   ]
  },
  {
   "cell_type": "code",
   "execution_count": null,
   "id": "71adb64f-cd86-4983-8f56-811ec50f67a2",
   "metadata": {},
   "outputs": [],
   "source": []
  },
  {
   "cell_type": "code",
   "execution_count": null,
   "id": "ad89c4ad-107b-4e21-949d-e50e440e1480",
   "metadata": {},
   "outputs": [],
   "source": []
  },
  {
   "cell_type": "code",
   "execution_count": null,
   "id": "ca4a3dc0-1243-489e-a0a1-36f36a098f95",
   "metadata": {},
   "outputs": [],
   "source": [
    "### Final Transformation ####\n",
    "#last, force some column values, and set columns dtypes\n",
    "df_lims = force_values(df_lims)\n",
    "df_lims = set_dtypes(df_lims)"
   ]
  },
  {
   "cell_type": "markdown",
   "id": "a07f0c88-03be-4c6a-8b2a-905497832765",
   "metadata": {},
   "source": [
    "#### pipeline update progress"
   ]
  },
  {
   "cell_type": "code",
   "execution_count": null,
   "id": "d4f2e05b-217e-4cb6-a392-96cbff3dc6f0",
   "metadata": {},
   "outputs": [],
   "source": [
    "### Critical convert long to wide ####\n",
    "df_lims = (\n",
    "    drop_null_sample_ID(df_lims ####COMPLETE######\n",
    "    .pipe(drop_all_but_N1_N2)#Remove full rows where PCR Target is enything except N1 or N2\n",
    "    .pipe(below_lod_to_yes_no) ###COMPLETE####\n",
    "    .pipe(long_to_wide) #meat and potatos! everything not under PCRTarget N1 or N2 will not be imported\n",
    "    )\n",
    "\n",
    "####Transform lims dataframe#### \n",
    "df_lims = (\n",
    "    rename_lims_columns(df_lims) ######COMPLETE######\n",
    "    .pipe(convert_numeric) ######COMPLETE######\n",
    "    .pipe(freetext_transform) ######COMPLETE######\n",
    "    .pipe(validate_yes_no_clms) ##### COMPLETE#####\n",
    "    .pipe(validate_choice_fields))#### COMPLETE ####"
   ]
  },
  {
   "cell_type": "markdown",
   "id": "fb7bf0fd-a95a-4bff-85b3-53eb3f07f7be",
   "metadata": {},
   "source": [
    "# Development Cell"
   ]
  },
  {
   "cell_type": "code",
   "execution_count": null,
   "id": "d2ba29f3-4dda-403d-8e56-290511cb5db8",
   "metadata": {},
   "outputs": [],
   "source": [
    "def drop_all_but_N1_N2(df_lims):\n",
    "    \"\"\"\n",
    "    Drop all rows if PCRTarget is anything excep \"N1\" or \"N2\"\n",
    "    \"\"\"\n",
    "    df_lims = df_lims.copy()\n",
    "\n",
    "    df_lims = df_lims[df_lims['PCRTarget'].isin([\"N1\",\"N2\"])]\n",
    "    \n",
    "    return df_lims"
   ]
  },
  {
   "cell_type": "code",
   "execution_count": null,
   "id": "5481185b-e7f6-4653-95f6-2eb9832b4d99",
   "metadata": {},
   "outputs": [],
   "source": [
    "def long_to_wide(df_lims):\n",
    "    \"\"\"\n",
    "    Convert the long form: same sample ID for PCRTargets: N1 and N2, into wide form: each critical value: 'SARSCoV2AvgConc','SARSCoV2BelowLOD' \n",
    "    will have a column for N1_critical_value, and N2_critical_value. This will allow unique sample ID's \n",
    "    \n",
    "    \"\"\"\n",
    "    \n",
    "    #Make sure SARSCoV2AvgConc is a numeric value before pivot transforms\n",
    "    df_lims = df_lims.copy()\n",
    "    \n",
    "    df_lims[\"SARSCoV2AvgConc\"] = pd.to_numeric(df_lims[\"SARSCoV2AvgConc\"], errors = \"coerce\") #make sure \"SARSCoV2AvgConc\" is numeric \n",
    "\n",
    "    #drop duplicates from subset, needed for pivot\n",
    "    df_lims = df_lims.drop_duplicates(subset = ['SubmitterSampleNumber', 'PCRTarget'])\n",
    "    \n",
    "    #Separate dataframe for pivot operation \n",
    "    df_pivot = df_lims.pivot(index = 'SubmitterSampleNumber', columns = 'PCRTarget', values = ['SARSCoV2AvgConc','SARSCoV2BelowLOD']).copy()\n",
    "\n",
    "    #Converting multi-index pivot columns into single-index unique column names. merging the names of level0 and level1 column names. \n",
    "    new_columns = []\n",
    "    for tup in df_pivot.columns:\n",
    "\n",
    "        new_val =tup[1]+\"_\"+ tup[0] #strining tuples from level0 column names and level 1 column names \n",
    "        new_tup = (tup[0], new_val)\n",
    "        new_columns.append(new_tup)\n",
    "\n",
    "    multiindex = pd.MultiIndex.from_tuples(new_columns) #convert new tuple names to multi-index \n",
    "    df_pivot.columns = multiindex\n",
    "\n",
    "    df_pivot.columns = df_pivot.columns.droplevel(0) #drop zeroth level\n",
    "    \n",
    "    # All remaining columns, not involved in the pivot operation. N1 and N2 are are duplicate for all remaaining columns (except 'PCRTargetRef', this doesnt go to REDCap)\n",
    "    # To remove duplicates for N1 and N2 for all rows, pivot is performed on all remaining columns, N2 column is droped, and N1 renamed to the original column name\n",
    "\n",
    "    ### Create Pivot table with remaining columns to match previous pivot operation\n",
    "    not_pivot_clms = df_lims.columns[~df_lims.columns.isin([\"SARSCoV2AvgConc\",\"SARSCoV2BelowLOD\"])]\n",
    "    df_not_pivot = df_lims.loc[:,not_pivot_clms].pivot(index = 'SubmitterSampleNumber', columns = 'PCRTarget').copy()\n",
    "\n",
    "    ### Drop all N2 columns\n",
    "    df_not_pivot.drop(\"N2\", axis = 1, level = 1, inplace = True)\n",
    "    df_not_pivot.columns = df_not_pivot.columns.droplevel(1)\n",
    "\n",
    "    # Merging the result of the two pivoted dataframes\n",
    "    df_final = pd.merge(df_pivot, df_not_pivot, left_index= True, right_index= True)\n",
    "    df_final.index.name = \"sample_id\"\n",
    "\n",
    "    df_lims = df_final.copy()\n",
    "\n",
    "    return df_lims"
   ]
  },
  {
   "cell_type": "code",
   "execution_count": 22,
   "id": "58bbc914-76c6-4971-ae1e-754ed93d63bb",
   "metadata": {},
   "outputs": [],
   "source": [
    "df_lims = df_lims.drop_duplicates(subset = [\"sample_id\", \"pcr_target\"], keep = \"last\") #drop duplicates if both the same PCR target was tested more than once per sample iD, keep last\n",
    "df_pivot = df_lims.pivot(index = \"sample_id\", columns = \"pcr_target\") #values = ['sars_cov2_below_lod', 'sars_cov2_avg_conc']\n",
    "\n",
    "#separate wide transformed dataframe intwo two parts - critical values that are dependant on PCR_target, and everything else\n",
    "df_pivot_critical = df_pivot[['sars_cov2_below_lod', 'sars_cov2_avg_conc']].copy()\n",
    "df_pivot_remaining = df_pivot[df_pivot.columns.get_level_values(0).difference(['sars_cov2_below_lod', 'sars_cov2_avg_conc'])].copy()\n",
    "\n",
    "#merge multi-index columns for critical fields\n",
    "new_cols = ['{1}_{0}'.format(*tup) for tup in df_pivot_critical.columns]\n",
    "df_pivot_critical.columns = [x.lower() for x in new_cols]\n",
    "\n"
   ]
  },
  {
   "cell_type": "code",
   "execution_count": 27,
   "id": "4158dd11-76fc-46bc-b324-18ea3fb73de4",
   "metadata": {},
   "outputs": [],
   "source": []
  },
  {
   "cell_type": "code",
   "execution_count": 31,
   "id": "23a2841e-f5a0-46a4-b525-b88cbe9a9887",
   "metadata": {},
   "outputs": [
    {
     "ename": "KeyError",
     "evalue": "'N1'",
     "output_type": "error",
     "traceback": [
      "\u001b[1;31m---------------------------------------------------------------------------\u001b[0m",
      "\u001b[1;31mKeyError\u001b[0m                                  Traceback (most recent call last)",
      "File \u001b[1;32m~\\Miniconda3\\envs\\transform22\\lib\\site-packages\\pandas\\core\\indexes\\base.py:3621\u001b[0m, in \u001b[0;36mIndex.get_loc\u001b[1;34m(self, key, method, tolerance)\u001b[0m\n\u001b[0;32m   3620\u001b[0m \u001b[38;5;28;01mtry\u001b[39;00m:\n\u001b[1;32m-> 3621\u001b[0m     \u001b[38;5;28;01mreturn\u001b[39;00m \u001b[38;5;28;43mself\u001b[39;49m\u001b[38;5;241;43m.\u001b[39;49m\u001b[43m_engine\u001b[49m\u001b[38;5;241;43m.\u001b[39;49m\u001b[43mget_loc\u001b[49m\u001b[43m(\u001b[49m\u001b[43mcasted_key\u001b[49m\u001b[43m)\u001b[49m\n\u001b[0;32m   3622\u001b[0m \u001b[38;5;28;01mexcept\u001b[39;00m \u001b[38;5;167;01mKeyError\u001b[39;00m \u001b[38;5;28;01mas\u001b[39;00m err:\n",
      "File \u001b[1;32m~\\Miniconda3\\envs\\transform22\\lib\\site-packages\\pandas\\_libs\\index.pyx:136\u001b[0m, in \u001b[0;36mpandas._libs.index.IndexEngine.get_loc\u001b[1;34m()\u001b[0m\n",
      "File \u001b[1;32m~\\Miniconda3\\envs\\transform22\\lib\\site-packages\\pandas\\_libs\\index.pyx:163\u001b[0m, in \u001b[0;36mpandas._libs.index.IndexEngine.get_loc\u001b[1;34m()\u001b[0m\n",
      "File \u001b[1;32mpandas\\_libs\\hashtable_class_helper.pxi:5198\u001b[0m, in \u001b[0;36mpandas._libs.hashtable.PyObjectHashTable.get_item\u001b[1;34m()\u001b[0m\n",
      "File \u001b[1;32mpandas\\_libs\\hashtable_class_helper.pxi:5206\u001b[0m, in \u001b[0;36mpandas._libs.hashtable.PyObjectHashTable.get_item\u001b[1;34m()\u001b[0m\n",
      "\u001b[1;31mKeyError\u001b[0m: 'N1'",
      "\nThe above exception was the direct cause of the following exception:\n",
      "\u001b[1;31mKeyError\u001b[0m                                  Traceback (most recent call last)",
      "Input \u001b[1;32mIn [31]\u001b[0m, in \u001b[0;36m<cell line: 1>\u001b[1;34m()\u001b[0m\n\u001b[1;32m----> 1\u001b[0m \u001b[43mdf_pivot_remaining\u001b[49m\u001b[38;5;241;43m.\u001b[39;49m\u001b[43mloc\u001b[49m\u001b[43m[\u001b[49m\u001b[43m:\u001b[49m\u001b[43m,\u001b[49m\u001b[43m \u001b[49m\u001b[43m(\u001b[49m\u001b[38;5;124;43m\"\u001b[39;49m\u001b[38;5;124;43mN1\u001b[39;49m\u001b[38;5;124;43m\"\u001b[39;49m\u001b[43m)\u001b[49m\u001b[43m]\u001b[49m\n",
      "File \u001b[1;32m~\\Miniconda3\\envs\\transform22\\lib\\site-packages\\pandas\\core\\indexing.py:961\u001b[0m, in \u001b[0;36m_LocationIndexer.__getitem__\u001b[1;34m(self, key)\u001b[0m\n\u001b[0;32m    959\u001b[0m     \u001b[38;5;28;01mif\u001b[39;00m \u001b[38;5;28mself\u001b[39m\u001b[38;5;241m.\u001b[39m_is_scalar_access(key):\n\u001b[0;32m    960\u001b[0m         \u001b[38;5;28;01mreturn\u001b[39;00m \u001b[38;5;28mself\u001b[39m\u001b[38;5;241m.\u001b[39mobj\u001b[38;5;241m.\u001b[39m_get_value(\u001b[38;5;241m*\u001b[39mkey, takeable\u001b[38;5;241m=\u001b[39m\u001b[38;5;28mself\u001b[39m\u001b[38;5;241m.\u001b[39m_takeable)\n\u001b[1;32m--> 961\u001b[0m     \u001b[38;5;28;01mreturn\u001b[39;00m \u001b[38;5;28;43mself\u001b[39;49m\u001b[38;5;241;43m.\u001b[39;49m\u001b[43m_getitem_tuple\u001b[49m\u001b[43m(\u001b[49m\u001b[43mkey\u001b[49m\u001b[43m)\u001b[49m\n\u001b[0;32m    962\u001b[0m \u001b[38;5;28;01melse\u001b[39;00m:\n\u001b[0;32m    963\u001b[0m     \u001b[38;5;66;03m# we by definition only have the 0th axis\u001b[39;00m\n\u001b[0;32m    964\u001b[0m     axis \u001b[38;5;241m=\u001b[39m \u001b[38;5;28mself\u001b[39m\u001b[38;5;241m.\u001b[39maxis \u001b[38;5;129;01mor\u001b[39;00m \u001b[38;5;241m0\u001b[39m\n",
      "File \u001b[1;32m~\\Miniconda3\\envs\\transform22\\lib\\site-packages\\pandas\\core\\indexing.py:1140\u001b[0m, in \u001b[0;36m_LocIndexer._getitem_tuple\u001b[1;34m(self, tup)\u001b[0m\n\u001b[0;32m   1138\u001b[0m \u001b[38;5;28;01mwith\u001b[39;00m suppress(IndexingError):\n\u001b[0;32m   1139\u001b[0m     tup \u001b[38;5;241m=\u001b[39m \u001b[38;5;28mself\u001b[39m\u001b[38;5;241m.\u001b[39m_expand_ellipsis(tup)\n\u001b[1;32m-> 1140\u001b[0m     \u001b[38;5;28;01mreturn\u001b[39;00m \u001b[38;5;28;43mself\u001b[39;49m\u001b[38;5;241;43m.\u001b[39;49m\u001b[43m_getitem_lowerdim\u001b[49m\u001b[43m(\u001b[49m\u001b[43mtup\u001b[49m\u001b[43m)\u001b[49m\n\u001b[0;32m   1142\u001b[0m \u001b[38;5;66;03m# no multi-index, so validate all of the indexers\u001b[39;00m\n\u001b[0;32m   1143\u001b[0m tup \u001b[38;5;241m=\u001b[39m \u001b[38;5;28mself\u001b[39m\u001b[38;5;241m.\u001b[39m_validate_tuple_indexer(tup)\n",
      "File \u001b[1;32m~\\Miniconda3\\envs\\transform22\\lib\\site-packages\\pandas\\core\\indexing.py:843\u001b[0m, in \u001b[0;36m_LocationIndexer._getitem_lowerdim\u001b[1;34m(self, tup)\u001b[0m\n\u001b[0;32m    841\u001b[0m \u001b[38;5;66;03m# we may have a nested tuples indexer here\u001b[39;00m\n\u001b[0;32m    842\u001b[0m \u001b[38;5;28;01mif\u001b[39;00m \u001b[38;5;28mself\u001b[39m\u001b[38;5;241m.\u001b[39m_is_nested_tuple_indexer(tup):\n\u001b[1;32m--> 843\u001b[0m     \u001b[38;5;28;01mreturn\u001b[39;00m \u001b[38;5;28;43mself\u001b[39;49m\u001b[38;5;241;43m.\u001b[39;49m\u001b[43m_getitem_nested_tuple\u001b[49m\u001b[43m(\u001b[49m\u001b[43mtup\u001b[49m\u001b[43m)\u001b[49m\n\u001b[0;32m    845\u001b[0m \u001b[38;5;66;03m# we maybe be using a tuple to represent multiple dimensions here\u001b[39;00m\n\u001b[0;32m    846\u001b[0m ax0 \u001b[38;5;241m=\u001b[39m \u001b[38;5;28mself\u001b[39m\u001b[38;5;241m.\u001b[39mobj\u001b[38;5;241m.\u001b[39m_get_axis(\u001b[38;5;241m0\u001b[39m)\n",
      "File \u001b[1;32m~\\Miniconda3\\envs\\transform22\\lib\\site-packages\\pandas\\core\\indexing.py:942\u001b[0m, in \u001b[0;36m_LocationIndexer._getitem_nested_tuple\u001b[1;34m(self, tup)\u001b[0m\n\u001b[0;32m    939\u001b[0m     axis \u001b[38;5;241m-\u001b[39m\u001b[38;5;241m=\u001b[39m \u001b[38;5;241m1\u001b[39m\n\u001b[0;32m    940\u001b[0m     \u001b[38;5;28;01mcontinue\u001b[39;00m\n\u001b[1;32m--> 942\u001b[0m obj \u001b[38;5;241m=\u001b[39m \u001b[38;5;28;43mgetattr\u001b[39;49m\u001b[43m(\u001b[49m\u001b[43mobj\u001b[49m\u001b[43m,\u001b[49m\u001b[43m \u001b[49m\u001b[38;5;28;43mself\u001b[39;49m\u001b[38;5;241;43m.\u001b[39;49m\u001b[43mname\u001b[49m\u001b[43m)\u001b[49m\u001b[38;5;241;43m.\u001b[39;49m\u001b[43m_getitem_axis\u001b[49m\u001b[43m(\u001b[49m\u001b[43mkey\u001b[49m\u001b[43m,\u001b[49m\u001b[43m \u001b[49m\u001b[43maxis\u001b[49m\u001b[38;5;241;43m=\u001b[39;49m\u001b[43maxis\u001b[49m\u001b[43m)\u001b[49m\n\u001b[0;32m    943\u001b[0m axis \u001b[38;5;241m-\u001b[39m\u001b[38;5;241m=\u001b[39m \u001b[38;5;241m1\u001b[39m\n\u001b[0;32m    945\u001b[0m \u001b[38;5;66;03m# if we have a scalar, we are done\u001b[39;00m\n",
      "File \u001b[1;32m~\\Miniconda3\\envs\\transform22\\lib\\site-packages\\pandas\\core\\indexing.py:1202\u001b[0m, in \u001b[0;36m_LocIndexer._getitem_axis\u001b[1;34m(self, key, axis)\u001b[0m\n\u001b[0;32m   1200\u001b[0m \u001b[38;5;66;03m# fall thru to straight lookup\u001b[39;00m\n\u001b[0;32m   1201\u001b[0m \u001b[38;5;28mself\u001b[39m\u001b[38;5;241m.\u001b[39m_validate_key(key, axis)\n\u001b[1;32m-> 1202\u001b[0m \u001b[38;5;28;01mreturn\u001b[39;00m \u001b[38;5;28;43mself\u001b[39;49m\u001b[38;5;241;43m.\u001b[39;49m\u001b[43m_get_label\u001b[49m\u001b[43m(\u001b[49m\u001b[43mkey\u001b[49m\u001b[43m,\u001b[49m\u001b[43m \u001b[49m\u001b[43maxis\u001b[49m\u001b[38;5;241;43m=\u001b[39;49m\u001b[43maxis\u001b[49m\u001b[43m)\u001b[49m\n",
      "File \u001b[1;32m~\\Miniconda3\\envs\\transform22\\lib\\site-packages\\pandas\\core\\indexing.py:1153\u001b[0m, in \u001b[0;36m_LocIndexer._get_label\u001b[1;34m(self, label, axis)\u001b[0m\n\u001b[0;32m   1151\u001b[0m \u001b[38;5;28;01mdef\u001b[39;00m \u001b[38;5;21m_get_label\u001b[39m(\u001b[38;5;28mself\u001b[39m, label, axis: \u001b[38;5;28mint\u001b[39m):\n\u001b[0;32m   1152\u001b[0m     \u001b[38;5;66;03m# GH#5667 this will fail if the label is not present in the axis.\u001b[39;00m\n\u001b[1;32m-> 1153\u001b[0m     \u001b[38;5;28;01mreturn\u001b[39;00m \u001b[38;5;28;43mself\u001b[39;49m\u001b[38;5;241;43m.\u001b[39;49m\u001b[43mobj\u001b[49m\u001b[38;5;241;43m.\u001b[39;49m\u001b[43mxs\u001b[49m\u001b[43m(\u001b[49m\u001b[43mlabel\u001b[49m\u001b[43m,\u001b[49m\u001b[43m \u001b[49m\u001b[43maxis\u001b[49m\u001b[38;5;241;43m=\u001b[39;49m\u001b[43maxis\u001b[49m\u001b[43m)\u001b[49m\n",
      "File \u001b[1;32m~\\Miniconda3\\envs\\transform22\\lib\\site-packages\\pandas\\core\\generic.py:3849\u001b[0m, in \u001b[0;36mNDFrame.xs\u001b[1;34m(self, key, axis, level, drop_level)\u001b[0m\n\u001b[0;32m   3847\u001b[0m \u001b[38;5;28;01mif\u001b[39;00m axis \u001b[38;5;241m==\u001b[39m \u001b[38;5;241m1\u001b[39m:\n\u001b[0;32m   3848\u001b[0m     \u001b[38;5;28;01mif\u001b[39;00m drop_level:\n\u001b[1;32m-> 3849\u001b[0m         \u001b[38;5;28;01mreturn\u001b[39;00m \u001b[38;5;28;43mself\u001b[39;49m\u001b[43m[\u001b[49m\u001b[43mkey\u001b[49m\u001b[43m]\u001b[49m\n\u001b[0;32m   3850\u001b[0m     index \u001b[38;5;241m=\u001b[39m \u001b[38;5;28mself\u001b[39m\u001b[38;5;241m.\u001b[39mcolumns\n\u001b[0;32m   3851\u001b[0m \u001b[38;5;28;01melse\u001b[39;00m:\n",
      "File \u001b[1;32m~\\Miniconda3\\envs\\transform22\\lib\\site-packages\\pandas\\core\\frame.py:3504\u001b[0m, in \u001b[0;36mDataFrame.__getitem__\u001b[1;34m(self, key)\u001b[0m\n\u001b[0;32m   3502\u001b[0m \u001b[38;5;28;01mif\u001b[39;00m is_single_key:\n\u001b[0;32m   3503\u001b[0m     \u001b[38;5;28;01mif\u001b[39;00m \u001b[38;5;28mself\u001b[39m\u001b[38;5;241m.\u001b[39mcolumns\u001b[38;5;241m.\u001b[39mnlevels \u001b[38;5;241m>\u001b[39m \u001b[38;5;241m1\u001b[39m:\n\u001b[1;32m-> 3504\u001b[0m         \u001b[38;5;28;01mreturn\u001b[39;00m \u001b[38;5;28;43mself\u001b[39;49m\u001b[38;5;241;43m.\u001b[39;49m\u001b[43m_getitem_multilevel\u001b[49m\u001b[43m(\u001b[49m\u001b[43mkey\u001b[49m\u001b[43m)\u001b[49m\n\u001b[0;32m   3505\u001b[0m     indexer \u001b[38;5;241m=\u001b[39m \u001b[38;5;28mself\u001b[39m\u001b[38;5;241m.\u001b[39mcolumns\u001b[38;5;241m.\u001b[39mget_loc(key)\n\u001b[0;32m   3506\u001b[0m     \u001b[38;5;28;01mif\u001b[39;00m is_integer(indexer):\n",
      "File \u001b[1;32m~\\Miniconda3\\envs\\transform22\\lib\\site-packages\\pandas\\core\\frame.py:3555\u001b[0m, in \u001b[0;36mDataFrame._getitem_multilevel\u001b[1;34m(self, key)\u001b[0m\n\u001b[0;32m   3553\u001b[0m \u001b[38;5;28;01mdef\u001b[39;00m \u001b[38;5;21m_getitem_multilevel\u001b[39m(\u001b[38;5;28mself\u001b[39m, key):\n\u001b[0;32m   3554\u001b[0m     \u001b[38;5;66;03m# self.columns is a MultiIndex\u001b[39;00m\n\u001b[1;32m-> 3555\u001b[0m     loc \u001b[38;5;241m=\u001b[39m \u001b[38;5;28;43mself\u001b[39;49m\u001b[38;5;241;43m.\u001b[39;49m\u001b[43mcolumns\u001b[49m\u001b[38;5;241;43m.\u001b[39;49m\u001b[43mget_loc\u001b[49m\u001b[43m(\u001b[49m\u001b[43mkey\u001b[49m\u001b[43m)\u001b[49m\n\u001b[0;32m   3556\u001b[0m     \u001b[38;5;28;01mif\u001b[39;00m \u001b[38;5;28misinstance\u001b[39m(loc, (\u001b[38;5;28mslice\u001b[39m, np\u001b[38;5;241m.\u001b[39mndarray)):\n\u001b[0;32m   3557\u001b[0m         new_columns \u001b[38;5;241m=\u001b[39m \u001b[38;5;28mself\u001b[39m\u001b[38;5;241m.\u001b[39mcolumns[loc]\n",
      "File \u001b[1;32m~\\Miniconda3\\envs\\transform22\\lib\\site-packages\\pandas\\core\\indexes\\multi.py:2869\u001b[0m, in \u001b[0;36mMultiIndex.get_loc\u001b[1;34m(self, key, method)\u001b[0m\n\u001b[0;32m   2866\u001b[0m     \u001b[38;5;28;01mreturn\u001b[39;00m mask\n\u001b[0;32m   2868\u001b[0m \u001b[38;5;28;01mif\u001b[39;00m \u001b[38;5;129;01mnot\u001b[39;00m \u001b[38;5;28misinstance\u001b[39m(key, \u001b[38;5;28mtuple\u001b[39m):\n\u001b[1;32m-> 2869\u001b[0m     loc \u001b[38;5;241m=\u001b[39m \u001b[38;5;28;43mself\u001b[39;49m\u001b[38;5;241;43m.\u001b[39;49m\u001b[43m_get_level_indexer\u001b[49m\u001b[43m(\u001b[49m\u001b[43mkey\u001b[49m\u001b[43m,\u001b[49m\u001b[43m \u001b[49m\u001b[43mlevel\u001b[49m\u001b[38;5;241;43m=\u001b[39;49m\u001b[38;5;241;43m0\u001b[39;49m\u001b[43m)\u001b[49m\n\u001b[0;32m   2870\u001b[0m     \u001b[38;5;28;01mreturn\u001b[39;00m _maybe_to_slice(loc)\n\u001b[0;32m   2872\u001b[0m keylen \u001b[38;5;241m=\u001b[39m \u001b[38;5;28mlen\u001b[39m(key)\n",
      "File \u001b[1;32m~\\Miniconda3\\envs\\transform22\\lib\\site-packages\\pandas\\core\\indexes\\multi.py:3222\u001b[0m, in \u001b[0;36mMultiIndex._get_level_indexer\u001b[1;34m(self, key, level, indexer)\u001b[0m\n\u001b[0;32m   3218\u001b[0m         \u001b[38;5;28;01mreturn\u001b[39;00m \u001b[38;5;28mslice\u001b[39m(i, j, step)\n\u001b[0;32m   3220\u001b[0m \u001b[38;5;28;01melse\u001b[39;00m:\n\u001b[1;32m-> 3222\u001b[0m     idx \u001b[38;5;241m=\u001b[39m \u001b[38;5;28;43mself\u001b[39;49m\u001b[38;5;241;43m.\u001b[39;49m\u001b[43m_get_loc_single_level_index\u001b[49m\u001b[43m(\u001b[49m\u001b[43mlevel_index\u001b[49m\u001b[43m,\u001b[49m\u001b[43m \u001b[49m\u001b[43mkey\u001b[49m\u001b[43m)\u001b[49m\n\u001b[0;32m   3224\u001b[0m     \u001b[38;5;28;01mif\u001b[39;00m level \u001b[38;5;241m>\u001b[39m \u001b[38;5;241m0\u001b[39m \u001b[38;5;129;01mor\u001b[39;00m \u001b[38;5;28mself\u001b[39m\u001b[38;5;241m.\u001b[39m_lexsort_depth \u001b[38;5;241m==\u001b[39m \u001b[38;5;241m0\u001b[39m:\n\u001b[0;32m   3225\u001b[0m         \u001b[38;5;66;03m# Desired level is not sorted\u001b[39;00m\n\u001b[0;32m   3226\u001b[0m         \u001b[38;5;28;01mif\u001b[39;00m \u001b[38;5;28misinstance\u001b[39m(idx, \u001b[38;5;28mslice\u001b[39m):\n\u001b[0;32m   3227\u001b[0m             \u001b[38;5;66;03m# test_get_loc_partial_timestamp_multiindex\u001b[39;00m\n",
      "File \u001b[1;32m~\\Miniconda3\\envs\\transform22\\lib\\site-packages\\pandas\\core\\indexes\\multi.py:2802\u001b[0m, in \u001b[0;36mMultiIndex._get_loc_single_level_index\u001b[1;34m(self, level_index, key)\u001b[0m\n\u001b[0;32m   2800\u001b[0m     \u001b[38;5;28;01mreturn\u001b[39;00m \u001b[38;5;241m-\u001b[39m\u001b[38;5;241m1\u001b[39m\n\u001b[0;32m   2801\u001b[0m \u001b[38;5;28;01melse\u001b[39;00m:\n\u001b[1;32m-> 2802\u001b[0m     \u001b[38;5;28;01mreturn\u001b[39;00m \u001b[43mlevel_index\u001b[49m\u001b[38;5;241;43m.\u001b[39;49m\u001b[43mget_loc\u001b[49m\u001b[43m(\u001b[49m\u001b[43mkey\u001b[49m\u001b[43m)\u001b[49m\n",
      "File \u001b[1;32m~\\Miniconda3\\envs\\transform22\\lib\\site-packages\\pandas\\core\\indexes\\base.py:3623\u001b[0m, in \u001b[0;36mIndex.get_loc\u001b[1;34m(self, key, method, tolerance)\u001b[0m\n\u001b[0;32m   3621\u001b[0m     \u001b[38;5;28;01mreturn\u001b[39;00m \u001b[38;5;28mself\u001b[39m\u001b[38;5;241m.\u001b[39m_engine\u001b[38;5;241m.\u001b[39mget_loc(casted_key)\n\u001b[0;32m   3622\u001b[0m \u001b[38;5;28;01mexcept\u001b[39;00m \u001b[38;5;167;01mKeyError\u001b[39;00m \u001b[38;5;28;01mas\u001b[39;00m err:\n\u001b[1;32m-> 3623\u001b[0m     \u001b[38;5;28;01mraise\u001b[39;00m \u001b[38;5;167;01mKeyError\u001b[39;00m(key) \u001b[38;5;28;01mfrom\u001b[39;00m \u001b[38;5;21;01merr\u001b[39;00m\n\u001b[0;32m   3624\u001b[0m \u001b[38;5;28;01mexcept\u001b[39;00m \u001b[38;5;167;01mTypeError\u001b[39;00m:\n\u001b[0;32m   3625\u001b[0m     \u001b[38;5;66;03m# If we have a listlike key, _check_indexing_error will raise\u001b[39;00m\n\u001b[0;32m   3626\u001b[0m     \u001b[38;5;66;03m#  InvalidIndexError. Otherwise we fall through and re-raise\u001b[39;00m\n\u001b[0;32m   3627\u001b[0m     \u001b[38;5;66;03m#  the TypeError.\u001b[39;00m\n\u001b[0;32m   3628\u001b[0m     \u001b[38;5;28mself\u001b[39m\u001b[38;5;241m.\u001b[39m_check_indexing_error(key)\n",
      "\u001b[1;31mKeyError\u001b[0m: 'N1'"
     ]
    }
   ],
   "source": []
  },
  {
   "cell_type": "code",
   "execution_count": null,
   "id": "279161ed-b78d-4611-b8e3-05caa0f2412f",
   "metadata": {},
   "outputs": [],
   "source": []
  },
  {
   "cell_type": "code",
   "execution_count": null,
   "id": "615755d5-75fb-4d50-b494-1578ad7c6507",
   "metadata": {},
   "outputs": [],
   "source": []
  },
  {
   "cell_type": "code",
   "execution_count": null,
   "id": "b325ac62-18ed-41c6-bc9a-93d9f4701222",
   "metadata": {},
   "outputs": [],
   "source": []
  },
  {
   "cell_type": "code",
   "execution_count": null,
   "id": "a582aa90-ba6e-423a-b3ce-6dd157638db5",
   "metadata": {},
   "outputs": [],
   "source": []
  },
  {
   "cell_type": "code",
   "execution_count": null,
   "id": "8ff68e23-9487-41f3-90cc-dd024e92406c",
   "metadata": {},
   "outputs": [],
   "source": []
  },
  {
   "cell_type": "markdown",
   "id": "cfe16978-0994-46da-b7fa-339219e8d96d",
   "metadata": {},
   "source": [
    "# Scratch Sheet"
   ]
  },
  {
   "cell_type": "code",
   "execution_count": null,
   "id": "cf6b7fa0-fd22-4b24-970c-827a067ae203",
   "metadata": {},
   "outputs": [],
   "source": [
    "import redcap\n",
    "#credentials for PID171\n",
    "token = \"AB21CE90EF475E08AC11F92105A39690\"\n",
    "url = 'https://redcap.doh.wa.gov/api/'\n",
    "\n",
    "#Create Project objects\n",
    "project = redcap.Project(url,token)\n"
   ]
  },
  {
   "cell_type": "code",
   "execution_count": null,
   "id": "e0bf5123-7c88-4de7-a1d6-a4a3681f3852",
   "metadata": {},
   "outputs": [],
   "source": [
    "def describe_fields(project):\n",
    "    \"\"\"\n",
    "    create a summary dataframe to describe every standard field from default API export\n",
    "    \n",
    "    args:\n",
    "        pycap Project object\n",
    "    return:\n",
    "        Dataframe\n",
    "        \n",
    "    \"\"\"  \n",
    "    df_fields = project.export_field_names(format_type = \"df\")\n",
    "    df_meta = project.export_metadata(format_type = \"df\")\n",
    "    \n",
    "    #set aside choice fields Series\n",
    "    choice_fields = df_meta[df_meta[\"field_type\"].isin(['dropdown', 'radio', 'checkbox'])][\"select_choices_or_calculations\"].copy()#select field type \"dropdown\",\"radio\", \"checkbox\"\n",
    "    choice_fields = choice_fields[choice_fields.notnull()] #remove possibility of NA fields\n",
    "\n",
    "    #drop the first row, it is the index of dataframe export (unique identified: record_id, sample_id)\n",
    "    df_meta = df_meta.drop(df_meta.index[0])\n",
    "    df_fields = df_fields.drop(df_fields.index[0])\n",
    "\n",
    "    #only need 2 fields from metadata export\n",
    "    df_meta = df_meta[[\"form_name\", \"field_type\"]].copy()\n",
    "\n",
    "    #combine fields from metadata and from export_field_names \n",
    "    df_fields_2 = df_fields.join(df_meta)\n",
    "    \n",
    "    #add field names that have type \"file\" (from metadata)\n",
    "    files_df = df_meta[df_meta[\"field_type\"] == \"file\"].copy()\n",
    "    files_df['export_field_name'] = files_df.index\n",
    "    df_fields_3 = pd.concat([df_fields_2, files_df])\n",
    "    \n",
    "    #set index to export_field_name\n",
    "    df_fields_3 = df_fields_3.set_index(\"export_field_name\")\n",
    "    \n",
    "    ##### add a new columns: str(dict) of possible choices for multiple choice fields####\n",
    "    fields_dict = {}\n",
    "    for i in choice_fields.iteritems():\n",
    "\n",
    "        string_to_process = i[1] #the value element of the series (as opposed to index element)\n",
    "        list_of_strings = string_to_process.split(\"|\") # split the string \n",
    "        keys_values_list = [i.split(\", \", 1) for i in list_of_strings]# split each list once for list of lists [key, values]\n",
    "        values_dict = {t[0]:t[1] for t in keys_values_list} #dictionary of key value pairs\n",
    "        fields_dict[i[0]] =  str(values_dict)\n",
    "\n",
    "    choice_fields_series = pd.Series(fields_dict)\n",
    "\n",
    "    complete = pd.concat([df_fields_3 ,choice_fields_series.to_frame(\"Choice Values\")], axis = 1)\n",
    "    \n",
    "    ## add special case for multiple choice fields - \"yesno\" field type \n",
    "    yesno_dict = {\"1\":\"Yes\", \"0\":\"No\"}\n",
    "    yesno_index = df_meta[df_meta[\"field_type\"] == \"yesno\"].index\n",
    "    yesno_series = pd.Series(str(yesno_dict), yesno_index) #create series, yes/values and index for all yesno field type\n",
    "    yesno_frame = yesno_series.to_frame(\"Choice Values\")\n",
    "    \n",
    "    df_joined = complete.join(yesno_frame, lsuffix='_l', rsuffix='_r')\n",
    "    \n",
    "    complete[\"Choice Values\"] = df_joined[\"Choice Values_l\"].fillna(df_joined[\"Choice Values_r\"])\n",
    "    \n",
    "    return complete\n"
   ]
  },
  {
   "cell_type": "code",
   "execution_count": null,
   "id": "491234c0-c28a-4e34-ad46-b88bb6524c92",
   "metadata": {},
   "outputs": [],
   "source": [
    "df = describe_fields(project)"
   ]
  },
  {
   "cell_type": "code",
   "execution_count": null,
   "id": "b35f6b3f-b7a5-49d9-9ca8-f1b61142edbf",
   "metadata": {},
   "outputs": [],
   "source": [
    "yes_no_clms = [\n",
    "                 'quality_flag',\n",
    "                 'inhibition_adjust',\n",
    "                 'ntc_amplify',\n",
    "                 'pretreatment',\n",
    "                 'inhibition_detect',\n",
    "                 'sars_cov2_below_lod',\n",
    "                 'n1_sars_cov2_below_lod',\n",
    "                 'n2_sars_cov2_below_lod',\n",
    "               ]\n"
   ]
  },
  {
   "cell_type": "code",
   "execution_count": null,
   "id": "bacc4bd4-2895-4678-a028-8726ac6d1c4e",
   "metadata": {},
   "outputs": [],
   "source": [
    "df[df.index.isin(yes_no_clms)]"
   ]
  },
  {
   "cell_type": "code",
   "execution_count": null,
   "id": "1a3d9839-994e-49d6-8e64-87e688a80bed",
   "metadata": {},
   "outputs": [],
   "source": [
    "df[df[\"field_type\"] == \"dropdown\"]"
   ]
  },
  {
   "cell_type": "code",
   "execution_count": null,
   "id": "4541c33c-1c7c-4045-a689-2226e3aa0840",
   "metadata": {},
   "outputs": [],
   "source": [
    "\n",
    "redcap_dropdown = ['sars_cov2_units', 'n1_sars_cov2_below_lod', 'n2_sars_cov2_below_lod',\n",
    "                   'ntc_amplify', 'inhibition_detect', 'inhibition_adjust',\n",
    "                   'concentration_method', 'extraction_method', 'hum_frac_mic_unit',\n",
    "                   'other_norm_unit', 'quality_flag']"
   ]
  },
  {
   "cell_type": "code",
   "execution_count": null,
   "id": "0e858811-43ee-469c-af74-da8130112128",
   "metadata": {},
   "outputs": [],
   "source": [
    "for i in redcap_dropdown:\n",
    "    print(i)"
   ]
  },
  {
   "cell_type": "code",
   "execution_count": null,
   "id": "d21f7d1c-f061-4f1b-bb42-1b5985915a12",
   "metadata": {},
   "outputs": [],
   "source": [
    "set(redcap_dropdown) - set(yes_no_clms)"
   ]
  },
  {
   "cell_type": "code",
   "execution_count": null,
   "id": "05c1cd94-2f65-445c-884f-fda59cb51599",
   "metadata": {},
   "outputs": [],
   "source": []
  }
 ],
 "metadata": {
  "kernelspec": {
   "display_name": "Python [conda env:transform22] *",
   "language": "python",
   "name": "conda-env-transform22-py"
  },
  "language_info": {
   "codemirror_mode": {
    "name": "ipython",
    "version": 3
   },
   "file_extension": ".py",
   "mimetype": "text/x-python",
   "name": "python",
   "nbconvert_exporter": "python",
   "pygments_lexer": "ipython3",
   "version": "3.9.12"
  }
 },
 "nbformat": 4,
 "nbformat_minor": 5
}

{
 "cells": [
  {
   "cell_type": "code",
   "execution_count": 1,
   "id": "012297dc-f1f7-425e-bc5f-667bf98db271",
   "metadata": {},
   "outputs": [],
   "source": [
    "# Import raw LIMS dataset\n",
    "%run -i \"lims_export_v2.py\""
   ]
  },
  {
   "cell_type": "code",
   "execution_count": 2,
   "id": "e57389c8-19c5-4965-b1dd-3ae218c65e08",
   "metadata": {},
   "outputs": [
    {
     "name": "stderr",
     "output_type": "stream",
     "text": [
      "C:\\Users\\AXG5303\\Miniconda3\\envs\\transform22\\lib\\site-packages\\pandas\\io\\sql.py:761: UserWarning: pandas only support SQLAlchemy connectable(engine/connection) ordatabase string URI or sqlite3 DBAPI2 connectionother DBAPI2 objects are not tested, please consider using SQLAlchemy\n",
      "  warnings.warn(\n"
     ]
    }
   ],
   "source": [
    "#order dependant: 1) export raw lims\n",
    "df_lims = export_df_from_LIMS()"
   ]
  },
  {
   "cell_type": "code",
   "execution_count": 3,
   "id": "43d4d229-2f3e-4e49-8fbc-cde02ac48163",
   "metadata": {},
   "outputs": [],
   "source": [
    "#order dependant: 2) filter only relavent fields\n",
    "df_lims = isolate_relavent_data(df_lims)"
   ]
  },
  {
   "cell_type": "markdown",
   "id": "4df97cfc-e96b-4c6b-b8d2-5f0098632c69",
   "metadata": {},
   "source": [
    "#### Order independant transformations"
   ]
  },
  {
   "cell_type": "code",
   "execution_count": 4,
   "id": "31a26a78-9c77-4431-a722-b267abebffd7",
   "metadata": {},
   "outputs": [],
   "source": [
    "##### Order independant operations #####\n",
    "df_lims = convert_numeric(df_lims)\n",
    "df_lims = freetext_transform(df_lims)\n",
    "df_lims = convert_choice_fields(df_lims)"
   ]
  },
  {
   "cell_type": "code",
   "execution_count": null,
   "id": "71adb64f-cd86-4983-8f56-811ec50f67a2",
   "metadata": {},
   "outputs": [],
   "source": []
  },
  {
   "cell_type": "code",
   "execution_count": null,
   "id": "ad89c4ad-107b-4e21-949d-e50e440e1480",
   "metadata": {},
   "outputs": [],
   "source": []
  },
  {
   "cell_type": "code",
   "execution_count": null,
   "id": "ca4a3dc0-1243-489e-a0a1-36f36a098f95",
   "metadata": {},
   "outputs": [],
   "source": [
    "### Final Transformation ####\n",
    "#last, force some column values, and set columns dtypes\n",
    "df_lims = force_values(df_lims)\n",
    "df_lims = set_dtypes(df_lims)"
   ]
  },
  {
   "cell_type": "markdown",
   "id": "a07f0c88-03be-4c6a-8b2a-905497832765",
   "metadata": {},
   "source": [
    "#### pipeline update progress"
   ]
  },
  {
   "cell_type": "code",
   "execution_count": null,
   "id": "d4f2e05b-217e-4cb6-a392-96cbff3dc6f0",
   "metadata": {},
   "outputs": [],
   "source": [
    "### Critical convert long to wide ####\n",
    "df_lims = (\n",
    "    drop_null_sample_ID(df_lims ####COMPLETE######\n",
    "    .pipe(drop_all_but_N1_N2)#Remove full rows where PCR Target is enything except N1 or N2\n",
    "    .pipe(below_lod_to_yes_no)\n",
    "    .pipe(long_to_wide) #meat and potatos! everything not under PCRTarget N1 or N2 will not be imported\n",
    "    )\n",
    "\n",
    "####Transform lims dataframe#### \n",
    "df_lims = (\n",
    "    rename_lims_columns(df_lims) ######COMPLETE######\n",
    "    .pipe(convert_numeric) ######COMPLETE######\n",
    "    .pipe(freetext_transform) ######COMPLETE######\n",
    "    .pipe(validate_yes_no_clms) ##### COMPLETE#####\n",
    "    .pipe(validate_choice_fields))#### COMPLETE ####"
   ]
  },
  {
   "cell_type": "markdown",
   "id": "fb7bf0fd-a95a-4bff-85b3-53eb3f07f7be",
   "metadata": {},
   "source": [
    "# Development Cell"
   ]
  },
  {
   "cell_type": "code",
   "execution_count": null,
   "id": "b6780d54-708a-4cec-865d-01bf918636ae",
   "metadata": {},
   "outputs": [],
   "source": []
  },
  {
   "cell_type": "code",
   "execution_count": null,
   "id": "b9829532-29fe-4c4c-9998-3fb27d04a57b",
   "metadata": {},
   "outputs": [],
   "source": []
  },
  {
   "cell_type": "markdown",
   "id": "cfe16978-0994-46da-b7fa-339219e8d96d",
   "metadata": {},
   "source": [
    "# Scratch Sheet"
   ]
  },
  {
   "cell_type": "code",
   "execution_count": null,
   "id": "cf6b7fa0-fd22-4b24-970c-827a067ae203",
   "metadata": {},
   "outputs": [],
   "source": [
    "import redcap\n",
    "#credentials for PID171\n",
    "token = \"AB21CE90EF475E08AC11F92105A39690\"\n",
    "url = 'https://redcap.doh.wa.gov/api/'\n",
    "\n",
    "#Create Project objects\n",
    "project = redcap.Project(url,token)\n"
   ]
  },
  {
   "cell_type": "code",
   "execution_count": null,
   "id": "e0bf5123-7c88-4de7-a1d6-a4a3681f3852",
   "metadata": {},
   "outputs": [],
   "source": [
    "def describe_fields(project):\n",
    "    \"\"\"\n",
    "    create a summary dataframe to describe every standard field from default API export\n",
    "    \n",
    "    args:\n",
    "        pycap Project object\n",
    "    return:\n",
    "        Dataframe\n",
    "        \n",
    "    \"\"\"  \n",
    "    df_fields = project.export_field_names(format_type = \"df\")\n",
    "    df_meta = project.export_metadata(format_type = \"df\")\n",
    "    \n",
    "    #set aside choice fields Series\n",
    "    choice_fields = df_meta[df_meta[\"field_type\"].isin(['dropdown', 'radio', 'checkbox'])][\"select_choices_or_calculations\"].copy()#select field type \"dropdown\",\"radio\", \"checkbox\"\n",
    "    choice_fields = choice_fields[choice_fields.notnull()] #remove possibility of NA fields\n",
    "\n",
    "    #drop the first row, it is the index of dataframe export (unique identified: record_id, sample_id)\n",
    "    df_meta = df_meta.drop(df_meta.index[0])\n",
    "    df_fields = df_fields.drop(df_fields.index[0])\n",
    "\n",
    "    #only need 2 fields from metadata export\n",
    "    df_meta = df_meta[[\"form_name\", \"field_type\"]].copy()\n",
    "\n",
    "    #combine fields from metadata and from export_field_names \n",
    "    df_fields_2 = df_fields.join(df_meta)\n",
    "    \n",
    "    #add field names that have type \"file\" (from metadata)\n",
    "    files_df = df_meta[df_meta[\"field_type\"] == \"file\"].copy()\n",
    "    files_df['export_field_name'] = files_df.index\n",
    "    df_fields_3 = pd.concat([df_fields_2, files_df])\n",
    "    \n",
    "    #set index to export_field_name\n",
    "    df_fields_3 = df_fields_3.set_index(\"export_field_name\")\n",
    "    \n",
    "    ##### add a new columns: str(dict) of possible choices for multiple choice fields####\n",
    "    fields_dict = {}\n",
    "    for i in choice_fields.iteritems():\n",
    "\n",
    "        string_to_process = i[1] #the value element of the series (as opposed to index element)\n",
    "        list_of_strings = string_to_process.split(\"|\") # split the string \n",
    "        keys_values_list = [i.split(\", \", 1) for i in list_of_strings]# split each list once for list of lists [key, values]\n",
    "        values_dict = {t[0]:t[1] for t in keys_values_list} #dictionary of key value pairs\n",
    "        fields_dict[i[0]] =  str(values_dict)\n",
    "\n",
    "    choice_fields_series = pd.Series(fields_dict)\n",
    "\n",
    "    complete = pd.concat([df_fields_3 ,choice_fields_series.to_frame(\"Choice Values\")], axis = 1)\n",
    "    \n",
    "    ## add special case for multiple choice fields - \"yesno\" field type \n",
    "    yesno_dict = {\"1\":\"Yes\", \"0\":\"No\"}\n",
    "    yesno_index = df_meta[df_meta[\"field_type\"] == \"yesno\"].index\n",
    "    yesno_series = pd.Series(str(yesno_dict), yesno_index) #create series, yes/values and index for all yesno field type\n",
    "    yesno_frame = yesno_series.to_frame(\"Choice Values\")\n",
    "    \n",
    "    df_joined = complete.join(yesno_frame, lsuffix='_l', rsuffix='_r')\n",
    "    \n",
    "    complete[\"Choice Values\"] = df_joined[\"Choice Values_l\"].fillna(df_joined[\"Choice Values_r\"])\n",
    "    \n",
    "    return complete\n"
   ]
  },
  {
   "cell_type": "code",
   "execution_count": null,
   "id": "491234c0-c28a-4e34-ad46-b88bb6524c92",
   "metadata": {},
   "outputs": [],
   "source": [
    "df = describe_fields(project)"
   ]
  },
  {
   "cell_type": "code",
   "execution_count": null,
   "id": "b35f6b3f-b7a5-49d9-9ca8-f1b61142edbf",
   "metadata": {},
   "outputs": [],
   "source": [
    "yes_no_clms = [\n",
    "                 'quality_flag',\n",
    "                 'inhibition_adjust',\n",
    "                 'ntc_amplify',\n",
    "                 'pretreatment',\n",
    "                 'inhibition_detect',\n",
    "                 'sars_cov2_below_lod',\n",
    "                 'n1_sars_cov2_below_lod',\n",
    "                 'n2_sars_cov2_below_lod',\n",
    "               ]\n"
   ]
  },
  {
   "cell_type": "code",
   "execution_count": null,
   "id": "bacc4bd4-2895-4678-a028-8726ac6d1c4e",
   "metadata": {},
   "outputs": [],
   "source": [
    "df[df.index.isin(yes_no_clms)]"
   ]
  },
  {
   "cell_type": "code",
   "execution_count": null,
   "id": "1a3d9839-994e-49d6-8e64-87e688a80bed",
   "metadata": {},
   "outputs": [],
   "source": [
    "df[df[\"field_type\"] == \"dropdown\"]"
   ]
  },
  {
   "cell_type": "code",
   "execution_count": null,
   "id": "4541c33c-1c7c-4045-a689-2226e3aa0840",
   "metadata": {},
   "outputs": [],
   "source": [
    "\n",
    "redcap_dropdown = ['sars_cov2_units', 'n1_sars_cov2_below_lod', 'n2_sars_cov2_below_lod',\n",
    "                   'ntc_amplify', 'inhibition_detect', 'inhibition_adjust',\n",
    "                   'concentration_method', 'extraction_method', 'hum_frac_mic_unit',\n",
    "                   'other_norm_unit', 'quality_flag']"
   ]
  },
  {
   "cell_type": "code",
   "execution_count": null,
   "id": "0e858811-43ee-469c-af74-da8130112128",
   "metadata": {},
   "outputs": [],
   "source": [
    "for i in redcap_dropdown:\n",
    "    print(i)"
   ]
  },
  {
   "cell_type": "code",
   "execution_count": null,
   "id": "d21f7d1c-f061-4f1b-bb42-1b5985915a12",
   "metadata": {},
   "outputs": [],
   "source": [
    "set(redcap_dropdown) - set(yes_no_clms)"
   ]
  },
  {
   "cell_type": "code",
   "execution_count": null,
   "id": "05c1cd94-2f65-445c-884f-fda59cb51599",
   "metadata": {},
   "outputs": [],
   "source": []
  }
 ],
 "metadata": {
  "kernelspec": {
   "display_name": "Python [conda env:transform22] *",
   "language": "python",
   "name": "conda-env-transform22-py"
  },
  "language_info": {
   "codemirror_mode": {
    "name": "ipython",
    "version": 3
   },
   "file_extension": ".py",
   "mimetype": "text/x-python",
   "name": "python",
   "nbconvert_exporter": "python",
   "pygments_lexer": "ipython3",
   "version": "3.9.12"
  }
 },
 "nbformat": 4,
 "nbformat_minor": 5
}

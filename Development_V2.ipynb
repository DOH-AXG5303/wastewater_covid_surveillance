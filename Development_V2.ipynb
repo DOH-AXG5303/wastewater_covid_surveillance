{
 "cells": [
  {
   "cell_type": "code",
   "execution_count": 1,
   "id": "012297dc-f1f7-425e-bc5f-667bf98db271",
   "metadata": {},
   "outputs": [],
   "source": [
    "# Import raw LIMS dataset\n",
    "%run -i \"lims_export_v2.py\""
   ]
  },
  {
   "cell_type": "code",
   "execution_count": 2,
   "id": "e57389c8-19c5-4965-b1dd-3ae218c65e08",
   "metadata": {},
   "outputs": [
    {
     "name": "stderr",
     "output_type": "stream",
     "text": [
      "C:\\Users\\AXG5303\\Miniconda3\\envs\\transform22\\lib\\site-packages\\pandas\\io\\sql.py:761: UserWarning: pandas only support SQLAlchemy connectable(engine/connection) ordatabase string URI or sqlite3 DBAPI2 connectionother DBAPI2 objects are not tested, please consider using SQLAlchemy\n",
      "  warnings.warn(\n"
     ]
    }
   ],
   "source": [
    "#order dependant: 1) export raw lims\n",
    "df_lims = export_df_from_LIMS()"
   ]
  },
  {
   "cell_type": "code",
   "execution_count": 3,
   "id": "43d4d229-2f3e-4e49-8fbc-cde02ac48163",
   "metadata": {},
   "outputs": [],
   "source": [
    "#order dependant: 2) filter only relavent fields\n",
    "df_lims = isolate_relavent_data(df_lims)"
   ]
  },
  {
   "cell_type": "code",
   "execution_count": null,
   "id": "df801071-4717-4131-9f3a-69e3744f0468",
   "metadata": {},
   "outputs": [],
   "source": [
    "df_lims[['ntc_amplify','pretreatment']]"
   ]
  },
  {
   "cell_type": "markdown",
   "id": "4df97cfc-e96b-4c6b-b8d2-5f0098632c69",
   "metadata": {},
   "source": [
    "#### Order independant transformations"
   ]
  },
  {
   "cell_type": "code",
   "execution_count": 4,
   "id": "31a26a78-9c77-4431-a722-b267abebffd7",
   "metadata": {},
   "outputs": [],
   "source": [
    "##### Order independant operations #####\n",
    "df_lims = convert_numeric(df_lims)\n",
    "df_lims = freetext_transform(df_lims)"
   ]
  },
  {
   "cell_type": "markdown",
   "id": "a07f0c88-03be-4c6a-8b2a-905497832765",
   "metadata": {},
   "source": [
    "#### pipeline update progress"
   ]
  },
  {
   "cell_type": "code",
   "execution_count": null,
   "id": "d4f2e05b-217e-4cb6-a392-96cbff3dc6f0",
   "metadata": {},
   "outputs": [],
   "source": [
    "### Critical convert long to wide ####\n",
    "df_lims = (\n",
    "    drop_null_sample_ID(df_lims ####COMPLETE######\n",
    "    .pipe(drop_all_but_N1_N2)#Remove full rows where PCR Target is enything except N1 or N2\n",
    "    .pipe(below_lod_to_yes_no)\n",
    "    .pipe(long_to_wide) #meat and potatos! everything not under PCRTarget N1 or N2 will not be imported\n",
    "    )\n",
    "\n",
    "####Transform lims dataframe#### \n",
    "df_lims = (\n",
    "    rename_lims_columns(df_lims) ######COMPLETE######\n",
    "    .pipe(convert_numeric) ######COMPLETE######\n",
    "    .pipe(freetext_transform) ######COMPLETE######\n",
    "    .pipe(validate_yes_no_clms)\n",
    "    .pipe(validate_choice_fields))"
   ]
  },
  {
   "cell_type": "markdown",
   "id": "a964a3b4-b9e3-4519-9eeb-b1b29ae1a679",
   "metadata": {},
   "source": []
  },
  {
   "cell_type": "code",
   "execution_count": null,
   "id": "2b579ce7-fa97-4b48-9490-abbc28486b98",
   "metadata": {},
   "outputs": [],
   "source": [
    "\n"
   ]
  },
  {
   "cell_type": "markdown",
   "id": "fb7bf0fd-a95a-4bff-85b3-53eb3f07f7be",
   "metadata": {},
   "source": [
    "# Development Cell"
   ]
  },
  {
   "cell_type": "code",
   "execution_count": 5,
   "id": "657bc3d0-710a-43b6-9906-d46b4479ccd9",
   "metadata": {},
   "outputs": [],
   "source": [
    "#the followeing fields must be in all lowercase for consistent import to Redcap.\n",
    "#Mostly yes/no values. Lims sometimes has entires such as YES/Yes/yes, or NO/No/no \n",
    "lowercase_fields = [\n",
    "                 'quality_flag',\n",
    "                 'inhibition_adjust',\n",
    "                 'ntc_amplify',\n",
    "                 'pretreatment',\n",
    "                 'inhibition_detect',\n",
    "                 'sars_cov2_below_lod',\n",
    "                    ]\n",
    "\n",
    "#standard yes/no conversion from LIMS to REDCap format\n",
    "yes_no_map = {'yes': 'Yes', 'no': 'No', 'not_tested': 'Not Tested'}\n",
    "\n",
    "choice_fields = {\n",
    "                 'quality_flag': yes_no_map,\n",
    "                 'inhibition_adjust': yes_no_map,\n",
    "                 'ntc_amplify': yes_no_map,\n",
    "                 'inhibition_detect': yes_no_map,\n",
    "                 'sars_cov2_below_lod': yes_no_map,\n",
    "                 'pretreatment': {\"yes\":1,\"no\":0}\n",
    "}\n",
    "\n",
    "def convert_to_lowercase(df_lims):\n",
    "    \"\"\"\n",
    "    \n",
    "    \"\"\"\n",
    "    \n",
    "    df_lims = df_lims.copy()\n",
    "    \n",
    "    #setting specified fields to lowercase\n",
    "    df_lims[lowercase_fields] = df_lims[lowercase_fields].apply(lambda x: x.str.lower())\n",
    "    \n",
    "    #convert choice_fields to mapped value\n",
    "    df_lims[list(choice_fields.keys())] = df_lims[choice_fields.keys()].apply(lambda x: x.map(choice_fields[x.name]) )\n",
    "    \n",
    "    \n",
    "    return df_lims"
   ]
  },
  {
   "cell_type": "code",
   "execution_count": 6,
   "id": "03160178-feed-45e1-9f6c-9d5a9a0ca9d2",
   "metadata": {},
   "outputs": [],
   "source": [
    "df_lims = convert_to_lowercase(df_lims)"
   ]
  },
  {
   "cell_type": "code",
   "execution_count": 8,
   "id": "d5001e37-0d1d-46bc-8288-d43883cfa79a",
   "metadata": {},
   "outputs": [
    {
     "data": {
      "text/plain": [
       "sample_collect_date         object\n",
       "sample_collect_time         object\n",
       "collection_water_temp      float64\n",
       "collection_storage_time    float64\n",
       "collection_storage_temp    float64\n",
       "pretreatment               float64\n",
       "pretreatment_specify        object\n",
       "equiv_sewage_amt           float64\n",
       "test_result_date            object\n",
       "flow_rate                  float64\n",
       "sars_cov2_units             object\n",
       "sars_cov2_avg_conc         float64\n",
       "sars_cov2_std_error        float64\n",
       "sars_cov2_cl_95_lo         float64\n",
       "sars_cov2_cl_95_up         float64\n",
       "sars_cov2_below_lod         object\n",
       "lod_sewage                  object\n",
       "ntc_amplify                 object\n",
       "rec_eff_percent            float64\n",
       "inhibition_detect           object\n",
       "inhibition_adjust           object\n",
       "inhibition_method           object\n",
       "concentration_method        object\n",
       "extraction_method           object\n",
       "pre_conc_storage_time      float64\n",
       "pre_conc_storage_temp       object\n",
       "pre_ext_storage_time       float64\n",
       "pre_ext_storage_temp       float64\n",
       "tot_conc_vol               float64\n",
       "quality_flag                object\n",
       "sample_id                    int64\n",
       "dtype: object"
      ]
     },
     "execution_count": 8,
     "metadata": {},
     "output_type": "execute_result"
    }
   ],
   "source": [
    "df_lims.dtypes"
   ]
  },
  {
   "cell_type": "code",
   "execution_count": null,
   "id": "d7b86249-6ca3-48b7-b914-7e4f8aa5c7c7",
   "metadata": {},
   "outputs": [],
   "source": []
  },
  {
   "cell_type": "code",
   "execution_count": null,
   "id": "d2f74e16-dfe7-494a-97a6-a2a831f76f3f",
   "metadata": {},
   "outputs": [],
   "source": [
    "def validate_yes_no_clms(df_lims):\n",
    "    \"\"\"\n",
    "    force values to either \"yes\", \"no\" or nan for the list of yes_no_clms\n",
    "    \"\"\"\n",
    "    df_lims = df_lims.copy()\n",
    "\n",
    "    di = {\n",
    "        \"Yes\": \"yes\",\n",
    "        \"No\": \"no\",\n",
    "        \"yes\":\"yes\",\n",
    "        \"no\":\"no\"\n",
    "        }\n",
    "\n",
    "    for clm in yes_no_clms:\n",
    "        df_lims[clm] = df_lims[clm].map(di)\n",
    "        \n",
    "    return df_lims\n",
    "\n",
    "def validate_choice_fields(df_lims):\n",
    "    \"\"\"\n",
    "    map values in choice columns to equivolent REDCap values\n",
    "    \"\"\"\n",
    "    df_lims = df_lims.copy()\n",
    "    \n",
    "    choice_fileds = {\n",
    "            'pretreatment':{\n",
    "                            \"yes\":1,\n",
    "                            \"no\":0\n",
    "                            },\n",
    "            'extraction_method': {'MagMAX Viral/Pathogen Nucleic Acid Isolation Kit':\"magmax\"}, #empty dict, will change all values to nan\n",
    "            'sars_cov2_units':{\n",
    "                              'Copies/L':1, #REDCAP:copies/L wastewater\n",
    "                              'Copies/g':3  #REDCAP:copies/g wet sludge\n",
    "                               },\n",
    "            'concentration_method':{\"Skim Milk Flocculation\":\"skimmilk\",\n",
    "                                   \"Ceres Nanotrap\":\"ceresnano\"}\n",
    "                    }\n",
    "    for key in choice_fileds.keys():\n",
    "        df_lims[key] = df_lims[key].map(choice_fileds[key])\n",
    "\n",
    "    for key in ['sars_cov2_units','pretreatment']:\n",
    "        df_lims[key] = df_lims[key].map(choice_fileds[key])\n",
    "        df_lims[key] = df_lims[key].astype(\"Int64\")\n",
    "        \n",
    "        \n",
    "    #force all units to be \"Copies/L wastewater\"\n",
    "    df_lims['sars_cov2_units']= 1\n",
    "        \n",
    "    return df_lims\n",
    "\n",
    "\n"
   ]
  },
  {
   "cell_type": "code",
   "execution_count": null,
   "id": "ef2ddfab-db37-4751-b611-77fb423ff8db",
   "metadata": {},
   "outputs": [],
   "source": [
    "'quality_flag': {'yes': 'Yes', 'no': 'No'}\n",
    "'inhibition_adjust': {'yes': 'Yes', 'no': 'No'},\n",
    "'ntc_amplify': {'yes': 'Yes', 'no': 'No'},#dropdown as two options yes/no in REDCap\n",
    "'pretreatment':{\"yes\":1,\"no\":0} #yesno field in redcap, must be 0 or 1 \n",
    "\n",
    "'inhibition_detect': {'yes': 'Yes', 'no': 'No', 'not_tested': 'Not Tested'},\n",
    "\n",
    "'n1_sars_cov2_below_lod': {'yes': 'Yes', 'no': 'No'},\n",
    "'n2_sars_cov2_below_lod': {'yes': 'Yes', 'no': 'No'},\n",
    "\n",
    "\n",
    "HISTORIC:\n",
    "\n",
    "yes_no_clms = [\n",
    "                 'quality_flag',\n",
    "                 'inhibition_adjust',\n",
    "                 'ntc_amplify',\n",
    "                 'pretreatment',\n",
    "                 'inhibition_detect',\n",
    "                 'sars_cov2_below_lod',\n",
    "                 'n1_sars_cov2_below_lod',\n",
    "                 'n2_sars_cov2_below_lod',\n",
    "               ]\n"
   ]
  },
  {
   "cell_type": "code",
   "execution_count": null,
   "id": "93e54283-b9e7-4ca3-8e48-a52e0cd4e416",
   "metadata": {},
   "outputs": [],
   "source": [
    "\n",
    "token = \"AB21CE90EF475E08AC11F92105A39690\"\n",
    "url = 'https://redcap.doh.wa.gov/api/'\n",
    "meta = redcap_metadata_export(url,token)"
   ]
  },
  {
   "cell_type": "code",
   "execution_count": null,
   "id": "2f77405d-9b6a-4eef-8b91-750787490db1",
   "metadata": {},
   "outputs": [],
   "source": [
    "accpted = accepted_redcap_fields(meta)"
   ]
  },
  {
   "cell_type": "code",
   "execution_count": null,
   "id": "7a14a703-9225-4fd4-9dce-9df1f1a3e64e",
   "metadata": {},
   "outputs": [],
   "source": [
    "{i:j for i,j in accpted.items() if i in set(dict_lims_column_map.values())}"
   ]
  },
  {
   "cell_type": "code",
   "execution_count": null,
   "id": "6884420e-e28c-4ba8-8afa-5ec1ea28ca26",
   "metadata": {},
   "outputs": [],
   "source": [
    "meta.loc[\"ntc_amplify\"]"
   ]
  },
  {
   "cell_type": "code",
   "execution_count": null,
   "id": "d36f97c9-8c4f-4fc5-ba59-259beb9fe5f4",
   "metadata": {},
   "outputs": [],
   "source": [
    "meta.loc[\"pretreatment\"]"
   ]
  },
  {
   "cell_type": "code",
   "execution_count": null,
   "id": "d357837c-5d1c-45e4-beee-64222ae52e1b",
   "metadata": {},
   "outputs": [],
   "source": [
    "token = \"AB21CE90EF475E08AC11F92105A39690\"\n",
    "url = 'https://redcap.doh.wa.gov/api/'\n",
    "\n",
    "pycap_prjc = redcap.Project(url,token)"
   ]
  },
  {
   "cell_type": "code",
   "execution_count": null,
   "id": "224d1886-3f89-4ef2-a3cc-0d6049a11a1e",
   "metadata": {},
   "outputs": [],
   "source": [
    "pycap_meta = pycap_prjc.export_metadata(format = \"df\")"
   ]
  },
  {
   "cell_type": "code",
   "execution_count": null,
   "id": "bf16381d-a324-4954-8c10-d4f484fb3d70",
   "metadata": {},
   "outputs": [],
   "source": [
    "pycap_meta.loc[\"ntc_amplify\"]"
   ]
  },
  {
   "cell_type": "code",
   "execution_count": null,
   "id": "47b821d9-4f5e-4aa4-b1b4-1f3023f057bc",
   "metadata": {},
   "outputs": [],
   "source": [
    "pycap_meta.loc[\"pretreatment\"]"
   ]
  },
  {
   "cell_type": "code",
   "execution_count": null,
   "id": "83966546-eaf2-4499-8353-8760e57c6af5",
   "metadata": {},
   "outputs": [],
   "source": [
    "pycap_meta[pycap_meta[\"field_type\"] == \"yesno\"]"
   ]
  },
  {
   "cell_type": "code",
   "execution_count": null,
   "id": "4991051a-26d9-463e-91e6-67534b4ec687",
   "metadata": {},
   "outputs": [],
   "source": [
    "pycap_meta[\"field_type\"].value_counts()"
   ]
  },
  {
   "cell_type": "code",
   "execution_count": null,
   "id": "9e261253-15c9-484c-9af4-6c08a4ca188b",
   "metadata": {},
   "outputs": [],
   "source": [
    "pycap_meta[pycap_meta[\"field_type\"] == \"sql\"]"
   ]
  },
  {
   "cell_type": "code",
   "execution_count": null,
   "id": "1bee24d3-42a3-41e2-9abe-c4ef5fac5c1c",
   "metadata": {},
   "outputs": [],
   "source": [
    "pycap_meta[pycap_meta[\"field_type\"] == \"radio\"]"
   ]
  },
  {
   "cell_type": "code",
   "execution_count": null,
   "id": "b9829532-29fe-4c4c-9998-3fb27d04a57b",
   "metadata": {},
   "outputs": [],
   "source": []
  },
  {
   "cell_type": "markdown",
   "id": "cfe16978-0994-46da-b7fa-339219e8d96d",
   "metadata": {},
   "source": [
    "# Scratch Sheet"
   ]
  },
  {
   "cell_type": "code",
   "execution_count": null,
   "id": "cf6b7fa0-fd22-4b24-970c-827a067ae203",
   "metadata": {},
   "outputs": [],
   "source": [
    "import redcap\n",
    "#credentials for PID171\n",
    "token = \"AB21CE90EF475E08AC11F92105A39690\"\n",
    "url = 'https://redcap.doh.wa.gov/api/'\n",
    "\n",
    "#Create Project objects\n",
    "project = redcap.Project(url,token)\n"
   ]
  },
  {
   "cell_type": "code",
   "execution_count": null,
   "id": "e0bf5123-7c88-4de7-a1d6-a4a3681f3852",
   "metadata": {},
   "outputs": [],
   "source": [
    "def describe_fields(project):\n",
    "    \"\"\"\n",
    "    create a summary dataframe to describe every standard field from default API export\n",
    "    \n",
    "    args:\n",
    "        pycap Project object\n",
    "    return:\n",
    "        Dataframe\n",
    "        \n",
    "    \"\"\"  \n",
    "    df_fields = project.export_field_names(format_type = \"df\")\n",
    "    df_meta = project.export_metadata(format_type = \"df\")\n",
    "    \n",
    "    #set aside choice fields Series\n",
    "    choice_fields = df_meta[df_meta[\"field_type\"].isin(['dropdown', 'radio', 'checkbox'])][\"select_choices_or_calculations\"].copy()#select field type \"dropdown\",\"radio\", \"checkbox\"\n",
    "    choice_fields = choice_fields[choice_fields.notnull()] #remove possibility of NA fields\n",
    "\n",
    "    #drop the first row, it is the index of dataframe export (unique identified: record_id, sample_id)\n",
    "    df_meta = df_meta.drop(df_meta.index[0])\n",
    "    df_fields = df_fields.drop(df_fields.index[0])\n",
    "\n",
    "    #only need 2 fields from metadata export\n",
    "    df_meta = df_meta[[\"form_name\", \"field_type\"]].copy()\n",
    "\n",
    "    #combine fields from metadata and from export_field_names \n",
    "    df_fields_2 = df_fields.join(df_meta)\n",
    "    \n",
    "    #add field names that have type \"file\" (from metadata)\n",
    "    files_df = df_meta[df_meta[\"field_type\"] == \"file\"].copy()\n",
    "    files_df['export_field_name'] = files_df.index\n",
    "    df_fields_3 = pd.concat([df_fields_2, files_df])\n",
    "    \n",
    "    #set index to export_field_name\n",
    "    df_fields_3 = df_fields_3.set_index(\"export_field_name\")\n",
    "    \n",
    "    ##### add a new columns: str(dict) of possible choices for multiple choice fields####\n",
    "    fields_dict = {}\n",
    "    for i in choice_fields.iteritems():\n",
    "\n",
    "        string_to_process = i[1] #the value element of the series (as opposed to index element)\n",
    "        list_of_strings = string_to_process.split(\"|\") # split the string \n",
    "        keys_values_list = [i.split(\", \", 1) for i in list_of_strings]# split each list once for list of lists [key, values]\n",
    "        values_dict = {t[0]:t[1] for t in keys_values_list} #dictionary of key value pairs\n",
    "        fields_dict[i[0]] =  str(values_dict)\n",
    "\n",
    "    choice_fields_series = pd.Series(fields_dict)\n",
    "\n",
    "    complete = pd.concat([df_fields_3 ,choice_fields_series.to_frame(\"Choice Values\")], axis = 1)\n",
    "    \n",
    "    ## add special case for multiple choice fields - \"yesno\" field type \n",
    "    yesno_dict = {\"1\":\"Yes\", \"0\":\"No\"}\n",
    "    yesno_index = df_meta[df_meta[\"field_type\"] == \"yesno\"].index\n",
    "    yesno_series = pd.Series(str(yesno_dict), yesno_index) #create series, yes/values and index for all yesno field type\n",
    "    yesno_frame = yesno_series.to_frame(\"Choice Values\")\n",
    "    \n",
    "    df_joined = complete.join(yesno_frame, lsuffix='_l', rsuffix='_r')\n",
    "    \n",
    "    complete[\"Choice Values\"] = df_joined[\"Choice Values_l\"].fillna(df_joined[\"Choice Values_r\"])\n",
    "    \n",
    "    return complete\n"
   ]
  },
  {
   "cell_type": "code",
   "execution_count": null,
   "id": "491234c0-c28a-4e34-ad46-b88bb6524c92",
   "metadata": {},
   "outputs": [],
   "source": [
    "df = describe_fields(project)"
   ]
  },
  {
   "cell_type": "code",
   "execution_count": null,
   "id": "b35f6b3f-b7a5-49d9-9ca8-f1b61142edbf",
   "metadata": {},
   "outputs": [],
   "source": [
    "yes_no_clms = [\n",
    "                 'quality_flag',\n",
    "                 'inhibition_adjust',\n",
    "                 'ntc_amplify',\n",
    "                 'pretreatment',\n",
    "                 'inhibition_detect',\n",
    "                 'sars_cov2_below_lod',\n",
    "                 'n1_sars_cov2_below_lod',\n",
    "                 'n2_sars_cov2_below_lod',\n",
    "               ]\n"
   ]
  },
  {
   "cell_type": "code",
   "execution_count": null,
   "id": "bacc4bd4-2895-4678-a028-8726ac6d1c4e",
   "metadata": {},
   "outputs": [],
   "source": [
    "df[df.index.isin(yes_no_clms)]"
   ]
  },
  {
   "cell_type": "code",
   "execution_count": null,
   "id": "1a3d9839-994e-49d6-8e64-87e688a80bed",
   "metadata": {},
   "outputs": [],
   "source": [
    "df[df[\"field_type\"] == \"dropdown\"]"
   ]
  },
  {
   "cell_type": "code",
   "execution_count": null,
   "id": "4541c33c-1c7c-4045-a689-2226e3aa0840",
   "metadata": {},
   "outputs": [],
   "source": [
    "\n",
    "redcap_dropdown = ['sars_cov2_units', 'n1_sars_cov2_below_lod', 'n2_sars_cov2_below_lod',\n",
    "                   'ntc_amplify', 'inhibition_detect', 'inhibition_adjust',\n",
    "                   'concentration_method', 'extraction_method', 'hum_frac_mic_unit',\n",
    "                   'other_norm_unit', 'quality_flag']"
   ]
  },
  {
   "cell_type": "code",
   "execution_count": null,
   "id": "0e858811-43ee-469c-af74-da8130112128",
   "metadata": {},
   "outputs": [],
   "source": [
    "for i in redcap_dropdown:\n",
    "    print(i)"
   ]
  },
  {
   "cell_type": "code",
   "execution_count": null,
   "id": "d21f7d1c-f061-4f1b-bb42-1b5985915a12",
   "metadata": {},
   "outputs": [],
   "source": [
    "set(redcap_dropdown) - set(yes_no_clms)"
   ]
  },
  {
   "cell_type": "code",
   "execution_count": null,
   "id": "05c1cd94-2f65-445c-884f-fda59cb51599",
   "metadata": {},
   "outputs": [],
   "source": []
  }
 ],
 "metadata": {
  "kernelspec": {
   "display_name": "Python [conda env:transform22] *",
   "language": "python",
   "name": "conda-env-transform22-py"
  },
  "language_info": {
   "codemirror_mode": {
    "name": "ipython",
    "version": 3
   },
   "file_extension": ".py",
   "mimetype": "text/x-python",
   "name": "python",
   "nbconvert_exporter": "python",
   "pygments_lexer": "ipython3",
   "version": "3.9.12"
  }
 },
 "nbformat": 4,
 "nbformat_minor": 5
}
